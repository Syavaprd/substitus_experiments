{
 "cells": [
  {
   "cell_type": "markdown",
   "metadata": {},
   "source": [
    "# Read Data"
   ]
  },
  {
   "cell_type": "code",
   "execution_count": null,
   "metadata": {},
   "outputs": [],
   "source": [
    "PATH = './'"
   ]
  },
  {
   "cell_type": "code",
   "execution_count": 135,
   "metadata": {},
   "outputs": [],
   "source": [
    "import pandas as pd\n",
    "import os\n",
    "import optuna\n",
    "train_df = pd.read_csv(f'{PATH}final_log_df_train.csv')\n",
    "dev_df = pd.read_csv(f'{PATH}final_log_df_dev.csv')\n",
    "train_column_rename = {}\n",
    "for col in train_df.columns:\n",
    "    new_column_name = col.replace('train', '')\n",
    "    train_column_rename[col] = new_column_name\n",
    "train_df.rename(columns=train_column_rename, inplace=True)\n",
    "train_df['tag'] = train_df['tag'].map({'T': 1, 'F':0})\n",
    "dev_df['tag'] = dev_df['tag'].map({'T': 1, 'F':0})\n",
    "dev_column_rename = {}\n",
    "for col in dev_df.columns:\n",
    "    new_column_name = col.replace('dev', '')\n",
    "    dev_column_rename[col] = new_column_name\n",
    "dev_df.rename(columns=dev_column_rename, inplace=True)"
   ]
  },
  {
   "cell_type": "code",
   "execution_count": 136,
   "metadata": {},
   "outputs": [
    {
     "data": {
      "text/html": [
       "<div>\n",
       "<style scoped>\n",
       "    .dataframe tbody tr th:only-of-type {\n",
       "        vertical-align: middle;\n",
       "    }\n",
       "\n",
       "    .dataframe tbody tr th {\n",
       "        vertical-align: top;\n",
       "    }\n",
       "\n",
       "    .dataframe thead th {\n",
       "        text-align: right;\n",
       "    }\n",
       "</style>\n",
       "<table border=\"1\" class=\"dataframe\">\n",
       "  <thead>\n",
       "    <tr style=\"text-align: right;\">\n",
       "      <th></th>\n",
       "      <th>xlmr-baseline.metric=IoU.post_process=post_process_lemm.kmasks_1=3+&lt;mask&gt;-(and-also-T)-2ltr1f_topk500_fixspacesTruelemmIoUforLog+0.0++0.0+_</th>\n",
       "      <th>tag</th>\n",
       "      <th>xlmr-baseline.metric=IoU.post_process=post_process_lemm.kmasks_1=8+&lt;mask&gt;-(and-also-T)-2ltr1f_topk500_fixspacesTruelemmIoUforLog+0.0++0.0+_</th>\n",
       "      <th>xlmr-baseline.metric=IoU.post_process=post_process_lemm.kmasks_1=16+&lt;mask&gt;-(and-also-T)-2ltr1f_topk500_fixspacesTruelemmIoUforLog+0.0++0.0+_</th>\n",
       "      <th>xlmr-baseline.metric=IoU.post_process=post_process_lemm.kmasks_1=32+&lt;mask&gt;-(and-also-T)-2ltr1f_topk500_fixspacesTruelemmIoUforLog+0.0++0.0+_</th>\n",
       "      <th>xlmr-baseline.metric=IoU.post_process=post_process_lemm.kmasks_1=60+&lt;mask&gt;-(and-also-T)-2ltr1f_topk500_fixspacesTruelemmIoUforLog+0.0++0.0+_</th>\n",
       "      <th>xlmr-baseline.metric=IoU.post_process=post_process_lemm.kmasks_1=75+&lt;mask&gt;-(and-also-T)-2ltr1f_topk500_fixspacesTruelemmIoUforLog+0.0++0.0+_</th>\n",
       "      <th>xlmr-baseline.metric=IoU.post_process=post_process_lemm.kmasks_1=100+&lt;mask&gt;-(and-also-T)-2ltr1f_topk500_fixspacesTruelemmIoUforLog+0.0++0.0+_</th>\n",
       "      <th>xlmr-baseline.metric=IoU.post_process=post_process_lemm.kmasks_1=115+&lt;mask&gt;-(and-also-T)-2ltr1f_topk500_fixspacesTruelemmIoUforLog+0.0++0.0+_</th>\n",
       "      <th>xlmr-baseline.metric=IoU.post_process=post_process_lemm.kmasks_1=130+&lt;mask&gt;-(and-also-T)-2ltr1f_topk500_fixspacesTruelemmIoUforLog+0.0++0.0+_</th>\n",
       "      <th>...</th>\n",
       "      <th>xlmr-baseline.metric=IoU.post_process=post_process_lemm.kmasks_1=16+T-or-&lt;mask&gt;&lt;mask&gt;&lt;mask&gt;-2ltr3f_topk500_fixspacesTruelemmIoUforLog+0.0+_</th>\n",
       "      <th>xlmr-baseline.metric=IoU.post_process=post_process_lemm.kmasks_1=32+T-or-&lt;mask&gt;&lt;mask&gt;&lt;mask&gt;-2ltr3f_topk500_fixspacesTruelemmIoUforLog+0.0+_</th>\n",
       "      <th>xlmr-baseline.metric=IoU.post_process=post_process_lemm.kmasks_1=60+T-or-&lt;mask&gt;&lt;mask&gt;&lt;mask&gt;-2ltr3f_topk500_fixspacesTruelemmIoUforLog+0.0+_</th>\n",
       "      <th>xlmr-baseline.metric=IoU.post_process=post_process_lemm.kmasks_1=75+T-or-&lt;mask&gt;&lt;mask&gt;&lt;mask&gt;-2ltr3f_topk500_fixspacesTruelemmIoUforLog+0.0+_</th>\n",
       "      <th>xlmr-baseline.metric=IoU.post_process=post_process_lemm.kmasks_1=100+T-or-&lt;mask&gt;&lt;mask&gt;&lt;mask&gt;-2ltr3f_topk500_fixspacesTruelemmIoUforLog+0.0+_</th>\n",
       "      <th>xlmr-baseline.metric=IoU.post_process=post_process_lemm.kmasks_1=115+T-or-&lt;mask&gt;&lt;mask&gt;&lt;mask&gt;-2ltr3f_topk500_fixspacesTruelemmIoUforLog+0.0+_</th>\n",
       "      <th>xlmr-baseline.metric=IoU.post_process=post_process_lemm.kmasks_1=130+T-or-&lt;mask&gt;&lt;mask&gt;&lt;mask&gt;-2ltr3f_topk500_fixspacesTruelemmIoUforLog+0.0+_</th>\n",
       "      <th>xlmr-baseline.metric=IoU.post_process=post_process_lemm.kmasks_1=150+T-or-&lt;mask&gt;&lt;mask&gt;&lt;mask&gt;-2ltr3f_topk500_fixspacesTruelemmIoUforLog+0.0+_</th>\n",
       "      <th>xlmr-baseline.metric=IoU.post_process=post_process_lemm.kmasks_1=175+T-or-&lt;mask&gt;&lt;mask&gt;&lt;mask&gt;-2ltr3f_topk500_fixspacesTruelemmIoUforLog+0.0+_</th>\n",
       "      <th>xlmr-baseline.metric=IoU.post_process=post_process_lemm.kmasks_1=240+T-or-&lt;mask&gt;&lt;mask&gt;&lt;mask&gt;-2ltr3f_topk500_fixspacesTruelemmIoUforLog+0.0+_</th>\n",
       "    </tr>\n",
       "  </thead>\n",
       "  <tbody>\n",
       "    <tr>\n",
       "      <th>0</th>\n",
       "      <td>0.0</td>\n",
       "      <td>0</td>\n",
       "      <td>0.066667</td>\n",
       "      <td>0.142857</td>\n",
       "      <td>0.185185</td>\n",
       "      <td>0.263158</td>\n",
       "      <td>0.250000</td>\n",
       "      <td>0.234568</td>\n",
       "      <td>0.229947</td>\n",
       "      <td>0.244019</td>\n",
       "      <td>...</td>\n",
       "      <td>0.066667</td>\n",
       "      <td>0.066667</td>\n",
       "      <td>0.052632</td>\n",
       "      <td>0.056338</td>\n",
       "      <td>0.047120</td>\n",
       "      <td>0.045455</td>\n",
       "      <td>0.052632</td>\n",
       "      <td>0.060071</td>\n",
       "      <td>0.067073</td>\n",
       "      <td>0.071429</td>\n",
       "    </tr>\n",
       "    <tr>\n",
       "      <th>1</th>\n",
       "      <td>0.2</td>\n",
       "      <td>1</td>\n",
       "      <td>0.230769</td>\n",
       "      <td>0.391304</td>\n",
       "      <td>0.306122</td>\n",
       "      <td>0.379310</td>\n",
       "      <td>0.351351</td>\n",
       "      <td>0.315789</td>\n",
       "      <td>0.299435</td>\n",
       "      <td>0.333333</td>\n",
       "      <td>...</td>\n",
       "      <td>0.103448</td>\n",
       "      <td>0.066667</td>\n",
       "      <td>0.061947</td>\n",
       "      <td>0.102941</td>\n",
       "      <td>0.123596</td>\n",
       "      <td>0.116505</td>\n",
       "      <td>0.111111</td>\n",
       "      <td>0.111111</td>\n",
       "      <td>0.104101</td>\n",
       "      <td>0.116279</td>\n",
       "    </tr>\n",
       "    <tr>\n",
       "      <th>2</th>\n",
       "      <td>0.0</td>\n",
       "      <td>0</td>\n",
       "      <td>0.000000</td>\n",
       "      <td>0.000000</td>\n",
       "      <td>0.000000</td>\n",
       "      <td>0.008403</td>\n",
       "      <td>0.006711</td>\n",
       "      <td>0.036269</td>\n",
       "      <td>0.031390</td>\n",
       "      <td>0.031746</td>\n",
       "      <td>...</td>\n",
       "      <td>0.032258</td>\n",
       "      <td>0.015873</td>\n",
       "      <td>0.043478</td>\n",
       "      <td>0.056338</td>\n",
       "      <td>0.092896</td>\n",
       "      <td>0.090047</td>\n",
       "      <td>0.101695</td>\n",
       "      <td>0.098901</td>\n",
       "      <td>0.090343</td>\n",
       "      <td>0.098398</td>\n",
       "    </tr>\n",
       "    <tr>\n",
       "      <th>3</th>\n",
       "      <td>0.0</td>\n",
       "      <td>0</td>\n",
       "      <td>0.000000</td>\n",
       "      <td>0.000000</td>\n",
       "      <td>0.000000</td>\n",
       "      <td>0.000000</td>\n",
       "      <td>0.000000</td>\n",
       "      <td>0.025641</td>\n",
       "      <td>0.040724</td>\n",
       "      <td>0.044177</td>\n",
       "      <td>...</td>\n",
       "      <td>0.000000</td>\n",
       "      <td>0.015873</td>\n",
       "      <td>0.034483</td>\n",
       "      <td>0.034483</td>\n",
       "      <td>0.063830</td>\n",
       "      <td>0.069767</td>\n",
       "      <td>0.061224</td>\n",
       "      <td>0.067616</td>\n",
       "      <td>0.057402</td>\n",
       "      <td>0.073826</td>\n",
       "    </tr>\n",
       "    <tr>\n",
       "      <th>4</th>\n",
       "      <td>0.0</td>\n",
       "      <td>1</td>\n",
       "      <td>0.066667</td>\n",
       "      <td>0.103448</td>\n",
       "      <td>0.230769</td>\n",
       "      <td>0.276596</td>\n",
       "      <td>0.271186</td>\n",
       "      <td>0.265823</td>\n",
       "      <td>0.299435</td>\n",
       "      <td>0.306533</td>\n",
       "      <td>...</td>\n",
       "      <td>0.066667</td>\n",
       "      <td>0.122807</td>\n",
       "      <td>0.176471</td>\n",
       "      <td>0.181102</td>\n",
       "      <td>0.149425</td>\n",
       "      <td>0.138614</td>\n",
       "      <td>0.130435</td>\n",
       "      <td>0.132075</td>\n",
       "      <td>0.155116</td>\n",
       "      <td>0.156627</td>\n",
       "    </tr>\n",
       "    <tr>\n",
       "      <th>...</th>\n",
       "      <td>...</td>\n",
       "      <td>...</td>\n",
       "      <td>...</td>\n",
       "      <td>...</td>\n",
       "      <td>...</td>\n",
       "      <td>...</td>\n",
       "      <td>...</td>\n",
       "      <td>...</td>\n",
       "      <td>...</td>\n",
       "      <td>...</td>\n",
       "      <td>...</td>\n",
       "      <td>...</td>\n",
       "      <td>...</td>\n",
       "      <td>...</td>\n",
       "      <td>...</td>\n",
       "      <td>...</td>\n",
       "      <td>...</td>\n",
       "      <td>...</td>\n",
       "      <td>...</td>\n",
       "      <td>...</td>\n",
       "      <td>...</td>\n",
       "    </tr>\n",
       "    <tr>\n",
       "      <th>995</th>\n",
       "      <td>0.0</td>\n",
       "      <td>1</td>\n",
       "      <td>0.066667</td>\n",
       "      <td>0.103448</td>\n",
       "      <td>0.122807</td>\n",
       "      <td>0.188119</td>\n",
       "      <td>0.181102</td>\n",
       "      <td>0.197605</td>\n",
       "      <td>0.204188</td>\n",
       "      <td>0.198157</td>\n",
       "      <td>...</td>\n",
       "      <td>0.185185</td>\n",
       "      <td>0.207547</td>\n",
       "      <td>0.153846</td>\n",
       "      <td>0.145038</td>\n",
       "      <td>0.169591</td>\n",
       "      <td>0.167513</td>\n",
       "      <td>0.176471</td>\n",
       "      <td>0.162791</td>\n",
       "      <td>0.178451</td>\n",
       "      <td>0.203008</td>\n",
       "    </tr>\n",
       "    <tr>\n",
       "      <th>996</th>\n",
       "      <td>0.0</td>\n",
       "      <td>0</td>\n",
       "      <td>0.000000</td>\n",
       "      <td>0.000000</td>\n",
       "      <td>0.015873</td>\n",
       "      <td>0.081081</td>\n",
       "      <td>0.094891</td>\n",
       "      <td>0.104972</td>\n",
       "      <td>0.121951</td>\n",
       "      <td>0.155556</td>\n",
       "      <td>...</td>\n",
       "      <td>0.000000</td>\n",
       "      <td>0.000000</td>\n",
       "      <td>0.025641</td>\n",
       "      <td>0.034722</td>\n",
       "      <td>0.025773</td>\n",
       "      <td>0.026906</td>\n",
       "      <td>0.031873</td>\n",
       "      <td>0.027491</td>\n",
       "      <td>0.026471</td>\n",
       "      <td>0.036797</td>\n",
       "    </tr>\n",
       "    <tr>\n",
       "      <th>997</th>\n",
       "      <td>0.0</td>\n",
       "      <td>0</td>\n",
       "      <td>0.000000</td>\n",
       "      <td>0.000000</td>\n",
       "      <td>0.015873</td>\n",
       "      <td>0.132075</td>\n",
       "      <td>0.145038</td>\n",
       "      <td>0.149425</td>\n",
       "      <td>0.167513</td>\n",
       "      <td>0.171171</td>\n",
       "      <td>...</td>\n",
       "      <td>0.032258</td>\n",
       "      <td>0.015873</td>\n",
       "      <td>0.034483</td>\n",
       "      <td>0.034483</td>\n",
       "      <td>0.031088</td>\n",
       "      <td>0.031532</td>\n",
       "      <td>0.031873</td>\n",
       "      <td>0.027491</td>\n",
       "      <td>0.029499</td>\n",
       "      <td>0.036876</td>\n",
       "    </tr>\n",
       "    <tr>\n",
       "      <th>998</th>\n",
       "      <td>0.0</td>\n",
       "      <td>1</td>\n",
       "      <td>0.000000</td>\n",
       "      <td>0.000000</td>\n",
       "      <td>0.015873</td>\n",
       "      <td>0.025641</td>\n",
       "      <td>0.034483</td>\n",
       "      <td>0.036269</td>\n",
       "      <td>0.045455</td>\n",
       "      <td>0.052632</td>\n",
       "      <td>...</td>\n",
       "      <td>0.032258</td>\n",
       "      <td>0.066667</td>\n",
       "      <td>0.072072</td>\n",
       "      <td>0.079710</td>\n",
       "      <td>0.064516</td>\n",
       "      <td>0.060465</td>\n",
       "      <td>0.061728</td>\n",
       "      <td>0.068100</td>\n",
       "      <td>0.070769</td>\n",
       "      <td>0.086364</td>\n",
       "    </tr>\n",
       "    <tr>\n",
       "      <th>999</th>\n",
       "      <td>0.0</td>\n",
       "      <td>0</td>\n",
       "      <td>0.000000</td>\n",
       "      <td>0.066667</td>\n",
       "      <td>0.207547</td>\n",
       "      <td>0.304348</td>\n",
       "      <td>0.339286</td>\n",
       "      <td>0.398601</td>\n",
       "      <td>0.419753</td>\n",
       "      <td>0.460674</td>\n",
       "      <td>...</td>\n",
       "      <td>0.000000</td>\n",
       "      <td>0.015873</td>\n",
       "      <td>0.062500</td>\n",
       "      <td>0.064286</td>\n",
       "      <td>0.076087</td>\n",
       "      <td>0.096154</td>\n",
       "      <td>0.088983</td>\n",
       "      <td>0.100000</td>\n",
       "      <td>0.091195</td>\n",
       "      <td>0.101617</td>\n",
       "    </tr>\n",
       "  </tbody>\n",
       "</table>\n",
       "<p>1000 rows × 577 columns</p>\n",
       "</div>"
      ],
      "text/plain": [
       "     xlmr-baseline.metric=IoU.post_process=post_process_lemm.kmasks_1=3+<mask>-(and-also-T)-2ltr1f_topk500_fixspacesTruelemmIoUforLog+0.0++0.0+_  \\\n",
       "0                                                  0.0                                                                                             \n",
       "1                                                  0.2                                                                                             \n",
       "2                                                  0.0                                                                                             \n",
       "3                                                  0.0                                                                                             \n",
       "4                                                  0.0                                                                                             \n",
       "..                                                 ...                                                                                             \n",
       "995                                                0.0                                                                                             \n",
       "996                                                0.0                                                                                             \n",
       "997                                                0.0                                                                                             \n",
       "998                                                0.0                                                                                             \n",
       "999                                                0.0                                                                                             \n",
       "\n",
       "     tag  \\\n",
       "0      0   \n",
       "1      1   \n",
       "2      0   \n",
       "3      0   \n",
       "4      1   \n",
       "..   ...   \n",
       "995    1   \n",
       "996    0   \n",
       "997    0   \n",
       "998    1   \n",
       "999    0   \n",
       "\n",
       "     xlmr-baseline.metric=IoU.post_process=post_process_lemm.kmasks_1=8+<mask>-(and-also-T)-2ltr1f_topk500_fixspacesTruelemmIoUforLog+0.0++0.0+_  \\\n",
       "0                                             0.066667                                                                                             \n",
       "1                                             0.230769                                                                                             \n",
       "2                                             0.000000                                                                                             \n",
       "3                                             0.000000                                                                                             \n",
       "4                                             0.066667                                                                                             \n",
       "..                                                 ...                                                                                             \n",
       "995                                           0.066667                                                                                             \n",
       "996                                           0.000000                                                                                             \n",
       "997                                           0.000000                                                                                             \n",
       "998                                           0.000000                                                                                             \n",
       "999                                           0.000000                                                                                             \n",
       "\n",
       "     xlmr-baseline.metric=IoU.post_process=post_process_lemm.kmasks_1=16+<mask>-(and-also-T)-2ltr1f_topk500_fixspacesTruelemmIoUforLog+0.0++0.0+_  \\\n",
       "0                                             0.142857                                                                                              \n",
       "1                                             0.391304                                                                                              \n",
       "2                                             0.000000                                                                                              \n",
       "3                                             0.000000                                                                                              \n",
       "4                                             0.103448                                                                                              \n",
       "..                                                 ...                                                                                              \n",
       "995                                           0.103448                                                                                              \n",
       "996                                           0.000000                                                                                              \n",
       "997                                           0.000000                                                                                              \n",
       "998                                           0.000000                                                                                              \n",
       "999                                           0.066667                                                                                              \n",
       "\n",
       "     xlmr-baseline.metric=IoU.post_process=post_process_lemm.kmasks_1=32+<mask>-(and-also-T)-2ltr1f_topk500_fixspacesTruelemmIoUforLog+0.0++0.0+_  \\\n",
       "0                                             0.185185                                                                                              \n",
       "1                                             0.306122                                                                                              \n",
       "2                                             0.000000                                                                                              \n",
       "3                                             0.000000                                                                                              \n",
       "4                                             0.230769                                                                                              \n",
       "..                                                 ...                                                                                              \n",
       "995                                           0.122807                                                                                              \n",
       "996                                           0.015873                                                                                              \n",
       "997                                           0.015873                                                                                              \n",
       "998                                           0.015873                                                                                              \n",
       "999                                           0.207547                                                                                              \n",
       "\n",
       "     xlmr-baseline.metric=IoU.post_process=post_process_lemm.kmasks_1=60+<mask>-(and-also-T)-2ltr1f_topk500_fixspacesTruelemmIoUforLog+0.0++0.0+_  \\\n",
       "0                                             0.263158                                                                                              \n",
       "1                                             0.379310                                                                                              \n",
       "2                                             0.008403                                                                                              \n",
       "3                                             0.000000                                                                                              \n",
       "4                                             0.276596                                                                                              \n",
       "..                                                 ...                                                                                              \n",
       "995                                           0.188119                                                                                              \n",
       "996                                           0.081081                                                                                              \n",
       "997                                           0.132075                                                                                              \n",
       "998                                           0.025641                                                                                              \n",
       "999                                           0.304348                                                                                              \n",
       "\n",
       "     xlmr-baseline.metric=IoU.post_process=post_process_lemm.kmasks_1=75+<mask>-(and-also-T)-2ltr1f_topk500_fixspacesTruelemmIoUforLog+0.0++0.0+_  \\\n",
       "0                                             0.250000                                                                                              \n",
       "1                                             0.351351                                                                                              \n",
       "2                                             0.006711                                                                                              \n",
       "3                                             0.000000                                                                                              \n",
       "4                                             0.271186                                                                                              \n",
       "..                                                 ...                                                                                              \n",
       "995                                           0.181102                                                                                              \n",
       "996                                           0.094891                                                                                              \n",
       "997                                           0.145038                                                                                              \n",
       "998                                           0.034483                                                                                              \n",
       "999                                           0.339286                                                                                              \n",
       "\n",
       "     xlmr-baseline.metric=IoU.post_process=post_process_lemm.kmasks_1=100+<mask>-(and-also-T)-2ltr1f_topk500_fixspacesTruelemmIoUforLog+0.0++0.0+_  \\\n",
       "0                                             0.234568                                                                                               \n",
       "1                                             0.315789                                                                                               \n",
       "2                                             0.036269                                                                                               \n",
       "3                                             0.025641                                                                                               \n",
       "4                                             0.265823                                                                                               \n",
       "..                                                 ...                                                                                               \n",
       "995                                           0.197605                                                                                               \n",
       "996                                           0.104972                                                                                               \n",
       "997                                           0.149425                                                                                               \n",
       "998                                           0.036269                                                                                               \n",
       "999                                           0.398601                                                                                               \n",
       "\n",
       "     xlmr-baseline.metric=IoU.post_process=post_process_lemm.kmasks_1=115+<mask>-(and-also-T)-2ltr1f_topk500_fixspacesTruelemmIoUforLog+0.0++0.0+_  \\\n",
       "0                                             0.229947                                                                                               \n",
       "1                                             0.299435                                                                                               \n",
       "2                                             0.031390                                                                                               \n",
       "3                                             0.040724                                                                                               \n",
       "4                                             0.299435                                                                                               \n",
       "..                                                 ...                                                                                               \n",
       "995                                           0.204188                                                                                               \n",
       "996                                           0.121951                                                                                               \n",
       "997                                           0.167513                                                                                               \n",
       "998                                           0.045455                                                                                               \n",
       "999                                           0.419753                                                                                               \n",
       "\n",
       "     xlmr-baseline.metric=IoU.post_process=post_process_lemm.kmasks_1=130+<mask>-(and-also-T)-2ltr1f_topk500_fixspacesTruelemmIoUforLog+0.0++0.0+_  \\\n",
       "0                                             0.244019                                                                                               \n",
       "1                                             0.333333                                                                                               \n",
       "2                                             0.031746                                                                                               \n",
       "3                                             0.044177                                                                                               \n",
       "4                                             0.306533                                                                                               \n",
       "..                                                 ...                                                                                               \n",
       "995                                           0.198157                                                                                               \n",
       "996                                           0.155556                                                                                               \n",
       "997                                           0.171171                                                                                               \n",
       "998                                           0.052632                                                                                               \n",
       "999                                           0.460674                                                                                               \n",
       "\n",
       "     ...  \\\n",
       "0    ...   \n",
       "1    ...   \n",
       "2    ...   \n",
       "3    ...   \n",
       "4    ...   \n",
       "..   ...   \n",
       "995  ...   \n",
       "996  ...   \n",
       "997  ...   \n",
       "998  ...   \n",
       "999  ...   \n",
       "\n",
       "     xlmr-baseline.metric=IoU.post_process=post_process_lemm.kmasks_1=16+T-or-<mask><mask><mask>-2ltr3f_topk500_fixspacesTruelemmIoUforLog+0.0+_  \\\n",
       "0                                             0.066667                                                                                             \n",
       "1                                             0.103448                                                                                             \n",
       "2                                             0.032258                                                                                             \n",
       "3                                             0.000000                                                                                             \n",
       "4                                             0.066667                                                                                             \n",
       "..                                                 ...                                                                                             \n",
       "995                                           0.185185                                                                                             \n",
       "996                                           0.000000                                                                                             \n",
       "997                                           0.032258                                                                                             \n",
       "998                                           0.032258                                                                                             \n",
       "999                                           0.000000                                                                                             \n",
       "\n",
       "     xlmr-baseline.metric=IoU.post_process=post_process_lemm.kmasks_1=32+T-or-<mask><mask><mask>-2ltr3f_topk500_fixspacesTruelemmIoUforLog+0.0+_  \\\n",
       "0                                             0.066667                                                                                             \n",
       "1                                             0.066667                                                                                             \n",
       "2                                             0.015873                                                                                             \n",
       "3                                             0.015873                                                                                             \n",
       "4                                             0.122807                                                                                             \n",
       "..                                                 ...                                                                                             \n",
       "995                                           0.207547                                                                                             \n",
       "996                                           0.000000                                                                                             \n",
       "997                                           0.015873                                                                                             \n",
       "998                                           0.066667                                                                                             \n",
       "999                                           0.015873                                                                                             \n",
       "\n",
       "     xlmr-baseline.metric=IoU.post_process=post_process_lemm.kmasks_1=60+T-or-<mask><mask><mask>-2ltr3f_topk500_fixspacesTruelemmIoUforLog+0.0+_  \\\n",
       "0                                             0.052632                                                                                             \n",
       "1                                             0.061947                                                                                             \n",
       "2                                             0.043478                                                                                             \n",
       "3                                             0.034483                                                                                             \n",
       "4                                             0.176471                                                                                             \n",
       "..                                                 ...                                                                                             \n",
       "995                                           0.153846                                                                                             \n",
       "996                                           0.025641                                                                                             \n",
       "997                                           0.034483                                                                                             \n",
       "998                                           0.072072                                                                                             \n",
       "999                                           0.062500                                                                                             \n",
       "\n",
       "     xlmr-baseline.metric=IoU.post_process=post_process_lemm.kmasks_1=75+T-or-<mask><mask><mask>-2ltr3f_topk500_fixspacesTruelemmIoUforLog+0.0+_  \\\n",
       "0                                             0.056338                                                                                             \n",
       "1                                             0.102941                                                                                             \n",
       "2                                             0.056338                                                                                             \n",
       "3                                             0.034483                                                                                             \n",
       "4                                             0.181102                                                                                             \n",
       "..                                                 ...                                                                                             \n",
       "995                                           0.145038                                                                                             \n",
       "996                                           0.034722                                                                                             \n",
       "997                                           0.034483                                                                                             \n",
       "998                                           0.079710                                                                                             \n",
       "999                                           0.064286                                                                                             \n",
       "\n",
       "     xlmr-baseline.metric=IoU.post_process=post_process_lemm.kmasks_1=100+T-or-<mask><mask><mask>-2ltr3f_topk500_fixspacesTruelemmIoUforLog+0.0+_  \\\n",
       "0                                             0.047120                                                                                              \n",
       "1                                             0.123596                                                                                              \n",
       "2                                             0.092896                                                                                              \n",
       "3                                             0.063830                                                                                              \n",
       "4                                             0.149425                                                                                              \n",
       "..                                                 ...                                                                                              \n",
       "995                                           0.169591                                                                                              \n",
       "996                                           0.025773                                                                                              \n",
       "997                                           0.031088                                                                                              \n",
       "998                                           0.064516                                                                                              \n",
       "999                                           0.076087                                                                                              \n",
       "\n",
       "     xlmr-baseline.metric=IoU.post_process=post_process_lemm.kmasks_1=115+T-or-<mask><mask><mask>-2ltr3f_topk500_fixspacesTruelemmIoUforLog+0.0+_  \\\n",
       "0                                             0.045455                                                                                              \n",
       "1                                             0.116505                                                                                              \n",
       "2                                             0.090047                                                                                              \n",
       "3                                             0.069767                                                                                              \n",
       "4                                             0.138614                                                                                              \n",
       "..                                                 ...                                                                                              \n",
       "995                                           0.167513                                                                                              \n",
       "996                                           0.026906                                                                                              \n",
       "997                                           0.031532                                                                                              \n",
       "998                                           0.060465                                                                                              \n",
       "999                                           0.096154                                                                                              \n",
       "\n",
       "     xlmr-baseline.metric=IoU.post_process=post_process_lemm.kmasks_1=130+T-or-<mask><mask><mask>-2ltr3f_topk500_fixspacesTruelemmIoUforLog+0.0+_  \\\n",
       "0                                             0.052632                                                                                              \n",
       "1                                             0.111111                                                                                              \n",
       "2                                             0.101695                                                                                              \n",
       "3                                             0.061224                                                                                              \n",
       "4                                             0.130435                                                                                              \n",
       "..                                                 ...                                                                                              \n",
       "995                                           0.176471                                                                                              \n",
       "996                                           0.031873                                                                                              \n",
       "997                                           0.031873                                                                                              \n",
       "998                                           0.061728                                                                                              \n",
       "999                                           0.088983                                                                                              \n",
       "\n",
       "     xlmr-baseline.metric=IoU.post_process=post_process_lemm.kmasks_1=150+T-or-<mask><mask><mask>-2ltr3f_topk500_fixspacesTruelemmIoUforLog+0.0+_  \\\n",
       "0                                             0.060071                                                                                              \n",
       "1                                             0.111111                                                                                              \n",
       "2                                             0.098901                                                                                              \n",
       "3                                             0.067616                                                                                              \n",
       "4                                             0.132075                                                                                              \n",
       "..                                                 ...                                                                                              \n",
       "995                                           0.162791                                                                                              \n",
       "996                                           0.027491                                                                                              \n",
       "997                                           0.027491                                                                                              \n",
       "998                                           0.068100                                                                                              \n",
       "999                                           0.100000                                                                                              \n",
       "\n",
       "     xlmr-baseline.metric=IoU.post_process=post_process_lemm.kmasks_1=175+T-or-<mask><mask><mask>-2ltr3f_topk500_fixspacesTruelemmIoUforLog+0.0+_  \\\n",
       "0                                             0.067073                                                                                              \n",
       "1                                             0.104101                                                                                              \n",
       "2                                             0.090343                                                                                              \n",
       "3                                             0.057402                                                                                              \n",
       "4                                             0.155116                                                                                              \n",
       "..                                                 ...                                                                                              \n",
       "995                                           0.178451                                                                                              \n",
       "996                                           0.026471                                                                                              \n",
       "997                                           0.029499                                                                                              \n",
       "998                                           0.070769                                                                                              \n",
       "999                                           0.091195                                                                                              \n",
       "\n",
       "     xlmr-baseline.metric=IoU.post_process=post_process_lemm.kmasks_1=240+T-or-<mask><mask><mask>-2ltr3f_topk500_fixspacesTruelemmIoUforLog+0.0+_  \n",
       "0                                             0.071429                                                                                             \n",
       "1                                             0.116279                                                                                             \n",
       "2                                             0.098398                                                                                             \n",
       "3                                             0.073826                                                                                             \n",
       "4                                             0.156627                                                                                             \n",
       "..                                                 ...                                                                                             \n",
       "995                                           0.203008                                                                                             \n",
       "996                                           0.036797                                                                                             \n",
       "997                                           0.036876                                                                                             \n",
       "998                                           0.086364                                                                                             \n",
       "999                                           0.101617                                                                                             \n",
       "\n",
       "[1000 rows x 577 columns]"
      ]
     },
     "execution_count": 136,
     "metadata": {},
     "output_type": "execute_result"
    }
   ],
   "source": [
    "dev_df"
   ]
  },
  {
   "cell_type": "code",
   "execution_count": 137,
   "metadata": {},
   "outputs": [],
   "source": [
    "y_train = train_df.tag\n",
    "train_df.drop(columns='tag', inplace=True)\n",
    "\n",
    "y_dev = dev_df.tag\n",
    "dev_df.drop(columns='tag', inplace=True)"
   ]
  },
  {
   "cell_type": "code",
   "execution_count": 138,
   "metadata": {},
   "outputs": [
    {
     "data": {
      "text/html": [
       "<div>\n",
       "<style scoped>\n",
       "    .dataframe tbody tr th:only-of-type {\n",
       "        vertical-align: middle;\n",
       "    }\n",
       "\n",
       "    .dataframe tbody tr th {\n",
       "        vertical-align: top;\n",
       "    }\n",
       "\n",
       "    .dataframe thead th {\n",
       "        text-align: right;\n",
       "    }\n",
       "</style>\n",
       "<table border=\"1\" class=\"dataframe\">\n",
       "  <thead>\n",
       "    <tr style=\"text-align: right;\">\n",
       "      <th></th>\n",
       "      <th>xlmr-baseline.metric=IoU.post_process=post_process_lemm.kmasks_1=3+&lt;mask&gt;-(and-also-T)-2ltr1f_topk500_fixspacesTruelemmIoUforLog+0.0++0.0+_</th>\n",
       "      <th>xlmr-baseline.metric=IoU.post_process=post_process_lemm.kmasks_1=8+&lt;mask&gt;-(and-also-T)-2ltr1f_topk500_fixspacesTruelemmIoUforLog+0.0++0.0+_</th>\n",
       "      <th>xlmr-baseline.metric=IoU.post_process=post_process_lemm.kmasks_1=16+&lt;mask&gt;-(and-also-T)-2ltr1f_topk500_fixspacesTruelemmIoUforLog+0.0++0.0+_</th>\n",
       "      <th>xlmr-baseline.metric=IoU.post_process=post_process_lemm.kmasks_1=32+&lt;mask&gt;-(and-also-T)-2ltr1f_topk500_fixspacesTruelemmIoUforLog+0.0++0.0+_</th>\n",
       "      <th>xlmr-baseline.metric=IoU.post_process=post_process_lemm.kmasks_1=60+&lt;mask&gt;-(and-also-T)-2ltr1f_topk500_fixspacesTruelemmIoUforLog+0.0++0.0+_</th>\n",
       "      <th>xlmr-baseline.metric=IoU.post_process=post_process_lemm.kmasks_1=75+&lt;mask&gt;-(and-also-T)-2ltr1f_topk500_fixspacesTruelemmIoUforLog+0.0++0.0+_</th>\n",
       "      <th>xlmr-baseline.metric=IoU.post_process=post_process_lemm.kmasks_1=100+&lt;mask&gt;-(and-also-T)-2ltr1f_topk500_fixspacesTruelemmIoUforLog+0.0++0.0+_</th>\n",
       "      <th>xlmr-baseline.metric=IoU.post_process=post_process_lemm.kmasks_1=115+&lt;mask&gt;-(and-also-T)-2ltr1f_topk500_fixspacesTruelemmIoUforLog+0.0++0.0+_</th>\n",
       "      <th>xlmr-baseline.metric=IoU.post_process=post_process_lemm.kmasks_1=130+&lt;mask&gt;-(and-also-T)-2ltr1f_topk500_fixspacesTruelemmIoUforLog+0.0++0.0+_</th>\n",
       "      <th>xlmr-baseline.metric=IoU.post_process=post_process_lemm.kmasks_1=150+&lt;mask&gt;-(and-also-T)-2ltr1f_topk500_fixspacesTruelemmIoUforLog+0.0++0.0+_</th>\n",
       "      <th>...</th>\n",
       "      <th>xlmr-baseline.metric=IoU.post_process=post_process_lemm.kmasks_1=16+T-or-&lt;mask&gt;&lt;mask&gt;&lt;mask&gt;-2ltr3f_topk500_fixspacesTruelemmIoUforLog+0.0+_</th>\n",
       "      <th>xlmr-baseline.metric=IoU.post_process=post_process_lemm.kmasks_1=32+T-or-&lt;mask&gt;&lt;mask&gt;&lt;mask&gt;-2ltr3f_topk500_fixspacesTruelemmIoUforLog+0.0+_</th>\n",
       "      <th>xlmr-baseline.metric=IoU.post_process=post_process_lemm.kmasks_1=60+T-or-&lt;mask&gt;&lt;mask&gt;&lt;mask&gt;-2ltr3f_topk500_fixspacesTruelemmIoUforLog+0.0+_</th>\n",
       "      <th>xlmr-baseline.metric=IoU.post_process=post_process_lemm.kmasks_1=75+T-or-&lt;mask&gt;&lt;mask&gt;&lt;mask&gt;-2ltr3f_topk500_fixspacesTruelemmIoUforLog+0.0+_</th>\n",
       "      <th>xlmr-baseline.metric=IoU.post_process=post_process_lemm.kmasks_1=100+T-or-&lt;mask&gt;&lt;mask&gt;&lt;mask&gt;-2ltr3f_topk500_fixspacesTruelemmIoUforLog+0.0+_</th>\n",
       "      <th>xlmr-baseline.metric=IoU.post_process=post_process_lemm.kmasks_1=115+T-or-&lt;mask&gt;&lt;mask&gt;&lt;mask&gt;-2ltr3f_topk500_fixspacesTruelemmIoUforLog+0.0+_</th>\n",
       "      <th>xlmr-baseline.metric=IoU.post_process=post_process_lemm.kmasks_1=130+T-or-&lt;mask&gt;&lt;mask&gt;&lt;mask&gt;-2ltr3f_topk500_fixspacesTruelemmIoUforLog+0.0+_</th>\n",
       "      <th>xlmr-baseline.metric=IoU.post_process=post_process_lemm.kmasks_1=150+T-or-&lt;mask&gt;&lt;mask&gt;&lt;mask&gt;-2ltr3f_topk500_fixspacesTruelemmIoUforLog+0.0+_</th>\n",
       "      <th>xlmr-baseline.metric=IoU.post_process=post_process_lemm.kmasks_1=175+T-or-&lt;mask&gt;&lt;mask&gt;&lt;mask&gt;-2ltr3f_topk500_fixspacesTruelemmIoUforLog+0.0+_</th>\n",
       "      <th>xlmr-baseline.metric=IoU.post_process=post_process_lemm.kmasks_1=240+T-or-&lt;mask&gt;&lt;mask&gt;&lt;mask&gt;-2ltr3f_topk500_fixspacesTruelemmIoUforLog+0.0+_</th>\n",
       "    </tr>\n",
       "  </thead>\n",
       "  <tbody>\n",
       "    <tr>\n",
       "      <th>0</th>\n",
       "      <td>0.0</td>\n",
       "      <td>0.066667</td>\n",
       "      <td>0.142857</td>\n",
       "      <td>0.185185</td>\n",
       "      <td>0.263158</td>\n",
       "      <td>0.250000</td>\n",
       "      <td>0.234568</td>\n",
       "      <td>0.229947</td>\n",
       "      <td>0.244019</td>\n",
       "      <td>0.244813</td>\n",
       "      <td>...</td>\n",
       "      <td>0.066667</td>\n",
       "      <td>0.066667</td>\n",
       "      <td>0.052632</td>\n",
       "      <td>0.056338</td>\n",
       "      <td>0.047120</td>\n",
       "      <td>0.045455</td>\n",
       "      <td>0.052632</td>\n",
       "      <td>0.060071</td>\n",
       "      <td>0.067073</td>\n",
       "      <td>0.071429</td>\n",
       "    </tr>\n",
       "    <tr>\n",
       "      <th>1</th>\n",
       "      <td>0.2</td>\n",
       "      <td>0.230769</td>\n",
       "      <td>0.391304</td>\n",
       "      <td>0.306122</td>\n",
       "      <td>0.379310</td>\n",
       "      <td>0.351351</td>\n",
       "      <td>0.315789</td>\n",
       "      <td>0.299435</td>\n",
       "      <td>0.333333</td>\n",
       "      <td>0.315789</td>\n",
       "      <td>...</td>\n",
       "      <td>0.103448</td>\n",
       "      <td>0.066667</td>\n",
       "      <td>0.061947</td>\n",
       "      <td>0.102941</td>\n",
       "      <td>0.123596</td>\n",
       "      <td>0.116505</td>\n",
       "      <td>0.111111</td>\n",
       "      <td>0.111111</td>\n",
       "      <td>0.104101</td>\n",
       "      <td>0.116279</td>\n",
       "    </tr>\n",
       "    <tr>\n",
       "      <th>2</th>\n",
       "      <td>0.0</td>\n",
       "      <td>0.000000</td>\n",
       "      <td>0.000000</td>\n",
       "      <td>0.000000</td>\n",
       "      <td>0.008403</td>\n",
       "      <td>0.006711</td>\n",
       "      <td>0.036269</td>\n",
       "      <td>0.031390</td>\n",
       "      <td>0.031746</td>\n",
       "      <td>0.038062</td>\n",
       "      <td>...</td>\n",
       "      <td>0.032258</td>\n",
       "      <td>0.015873</td>\n",
       "      <td>0.043478</td>\n",
       "      <td>0.056338</td>\n",
       "      <td>0.092896</td>\n",
       "      <td>0.090047</td>\n",
       "      <td>0.101695</td>\n",
       "      <td>0.098901</td>\n",
       "      <td>0.090343</td>\n",
       "      <td>0.098398</td>\n",
       "    </tr>\n",
       "    <tr>\n",
       "      <th>3</th>\n",
       "      <td>0.0</td>\n",
       "      <td>0.000000</td>\n",
       "      <td>0.000000</td>\n",
       "      <td>0.000000</td>\n",
       "      <td>0.000000</td>\n",
       "      <td>0.000000</td>\n",
       "      <td>0.025641</td>\n",
       "      <td>0.040724</td>\n",
       "      <td>0.044177</td>\n",
       "      <td>0.052632</td>\n",
       "      <td>...</td>\n",
       "      <td>0.000000</td>\n",
       "      <td>0.015873</td>\n",
       "      <td>0.034483</td>\n",
       "      <td>0.034483</td>\n",
       "      <td>0.063830</td>\n",
       "      <td>0.069767</td>\n",
       "      <td>0.061224</td>\n",
       "      <td>0.067616</td>\n",
       "      <td>0.057402</td>\n",
       "      <td>0.073826</td>\n",
       "    </tr>\n",
       "    <tr>\n",
       "      <th>4</th>\n",
       "      <td>0.0</td>\n",
       "      <td>0.066667</td>\n",
       "      <td>0.103448</td>\n",
       "      <td>0.230769</td>\n",
       "      <td>0.276596</td>\n",
       "      <td>0.271186</td>\n",
       "      <td>0.265823</td>\n",
       "      <td>0.299435</td>\n",
       "      <td>0.306533</td>\n",
       "      <td>0.321586</td>\n",
       "      <td>...</td>\n",
       "      <td>0.066667</td>\n",
       "      <td>0.122807</td>\n",
       "      <td>0.176471</td>\n",
       "      <td>0.181102</td>\n",
       "      <td>0.149425</td>\n",
       "      <td>0.138614</td>\n",
       "      <td>0.130435</td>\n",
       "      <td>0.132075</td>\n",
       "      <td>0.155116</td>\n",
       "      <td>0.156627</td>\n",
       "    </tr>\n",
       "    <tr>\n",
       "      <th>...</th>\n",
       "      <td>...</td>\n",
       "      <td>...</td>\n",
       "      <td>...</td>\n",
       "      <td>...</td>\n",
       "      <td>...</td>\n",
       "      <td>...</td>\n",
       "      <td>...</td>\n",
       "      <td>...</td>\n",
       "      <td>...</td>\n",
       "      <td>...</td>\n",
       "      <td>...</td>\n",
       "      <td>...</td>\n",
       "      <td>...</td>\n",
       "      <td>...</td>\n",
       "      <td>...</td>\n",
       "      <td>...</td>\n",
       "      <td>...</td>\n",
       "      <td>...</td>\n",
       "      <td>...</td>\n",
       "      <td>...</td>\n",
       "      <td>...</td>\n",
       "    </tr>\n",
       "    <tr>\n",
       "      <th>995</th>\n",
       "      <td>0.0</td>\n",
       "      <td>0.066667</td>\n",
       "      <td>0.103448</td>\n",
       "      <td>0.122807</td>\n",
       "      <td>0.188119</td>\n",
       "      <td>0.181102</td>\n",
       "      <td>0.197605</td>\n",
       "      <td>0.204188</td>\n",
       "      <td>0.198157</td>\n",
       "      <td>0.204819</td>\n",
       "      <td>...</td>\n",
       "      <td>0.185185</td>\n",
       "      <td>0.207547</td>\n",
       "      <td>0.153846</td>\n",
       "      <td>0.145038</td>\n",
       "      <td>0.169591</td>\n",
       "      <td>0.167513</td>\n",
       "      <td>0.176471</td>\n",
       "      <td>0.162791</td>\n",
       "      <td>0.178451</td>\n",
       "      <td>0.203008</td>\n",
       "    </tr>\n",
       "    <tr>\n",
       "      <th>996</th>\n",
       "      <td>0.0</td>\n",
       "      <td>0.000000</td>\n",
       "      <td>0.000000</td>\n",
       "      <td>0.015873</td>\n",
       "      <td>0.081081</td>\n",
       "      <td>0.094891</td>\n",
       "      <td>0.104972</td>\n",
       "      <td>0.121951</td>\n",
       "      <td>0.155556</td>\n",
       "      <td>0.162791</td>\n",
       "      <td>...</td>\n",
       "      <td>0.000000</td>\n",
       "      <td>0.000000</td>\n",
       "      <td>0.025641</td>\n",
       "      <td>0.034722</td>\n",
       "      <td>0.025773</td>\n",
       "      <td>0.026906</td>\n",
       "      <td>0.031873</td>\n",
       "      <td>0.027491</td>\n",
       "      <td>0.026471</td>\n",
       "      <td>0.036797</td>\n",
       "    </tr>\n",
       "    <tr>\n",
       "      <th>997</th>\n",
       "      <td>0.0</td>\n",
       "      <td>0.000000</td>\n",
       "      <td>0.000000</td>\n",
       "      <td>0.015873</td>\n",
       "      <td>0.132075</td>\n",
       "      <td>0.145038</td>\n",
       "      <td>0.149425</td>\n",
       "      <td>0.167513</td>\n",
       "      <td>0.171171</td>\n",
       "      <td>0.195219</td>\n",
       "      <td>...</td>\n",
       "      <td>0.032258</td>\n",
       "      <td>0.015873</td>\n",
       "      <td>0.034483</td>\n",
       "      <td>0.034483</td>\n",
       "      <td>0.031088</td>\n",
       "      <td>0.031532</td>\n",
       "      <td>0.031873</td>\n",
       "      <td>0.027491</td>\n",
       "      <td>0.029499</td>\n",
       "      <td>0.036876</td>\n",
       "    </tr>\n",
       "    <tr>\n",
       "      <th>998</th>\n",
       "      <td>0.0</td>\n",
       "      <td>0.000000</td>\n",
       "      <td>0.000000</td>\n",
       "      <td>0.015873</td>\n",
       "      <td>0.025641</td>\n",
       "      <td>0.034483</td>\n",
       "      <td>0.036269</td>\n",
       "      <td>0.045455</td>\n",
       "      <td>0.052632</td>\n",
       "      <td>0.056338</td>\n",
       "      <td>...</td>\n",
       "      <td>0.032258</td>\n",
       "      <td>0.066667</td>\n",
       "      <td>0.072072</td>\n",
       "      <td>0.079710</td>\n",
       "      <td>0.064516</td>\n",
       "      <td>0.060465</td>\n",
       "      <td>0.061728</td>\n",
       "      <td>0.068100</td>\n",
       "      <td>0.070769</td>\n",
       "      <td>0.086364</td>\n",
       "    </tr>\n",
       "    <tr>\n",
       "      <th>999</th>\n",
       "      <td>0.0</td>\n",
       "      <td>0.000000</td>\n",
       "      <td>0.066667</td>\n",
       "      <td>0.207547</td>\n",
       "      <td>0.304348</td>\n",
       "      <td>0.339286</td>\n",
       "      <td>0.398601</td>\n",
       "      <td>0.419753</td>\n",
       "      <td>0.460674</td>\n",
       "      <td>0.485149</td>\n",
       "      <td>...</td>\n",
       "      <td>0.000000</td>\n",
       "      <td>0.015873</td>\n",
       "      <td>0.062500</td>\n",
       "      <td>0.064286</td>\n",
       "      <td>0.076087</td>\n",
       "      <td>0.096154</td>\n",
       "      <td>0.088983</td>\n",
       "      <td>0.100000</td>\n",
       "      <td>0.091195</td>\n",
       "      <td>0.101617</td>\n",
       "    </tr>\n",
       "  </tbody>\n",
       "</table>\n",
       "<p>1000 rows × 576 columns</p>\n",
       "</div>"
      ],
      "text/plain": [
       "     xlmr-baseline.metric=IoU.post_process=post_process_lemm.kmasks_1=3+<mask>-(and-also-T)-2ltr1f_topk500_fixspacesTruelemmIoUforLog+0.0++0.0+_  \\\n",
       "0                                                  0.0                                                                                             \n",
       "1                                                  0.2                                                                                             \n",
       "2                                                  0.0                                                                                             \n",
       "3                                                  0.0                                                                                             \n",
       "4                                                  0.0                                                                                             \n",
       "..                                                 ...                                                                                             \n",
       "995                                                0.0                                                                                             \n",
       "996                                                0.0                                                                                             \n",
       "997                                                0.0                                                                                             \n",
       "998                                                0.0                                                                                             \n",
       "999                                                0.0                                                                                             \n",
       "\n",
       "     xlmr-baseline.metric=IoU.post_process=post_process_lemm.kmasks_1=8+<mask>-(and-also-T)-2ltr1f_topk500_fixspacesTruelemmIoUforLog+0.0++0.0+_  \\\n",
       "0                                             0.066667                                                                                             \n",
       "1                                             0.230769                                                                                             \n",
       "2                                             0.000000                                                                                             \n",
       "3                                             0.000000                                                                                             \n",
       "4                                             0.066667                                                                                             \n",
       "..                                                 ...                                                                                             \n",
       "995                                           0.066667                                                                                             \n",
       "996                                           0.000000                                                                                             \n",
       "997                                           0.000000                                                                                             \n",
       "998                                           0.000000                                                                                             \n",
       "999                                           0.000000                                                                                             \n",
       "\n",
       "     xlmr-baseline.metric=IoU.post_process=post_process_lemm.kmasks_1=16+<mask>-(and-also-T)-2ltr1f_topk500_fixspacesTruelemmIoUforLog+0.0++0.0+_  \\\n",
       "0                                             0.142857                                                                                              \n",
       "1                                             0.391304                                                                                              \n",
       "2                                             0.000000                                                                                              \n",
       "3                                             0.000000                                                                                              \n",
       "4                                             0.103448                                                                                              \n",
       "..                                                 ...                                                                                              \n",
       "995                                           0.103448                                                                                              \n",
       "996                                           0.000000                                                                                              \n",
       "997                                           0.000000                                                                                              \n",
       "998                                           0.000000                                                                                              \n",
       "999                                           0.066667                                                                                              \n",
       "\n",
       "     xlmr-baseline.metric=IoU.post_process=post_process_lemm.kmasks_1=32+<mask>-(and-also-T)-2ltr1f_topk500_fixspacesTruelemmIoUforLog+0.0++0.0+_  \\\n",
       "0                                             0.185185                                                                                              \n",
       "1                                             0.306122                                                                                              \n",
       "2                                             0.000000                                                                                              \n",
       "3                                             0.000000                                                                                              \n",
       "4                                             0.230769                                                                                              \n",
       "..                                                 ...                                                                                              \n",
       "995                                           0.122807                                                                                              \n",
       "996                                           0.015873                                                                                              \n",
       "997                                           0.015873                                                                                              \n",
       "998                                           0.015873                                                                                              \n",
       "999                                           0.207547                                                                                              \n",
       "\n",
       "     xlmr-baseline.metric=IoU.post_process=post_process_lemm.kmasks_1=60+<mask>-(and-also-T)-2ltr1f_topk500_fixspacesTruelemmIoUforLog+0.0++0.0+_  \\\n",
       "0                                             0.263158                                                                                              \n",
       "1                                             0.379310                                                                                              \n",
       "2                                             0.008403                                                                                              \n",
       "3                                             0.000000                                                                                              \n",
       "4                                             0.276596                                                                                              \n",
       "..                                                 ...                                                                                              \n",
       "995                                           0.188119                                                                                              \n",
       "996                                           0.081081                                                                                              \n",
       "997                                           0.132075                                                                                              \n",
       "998                                           0.025641                                                                                              \n",
       "999                                           0.304348                                                                                              \n",
       "\n",
       "     xlmr-baseline.metric=IoU.post_process=post_process_lemm.kmasks_1=75+<mask>-(and-also-T)-2ltr1f_topk500_fixspacesTruelemmIoUforLog+0.0++0.0+_  \\\n",
       "0                                             0.250000                                                                                              \n",
       "1                                             0.351351                                                                                              \n",
       "2                                             0.006711                                                                                              \n",
       "3                                             0.000000                                                                                              \n",
       "4                                             0.271186                                                                                              \n",
       "..                                                 ...                                                                                              \n",
       "995                                           0.181102                                                                                              \n",
       "996                                           0.094891                                                                                              \n",
       "997                                           0.145038                                                                                              \n",
       "998                                           0.034483                                                                                              \n",
       "999                                           0.339286                                                                                              \n",
       "\n",
       "     xlmr-baseline.metric=IoU.post_process=post_process_lemm.kmasks_1=100+<mask>-(and-also-T)-2ltr1f_topk500_fixspacesTruelemmIoUforLog+0.0++0.0+_  \\\n",
       "0                                             0.234568                                                                                               \n",
       "1                                             0.315789                                                                                               \n",
       "2                                             0.036269                                                                                               \n",
       "3                                             0.025641                                                                                               \n",
       "4                                             0.265823                                                                                               \n",
       "..                                                 ...                                                                                               \n",
       "995                                           0.197605                                                                                               \n",
       "996                                           0.104972                                                                                               \n",
       "997                                           0.149425                                                                                               \n",
       "998                                           0.036269                                                                                               \n",
       "999                                           0.398601                                                                                               \n",
       "\n",
       "     xlmr-baseline.metric=IoU.post_process=post_process_lemm.kmasks_1=115+<mask>-(and-also-T)-2ltr1f_topk500_fixspacesTruelemmIoUforLog+0.0++0.0+_  \\\n",
       "0                                             0.229947                                                                                               \n",
       "1                                             0.299435                                                                                               \n",
       "2                                             0.031390                                                                                               \n",
       "3                                             0.040724                                                                                               \n",
       "4                                             0.299435                                                                                               \n",
       "..                                                 ...                                                                                               \n",
       "995                                           0.204188                                                                                               \n",
       "996                                           0.121951                                                                                               \n",
       "997                                           0.167513                                                                                               \n",
       "998                                           0.045455                                                                                               \n",
       "999                                           0.419753                                                                                               \n",
       "\n",
       "     xlmr-baseline.metric=IoU.post_process=post_process_lemm.kmasks_1=130+<mask>-(and-also-T)-2ltr1f_topk500_fixspacesTruelemmIoUforLog+0.0++0.0+_  \\\n",
       "0                                             0.244019                                                                                               \n",
       "1                                             0.333333                                                                                               \n",
       "2                                             0.031746                                                                                               \n",
       "3                                             0.044177                                                                                               \n",
       "4                                             0.306533                                                                                               \n",
       "..                                                 ...                                                                                               \n",
       "995                                           0.198157                                                                                               \n",
       "996                                           0.155556                                                                                               \n",
       "997                                           0.171171                                                                                               \n",
       "998                                           0.052632                                                                                               \n",
       "999                                           0.460674                                                                                               \n",
       "\n",
       "     xlmr-baseline.metric=IoU.post_process=post_process_lemm.kmasks_1=150+<mask>-(and-also-T)-2ltr1f_topk500_fixspacesTruelemmIoUforLog+0.0++0.0+_  \\\n",
       "0                                             0.244813                                                                                               \n",
       "1                                             0.315789                                                                                               \n",
       "2                                             0.038062                                                                                               \n",
       "3                                             0.052632                                                                                               \n",
       "4                                             0.321586                                                                                               \n",
       "..                                                 ...                                                                                               \n",
       "995                                           0.204819                                                                                               \n",
       "996                                           0.162791                                                                                               \n",
       "997                                           0.195219                                                                                               \n",
       "998                                           0.056338                                                                                               \n",
       "999                                           0.485149                                                                                               \n",
       "\n",
       "     ...  \\\n",
       "0    ...   \n",
       "1    ...   \n",
       "2    ...   \n",
       "3    ...   \n",
       "4    ...   \n",
       "..   ...   \n",
       "995  ...   \n",
       "996  ...   \n",
       "997  ...   \n",
       "998  ...   \n",
       "999  ...   \n",
       "\n",
       "     xlmr-baseline.metric=IoU.post_process=post_process_lemm.kmasks_1=16+T-or-<mask><mask><mask>-2ltr3f_topk500_fixspacesTruelemmIoUforLog+0.0+_  \\\n",
       "0                                             0.066667                                                                                             \n",
       "1                                             0.103448                                                                                             \n",
       "2                                             0.032258                                                                                             \n",
       "3                                             0.000000                                                                                             \n",
       "4                                             0.066667                                                                                             \n",
       "..                                                 ...                                                                                             \n",
       "995                                           0.185185                                                                                             \n",
       "996                                           0.000000                                                                                             \n",
       "997                                           0.032258                                                                                             \n",
       "998                                           0.032258                                                                                             \n",
       "999                                           0.000000                                                                                             \n",
       "\n",
       "     xlmr-baseline.metric=IoU.post_process=post_process_lemm.kmasks_1=32+T-or-<mask><mask><mask>-2ltr3f_topk500_fixspacesTruelemmIoUforLog+0.0+_  \\\n",
       "0                                             0.066667                                                                                             \n",
       "1                                             0.066667                                                                                             \n",
       "2                                             0.015873                                                                                             \n",
       "3                                             0.015873                                                                                             \n",
       "4                                             0.122807                                                                                             \n",
       "..                                                 ...                                                                                             \n",
       "995                                           0.207547                                                                                             \n",
       "996                                           0.000000                                                                                             \n",
       "997                                           0.015873                                                                                             \n",
       "998                                           0.066667                                                                                             \n",
       "999                                           0.015873                                                                                             \n",
       "\n",
       "     xlmr-baseline.metric=IoU.post_process=post_process_lemm.kmasks_1=60+T-or-<mask><mask><mask>-2ltr3f_topk500_fixspacesTruelemmIoUforLog+0.0+_  \\\n",
       "0                                             0.052632                                                                                             \n",
       "1                                             0.061947                                                                                             \n",
       "2                                             0.043478                                                                                             \n",
       "3                                             0.034483                                                                                             \n",
       "4                                             0.176471                                                                                             \n",
       "..                                                 ...                                                                                             \n",
       "995                                           0.153846                                                                                             \n",
       "996                                           0.025641                                                                                             \n",
       "997                                           0.034483                                                                                             \n",
       "998                                           0.072072                                                                                             \n",
       "999                                           0.062500                                                                                             \n",
       "\n",
       "     xlmr-baseline.metric=IoU.post_process=post_process_lemm.kmasks_1=75+T-or-<mask><mask><mask>-2ltr3f_topk500_fixspacesTruelemmIoUforLog+0.0+_  \\\n",
       "0                                             0.056338                                                                                             \n",
       "1                                             0.102941                                                                                             \n",
       "2                                             0.056338                                                                                             \n",
       "3                                             0.034483                                                                                             \n",
       "4                                             0.181102                                                                                             \n",
       "..                                                 ...                                                                                             \n",
       "995                                           0.145038                                                                                             \n",
       "996                                           0.034722                                                                                             \n",
       "997                                           0.034483                                                                                             \n",
       "998                                           0.079710                                                                                             \n",
       "999                                           0.064286                                                                                             \n",
       "\n",
       "     xlmr-baseline.metric=IoU.post_process=post_process_lemm.kmasks_1=100+T-or-<mask><mask><mask>-2ltr3f_topk500_fixspacesTruelemmIoUforLog+0.0+_  \\\n",
       "0                                             0.047120                                                                                              \n",
       "1                                             0.123596                                                                                              \n",
       "2                                             0.092896                                                                                              \n",
       "3                                             0.063830                                                                                              \n",
       "4                                             0.149425                                                                                              \n",
       "..                                                 ...                                                                                              \n",
       "995                                           0.169591                                                                                              \n",
       "996                                           0.025773                                                                                              \n",
       "997                                           0.031088                                                                                              \n",
       "998                                           0.064516                                                                                              \n",
       "999                                           0.076087                                                                                              \n",
       "\n",
       "     xlmr-baseline.metric=IoU.post_process=post_process_lemm.kmasks_1=115+T-or-<mask><mask><mask>-2ltr3f_topk500_fixspacesTruelemmIoUforLog+0.0+_  \\\n",
       "0                                             0.045455                                                                                              \n",
       "1                                             0.116505                                                                                              \n",
       "2                                             0.090047                                                                                              \n",
       "3                                             0.069767                                                                                              \n",
       "4                                             0.138614                                                                                              \n",
       "..                                                 ...                                                                                              \n",
       "995                                           0.167513                                                                                              \n",
       "996                                           0.026906                                                                                              \n",
       "997                                           0.031532                                                                                              \n",
       "998                                           0.060465                                                                                              \n",
       "999                                           0.096154                                                                                              \n",
       "\n",
       "     xlmr-baseline.metric=IoU.post_process=post_process_lemm.kmasks_1=130+T-or-<mask><mask><mask>-2ltr3f_topk500_fixspacesTruelemmIoUforLog+0.0+_  \\\n",
       "0                                             0.052632                                                                                              \n",
       "1                                             0.111111                                                                                              \n",
       "2                                             0.101695                                                                                              \n",
       "3                                             0.061224                                                                                              \n",
       "4                                             0.130435                                                                                              \n",
       "..                                                 ...                                                                                              \n",
       "995                                           0.176471                                                                                              \n",
       "996                                           0.031873                                                                                              \n",
       "997                                           0.031873                                                                                              \n",
       "998                                           0.061728                                                                                              \n",
       "999                                           0.088983                                                                                              \n",
       "\n",
       "     xlmr-baseline.metric=IoU.post_process=post_process_lemm.kmasks_1=150+T-or-<mask><mask><mask>-2ltr3f_topk500_fixspacesTruelemmIoUforLog+0.0+_  \\\n",
       "0                                             0.060071                                                                                              \n",
       "1                                             0.111111                                                                                              \n",
       "2                                             0.098901                                                                                              \n",
       "3                                             0.067616                                                                                              \n",
       "4                                             0.132075                                                                                              \n",
       "..                                                 ...                                                                                              \n",
       "995                                           0.162791                                                                                              \n",
       "996                                           0.027491                                                                                              \n",
       "997                                           0.027491                                                                                              \n",
       "998                                           0.068100                                                                                              \n",
       "999                                           0.100000                                                                                              \n",
       "\n",
       "     xlmr-baseline.metric=IoU.post_process=post_process_lemm.kmasks_1=175+T-or-<mask><mask><mask>-2ltr3f_topk500_fixspacesTruelemmIoUforLog+0.0+_  \\\n",
       "0                                             0.067073                                                                                              \n",
       "1                                             0.104101                                                                                              \n",
       "2                                             0.090343                                                                                              \n",
       "3                                             0.057402                                                                                              \n",
       "4                                             0.155116                                                                                              \n",
       "..                                                 ...                                                                                              \n",
       "995                                           0.178451                                                                                              \n",
       "996                                           0.026471                                                                                              \n",
       "997                                           0.029499                                                                                              \n",
       "998                                           0.070769                                                                                              \n",
       "999                                           0.091195                                                                                              \n",
       "\n",
       "     xlmr-baseline.metric=IoU.post_process=post_process_lemm.kmasks_1=240+T-or-<mask><mask><mask>-2ltr3f_topk500_fixspacesTruelemmIoUforLog+0.0+_  \n",
       "0                                             0.071429                                                                                             \n",
       "1                                             0.116279                                                                                             \n",
       "2                                             0.098398                                                                                             \n",
       "3                                             0.073826                                                                                             \n",
       "4                                             0.156627                                                                                             \n",
       "..                                                 ...                                                                                             \n",
       "995                                           0.203008                                                                                             \n",
       "996                                           0.036797                                                                                             \n",
       "997                                           0.036876                                                                                             \n",
       "998                                           0.086364                                                                                             \n",
       "999                                           0.101617                                                                                             \n",
       "\n",
       "[1000 rows x 576 columns]"
      ]
     },
     "execution_count": 138,
     "metadata": {},
     "output_type": "execute_result"
    }
   ],
   "source": [
    "dev_df"
   ]
  },
  {
   "cell_type": "markdown",
   "metadata": {},
   "source": [
    "#  Inference"
   ]
  },
  {
   "cell_type": "code",
   "execution_count": 139,
   "metadata": {},
   "outputs": [],
   "source": [
    "from sklearn.metrics import accuracy_score, log_loss\n",
    "from sklearn.model_selection import StratifiedKFold\n",
    "import lightgbm as lgb\n",
    "import numpy as np\n",
    "def fit_predict(n_splits, params, x_train, y_train, x_test):\n",
    "    \n",
    "    oof = np.zeros(x_train.shape[0])\n",
    "    \n",
    "    y_preds = []\n",
    "    \n",
    "    cv = StratifiedKFold(n_splits=n_splits, shuffle=True, random_state=42)\n",
    "    for train_idx, valid_idx in cv.split(x_train, y_train):\n",
    "        \n",
    "        x_train_train = train_df.iloc[train_idx]\n",
    "        y_train_train = y_train.iloc[train_idx]\n",
    "        x_train_valid = train_df.iloc[valid_idx]\n",
    "        y_train_valid = y_train.iloc[valid_idx]\n",
    "\n",
    "        lgb_train = lgb.Dataset(data=x_train_train.astype('float32'), label=y_train_train.astype('float32'))\n",
    "        lgb_valid = lgb.Dataset(data=x_train_valid.astype('float32'), label=y_train_valid.astype('float32'))\n",
    "\n",
    "        estimator = lgb.train(params, lgb_train, 10000, valid_sets=lgb_valid,\n",
    "                              early_stopping_rounds=25, verbose_eval=0)\n",
    "\n",
    "        oof_part = estimator.predict(x_train_valid, num_iteration=estimator.best_iteration)\n",
    "        oof[valid_idx] = oof_part\n",
    "        \n",
    "        if x_test is not None:\n",
    "            y_part = estimator.predict(x_test, num_iteration=estimator.best_iteration)\n",
    "            y_preds.append(y_part)\n",
    "        \n",
    "    score = log_loss(y_train, oof)\n",
    "    print('LogLoss Score:', score)\n",
    "    \n",
    "    y_pred = np.mean(y_preds, axis=0)\n",
    "    \n",
    "    return y_pred, oof, score"
   ]
  },
  {
   "cell_type": "code",
   "execution_count": 145,
   "metadata": {},
   "outputs": [],
   "source": [
    "score_list = []\n",
    "all_params = []"
   ]
  },
  {
   "cell_type": "code",
   "execution_count": 146,
   "metadata": {},
   "outputs": [],
   "source": [
    "def objective(trial):\n",
    "    \n",
    "    params = {\n",
    "        'objective': 'binary',\n",
    "        'metric': 'binary_logloss',\n",
    "        'boosting_type': 'gbdt',\n",
    "        'boost_from_average': True,\n",
    "        'num_threads': 4,\n",
    "        'random_state': 42,\n",
    "        \n",
    "        'num_leaves': trial.suggest_int('num_leaves', 10, 1000),\n",
    "        'min_data_in_leaf': trial.suggest_int('min_data_in_leaf', 10, 200),\n",
    "        'min_child_weight': trial.suggest_loguniform('min_child_weight', 0.001, 0.1),\n",
    "        'max_depth': trial.suggest_int('max_depth', 1, 100),\n",
    "        'bagging_fraction': trial.suggest_loguniform('bagging_fraction', .5, .99),\n",
    "        'feature_fraction': trial.suggest_loguniform('feature_fraction', .5, .99),\n",
    "        'lambda_l1': trial.suggest_loguniform('lambda_l1', 0.1, 2),\n",
    "        'lambda_l2': trial.suggest_loguniform('lambda_l2', 0.1, 2)\n",
    "    }\n",
    "    \n",
    "    scores = []\n",
    "    _, _, score = fit_predict(5, params, train_df, y_train, None)\n",
    "    scores.append(score)\n",
    "    score_list.append(np.mean(scores))\n",
    "    all_params.append(params)\n",
    "    return np.mean(scores)"
   ]
  },
  {
   "cell_type": "code",
   "execution_count": null,
   "metadata": {},
   "outputs": [
    {
     "name": "stderr",
     "output_type": "stream",
     "text": [
      "\u001b[32m[I 2021-05-22 07:18:44,236]\u001b[0m A new study created in memory with name: no-name-35277479-f16e-4a26-b8df-893b731df57a\u001b[0m\n",
      "/home/vsevolod/anaconda3/lib/python3.6/site-packages/numpy/core/fromnumeric.py:3335: RuntimeWarning:\n",
      "\n",
      "Mean of empty slice.\n",
      "\n",
      "/home/vsevolod/anaconda3/lib/python3.6/site-packages/numpy/core/_methods.py:161: RuntimeWarning:\n",
      "\n",
      "invalid value encountered in double_scalars\n",
      "\n",
      "\u001b[32m[I 2021-05-22 07:18:55,312]\u001b[0m Trial 0 finished with value: 0.42499544218305074 and parameters: {'num_leaves': 863, 'min_data_in_leaf': 47, 'min_child_weight': 0.008948562794658634, 'max_depth': 21, 'bagging_fraction': 0.5100433783698829, 'feature_fraction': 0.6733304408729441, 'lambda_l1': 0.7849678148717756, 'lambda_l2': 0.5625608497268687}. Best is trial 0 with value: 0.42499544218305074.\u001b[0m\n"
     ]
    },
    {
     "name": "stdout",
     "output_type": "stream",
     "text": [
      "LogLoss Score: 0.42499544218305074\n"
     ]
    },
    {
     "name": "stderr",
     "output_type": "stream",
     "text": [
      "/home/vsevolod/anaconda3/lib/python3.6/site-packages/numpy/core/fromnumeric.py:3335: RuntimeWarning:\n",
      "\n",
      "Mean of empty slice.\n",
      "\n",
      "/home/vsevolod/anaconda3/lib/python3.6/site-packages/numpy/core/_methods.py:161: RuntimeWarning:\n",
      "\n",
      "invalid value encountered in double_scalars\n",
      "\n",
      "\u001b[32m[I 2021-05-22 07:19:01,858]\u001b[0m Trial 1 finished with value: 0.4209158229260208 and parameters: {'num_leaves': 236, 'min_data_in_leaf': 142, 'min_child_weight': 0.03043705788970173, 'max_depth': 73, 'bagging_fraction': 0.5298156612635471, 'feature_fraction': 0.5609156720518224, 'lambda_l1': 1.7681407832093323, 'lambda_l2': 0.2031382304472772}. Best is trial 1 with value: 0.4209158229260208.\u001b[0m\n"
     ]
    },
    {
     "name": "stdout",
     "output_type": "stream",
     "text": [
      "LogLoss Score: 0.4209158229260208\n"
     ]
    },
    {
     "name": "stderr",
     "output_type": "stream",
     "text": [
      "/home/vsevolod/anaconda3/lib/python3.6/site-packages/numpy/core/fromnumeric.py:3335: RuntimeWarning:\n",
      "\n",
      "Mean of empty slice.\n",
      "\n",
      "/home/vsevolod/anaconda3/lib/python3.6/site-packages/numpy/core/_methods.py:161: RuntimeWarning:\n",
      "\n",
      "invalid value encountered in double_scalars\n",
      "\n",
      "\u001b[32m[I 2021-05-22 07:19:09,630]\u001b[0m Trial 2 finished with value: 0.4230356916895638 and parameters: {'num_leaves': 444, 'min_data_in_leaf': 158, 'min_child_weight': 0.016431597317006285, 'max_depth': 74, 'bagging_fraction': 0.6643916594134726, 'feature_fraction': 0.7171898782228667, 'lambda_l1': 0.8306848600431477, 'lambda_l2': 1.3030477966732323}. Best is trial 1 with value: 0.4209158229260208.\u001b[0m\n"
     ]
    },
    {
     "name": "stdout",
     "output_type": "stream",
     "text": [
      "LogLoss Score: 0.4230356916895638\n"
     ]
    },
    {
     "name": "stderr",
     "output_type": "stream",
     "text": [
      "/home/vsevolod/anaconda3/lib/python3.6/site-packages/numpy/core/fromnumeric.py:3335: RuntimeWarning:\n",
      "\n",
      "Mean of empty slice.\n",
      "\n",
      "/home/vsevolod/anaconda3/lib/python3.6/site-packages/numpy/core/_methods.py:161: RuntimeWarning:\n",
      "\n",
      "invalid value encountered in double_scalars\n",
      "\n",
      "\u001b[32m[I 2021-05-22 07:19:19,149]\u001b[0m Trial 3 finished with value: 0.4261994418276989 and parameters: {'num_leaves': 640, 'min_data_in_leaf': 47, 'min_child_weight': 0.02994867056330888, 'max_depth': 40, 'bagging_fraction': 0.5069532874328315, 'feature_fraction': 0.5257376448343911, 'lambda_l1': 0.18634169013694696, 'lambda_l2': 0.14618578366724466}. Best is trial 1 with value: 0.4209158229260208.\u001b[0m\n"
     ]
    },
    {
     "name": "stdout",
     "output_type": "stream",
     "text": [
      "LogLoss Score: 0.4261994418276989\n"
     ]
    },
    {
     "name": "stderr",
     "output_type": "stream",
     "text": [
      "/home/vsevolod/anaconda3/lib/python3.6/site-packages/numpy/core/fromnumeric.py:3335: RuntimeWarning:\n",
      "\n",
      "Mean of empty slice.\n",
      "\n",
      "/home/vsevolod/anaconda3/lib/python3.6/site-packages/numpy/core/_methods.py:161: RuntimeWarning:\n",
      "\n",
      "invalid value encountered in double_scalars\n",
      "\n",
      "\u001b[32m[I 2021-05-22 07:19:28,902]\u001b[0m Trial 4 finished with value: 0.4235887836649772 and parameters: {'num_leaves': 391, 'min_data_in_leaf': 177, 'min_child_weight': 0.029975658675127363, 'max_depth': 8, 'bagging_fraction': 0.5031416846246834, 'feature_fraction': 0.5881798971842789, 'lambda_l1': 0.40396948603612015, 'lambda_l2': 1.5260045548228502}. Best is trial 1 with value: 0.4209158229260208.\u001b[0m\n"
     ]
    },
    {
     "name": "stdout",
     "output_type": "stream",
     "text": [
      "LogLoss Score: 0.4235887836649772\n"
     ]
    },
    {
     "name": "stderr",
     "output_type": "stream",
     "text": [
      "/home/vsevolod/anaconda3/lib/python3.6/site-packages/numpy/core/fromnumeric.py:3335: RuntimeWarning:\n",
      "\n",
      "Mean of empty slice.\n",
      "\n",
      "/home/vsevolod/anaconda3/lib/python3.6/site-packages/numpy/core/_methods.py:161: RuntimeWarning:\n",
      "\n",
      "invalid value encountered in double_scalars\n",
      "\n",
      "\u001b[32m[I 2021-05-22 07:19:40,437]\u001b[0m Trial 5 finished with value: 0.42451990866552064 and parameters: {'num_leaves': 277, 'min_data_in_leaf': 95, 'min_child_weight': 0.010844147133278161, 'max_depth': 7, 'bagging_fraction': 0.8615920775812875, 'feature_fraction': 0.8898669181270564, 'lambda_l1': 0.33305746437984285, 'lambda_l2': 1.4489249168255962}. Best is trial 1 with value: 0.4209158229260208.\u001b[0m\n"
     ]
    },
    {
     "name": "stdout",
     "output_type": "stream",
     "text": [
      "LogLoss Score: 0.42451990866552064\n"
     ]
    },
    {
     "name": "stderr",
     "output_type": "stream",
     "text": [
      "/home/vsevolod/anaconda3/lib/python3.6/site-packages/numpy/core/fromnumeric.py:3335: RuntimeWarning:\n",
      "\n",
      "Mean of empty slice.\n",
      "\n",
      "/home/vsevolod/anaconda3/lib/python3.6/site-packages/numpy/core/_methods.py:161: RuntimeWarning:\n",
      "\n",
      "invalid value encountered in double_scalars\n",
      "\n",
      "\u001b[32m[I 2021-05-22 07:19:50,097]\u001b[0m Trial 6 finished with value: 0.42366469407175944 and parameters: {'num_leaves': 286, 'min_data_in_leaf': 145, 'min_child_weight': 0.002448533657078585, 'max_depth': 44, 'bagging_fraction': 0.5091160470849322, 'feature_fraction': 0.6393075396868914, 'lambda_l1': 0.3301607124707287, 'lambda_l2': 0.3305527494132835}. Best is trial 1 with value: 0.4209158229260208.\u001b[0m\n"
     ]
    },
    {
     "name": "stdout",
     "output_type": "stream",
     "text": [
      "LogLoss Score: 0.42366469407175944\n"
     ]
    },
    {
     "name": "stderr",
     "output_type": "stream",
     "text": [
      "/home/vsevolod/anaconda3/lib/python3.6/site-packages/numpy/core/fromnumeric.py:3335: RuntimeWarning:\n",
      "\n",
      "Mean of empty slice.\n",
      "\n",
      "/home/vsevolod/anaconda3/lib/python3.6/site-packages/numpy/core/_methods.py:161: RuntimeWarning:\n",
      "\n",
      "invalid value encountered in double_scalars\n",
      "\n",
      "\u001b[32m[I 2021-05-22 07:20:02,416]\u001b[0m Trial 7 finished with value: 0.4240022226936362 and parameters: {'num_leaves': 970, 'min_data_in_leaf': 155, 'min_child_weight': 0.007952015424151464, 'max_depth': 70, 'bagging_fraction': 0.5172765734274577, 'feature_fraction': 0.7803771105810978, 'lambda_l1': 0.11930891231790196, 'lambda_l2': 0.7612613642535049}. Best is trial 1 with value: 0.4209158229260208.\u001b[0m\n"
     ]
    },
    {
     "name": "stdout",
     "output_type": "stream",
     "text": [
      "LogLoss Score: 0.4240022226936362\n"
     ]
    },
    {
     "name": "stderr",
     "output_type": "stream",
     "text": [
      "/home/vsevolod/anaconda3/lib/python3.6/site-packages/numpy/core/fromnumeric.py:3335: RuntimeWarning:\n",
      "\n",
      "Mean of empty slice.\n",
      "\n",
      "/home/vsevolod/anaconda3/lib/python3.6/site-packages/numpy/core/_methods.py:161: RuntimeWarning:\n",
      "\n",
      "invalid value encountered in double_scalars\n",
      "\n",
      "\u001b[32m[I 2021-05-22 07:20:14,844]\u001b[0m Trial 8 finished with value: 0.4227936695993409 and parameters: {'num_leaves': 106, 'min_data_in_leaf': 184, 'min_child_weight': 0.018277941269218716, 'max_depth': 86, 'bagging_fraction': 0.5696622246514174, 'feature_fraction': 0.8844891344448985, 'lambda_l1': 0.6200806963992552, 'lambda_l2': 0.5384595558636758}. Best is trial 1 with value: 0.4209158229260208.\u001b[0m\n"
     ]
    },
    {
     "name": "stdout",
     "output_type": "stream",
     "text": [
      "LogLoss Score: 0.4227936695993409\n"
     ]
    },
    {
     "name": "stderr",
     "output_type": "stream",
     "text": [
      "/home/vsevolod/anaconda3/lib/python3.6/site-packages/numpy/core/fromnumeric.py:3335: RuntimeWarning:\n",
      "\n",
      "Mean of empty slice.\n",
      "\n",
      "/home/vsevolod/anaconda3/lib/python3.6/site-packages/numpy/core/_methods.py:161: RuntimeWarning:\n",
      "\n",
      "invalid value encountered in double_scalars\n",
      "\n",
      "\u001b[32m[I 2021-05-22 07:20:28,963]\u001b[0m Trial 9 finished with value: 0.42358027794652375 and parameters: {'num_leaves': 612, 'min_data_in_leaf': 174, 'min_child_weight': 0.017036783530963297, 'max_depth': 13, 'bagging_fraction': 0.9382292503883178, 'feature_fraction': 0.8353616703874946, 'lambda_l1': 1.137616412268302, 'lambda_l2': 0.8331018034830373}. Best is trial 1 with value: 0.4209158229260208.\u001b[0m\n"
     ]
    },
    {
     "name": "stdout",
     "output_type": "stream",
     "text": [
      "LogLoss Score: 0.42358027794652375\n"
     ]
    },
    {
     "name": "stderr",
     "output_type": "stream",
     "text": [
      "/home/vsevolod/anaconda3/lib/python3.6/site-packages/numpy/core/fromnumeric.py:3335: RuntimeWarning:\n",
      "\n",
      "Mean of empty slice.\n",
      "\n",
      "/home/vsevolod/anaconda3/lib/python3.6/site-packages/numpy/core/_methods.py:161: RuntimeWarning:\n",
      "\n",
      "invalid value encountered in double_scalars\n",
      "\n",
      "\u001b[32m[I 2021-05-22 07:20:37,427]\u001b[0m Trial 10 finished with value: 0.42346381606388356 and parameters: {'num_leaves': 22, 'min_data_in_leaf': 13, 'min_child_weight': 0.057449866607371565, 'max_depth': 98, 'bagging_fraction': 0.646599601007708, 'feature_fraction': 0.5021435918364667, 'lambda_l1': 1.9304599679653485, 'lambda_l2': 0.10380467884491724}. Best is trial 1 with value: 0.4209158229260208.\u001b[0m\n"
     ]
    },
    {
     "name": "stdout",
     "output_type": "stream",
     "text": [
      "LogLoss Score: 0.42346381606388356\n"
     ]
    },
    {
     "name": "stderr",
     "output_type": "stream",
     "text": [
      "/home/vsevolod/anaconda3/lib/python3.6/site-packages/numpy/core/fromnumeric.py:3335: RuntimeWarning:\n",
      "\n",
      "Mean of empty slice.\n",
      "\n",
      "/home/vsevolod/anaconda3/lib/python3.6/site-packages/numpy/core/_methods.py:161: RuntimeWarning:\n",
      "\n",
      "invalid value encountered in double_scalars\n",
      "\n",
      "\u001b[32m[I 2021-05-22 07:20:46,608]\u001b[0m Trial 11 finished with value: 0.4256842849308546 and parameters: {'num_leaves': 24, 'min_data_in_leaf': 115, 'min_child_weight': 0.09512257007111073, 'max_depth': 100, 'bagging_fraction': 0.593668848585297, 'feature_fraction': 0.9845372911226484, 'lambda_l1': 1.8723431046104213, 'lambda_l2': 0.2582638000390972}. Best is trial 1 with value: 0.4209158229260208.\u001b[0m\n"
     ]
    },
    {
     "name": "stdout",
     "output_type": "stream",
     "text": [
      "LogLoss Score: 0.4256842849308546\n"
     ]
    },
    {
     "name": "stderr",
     "output_type": "stream",
     "text": [
      "/home/vsevolod/anaconda3/lib/python3.6/site-packages/numpy/core/fromnumeric.py:3335: RuntimeWarning:\n",
      "\n",
      "Mean of empty slice.\n",
      "\n",
      "/home/vsevolod/anaconda3/lib/python3.6/site-packages/numpy/core/_methods.py:161: RuntimeWarning:\n",
      "\n",
      "invalid value encountered in double_scalars\n",
      "\n",
      "\u001b[32m[I 2021-05-22 07:20:54,190]\u001b[0m Trial 12 finished with value: 0.4235692099744065 and parameters: {'num_leaves': 153, 'min_data_in_leaf': 200, 'min_child_weight': 0.0033412955476418557, 'max_depth': 78, 'bagging_fraction': 0.5895215160196452, 'feature_fraction': 0.5748457243735362, 'lambda_l1': 1.2142418572504992, 'lambda_l2': 0.21255371845368387}. Best is trial 1 with value: 0.4209158229260208.\u001b[0m\n"
     ]
    },
    {
     "name": "stdout",
     "output_type": "stream",
     "text": [
      "LogLoss Score: 0.4235692099744065\n"
     ]
    },
    {
     "name": "stderr",
     "output_type": "stream",
     "text": [
      "/home/vsevolod/anaconda3/lib/python3.6/site-packages/numpy/core/fromnumeric.py:3335: RuntimeWarning:\n",
      "\n",
      "Mean of empty slice.\n",
      "\n",
      "/home/vsevolod/anaconda3/lib/python3.6/site-packages/numpy/core/_methods.py:161: RuntimeWarning:\n",
      "\n",
      "invalid value encountered in double_scalars\n",
      "\n",
      "\u001b[32m[I 2021-05-22 07:21:10,596]\u001b[0m Trial 13 finished with value: 0.4238330997787257 and parameters: {'num_leaves': 141, 'min_data_in_leaf': 120, 'min_child_weight': 0.0458225270248677, 'max_depth': 87, 'bagging_fraction': 0.7890237293422839, 'feature_fraction': 0.9804371607547785, 'lambda_l1': 0.6847417504745524, 'lambda_l2': 0.42900952099353323}. Best is trial 1 with value: 0.4209158229260208.\u001b[0m\n"
     ]
    },
    {
     "name": "stdout",
     "output_type": "stream",
     "text": [
      "LogLoss Score: 0.4238330997787257\n"
     ]
    },
    {
     "name": "stderr",
     "output_type": "stream",
     "text": [
      "/home/vsevolod/anaconda3/lib/python3.6/site-packages/numpy/core/fromnumeric.py:3335: RuntimeWarning:\n",
      "\n",
      "Mean of empty slice.\n",
      "\n",
      "/home/vsevolod/anaconda3/lib/python3.6/site-packages/numpy/core/_methods.py:161: RuntimeWarning:\n",
      "\n",
      "invalid value encountered in double_scalars\n",
      "\n",
      "\u001b[32m[I 2021-05-22 07:21:23,524]\u001b[0m Trial 14 finished with value: 0.42389732489280685 and parameters: {'num_leaves': 169, 'min_data_in_leaf': 189, 'min_child_weight': 0.005434588942814008, 'max_depth': 58, 'bagging_fraction': 0.573403278005758, 'feature_fraction': 0.7304897469344852, 'lambda_l1': 0.21210853019895648, 'lambda_l2': 0.16349349952359718}. Best is trial 1 with value: 0.4209158229260208.\u001b[0m\n"
     ]
    },
    {
     "name": "stdout",
     "output_type": "stream",
     "text": [
      "LogLoss Score: 0.42389732489280685\n"
     ]
    },
    {
     "name": "stderr",
     "output_type": "stream",
     "text": [
      "/home/vsevolod/anaconda3/lib/python3.6/site-packages/numpy/core/fromnumeric.py:3335: RuntimeWarning:\n",
      "\n",
      "Mean of empty slice.\n",
      "\n",
      "/home/vsevolod/anaconda3/lib/python3.6/site-packages/numpy/core/_methods.py:161: RuntimeWarning:\n",
      "\n",
      "invalid value encountered in double_scalars\n",
      "\n",
      "\u001b[32m[I 2021-05-22 07:21:34,560]\u001b[0m Trial 15 finished with value: 0.42574632347445607 and parameters: {'num_leaves': 19, 'min_data_in_leaf': 132, 'min_child_weight': 0.001113827241552057, 'max_depth': 90, 'bagging_fraction': 0.7386535173703773, 'feature_fraction': 0.8860133151445667, 'lambda_l1': 0.5855976940027419, 'lambda_l2': 0.38991637466856105}. Best is trial 1 with value: 0.4209158229260208.\u001b[0m\n"
     ]
    },
    {
     "name": "stdout",
     "output_type": "stream",
     "text": [
      "LogLoss Score: 0.42574632347445607\n"
     ]
    },
    {
     "name": "stderr",
     "output_type": "stream",
     "text": [
      "/home/vsevolod/anaconda3/lib/python3.6/site-packages/numpy/core/fromnumeric.py:3335: RuntimeWarning:\n",
      "\n",
      "Mean of empty slice.\n",
      "\n",
      "/home/vsevolod/anaconda3/lib/python3.6/site-packages/numpy/core/_methods.py:161: RuntimeWarning:\n",
      "\n",
      "invalid value encountered in double_scalars\n",
      "\n",
      "\u001b[32m[I 2021-05-22 07:21:46,048]\u001b[0m Trial 16 finished with value: 0.42276780041585627 and parameters: {'num_leaves': 271, 'min_data_in_leaf': 87, 'min_child_weight': 0.022313156161331147, 'max_depth': 61, 'bagging_fraction': 0.5541856367817759, 'feature_fraction': 0.602265838846101, 'lambda_l1': 1.3704910798713128, 'lambda_l2': 0.666315475070153}. Best is trial 1 with value: 0.4209158229260208.\u001b[0m\n"
     ]
    },
    {
     "name": "stdout",
     "output_type": "stream",
     "text": [
      "LogLoss Score: 0.42276780041585627\n"
     ]
    },
    {
     "name": "stderr",
     "output_type": "stream",
     "text": [
      "/home/vsevolod/anaconda3/lib/python3.6/site-packages/numpy/core/fromnumeric.py:3335: RuntimeWarning:\n",
      "\n",
      "Mean of empty slice.\n",
      "\n",
      "/home/vsevolod/anaconda3/lib/python3.6/site-packages/numpy/core/_methods.py:161: RuntimeWarning:\n",
      "\n",
      "invalid value encountered in double_scalars\n",
      "\n",
      "\u001b[32m[I 2021-05-22 07:21:59,535]\u001b[0m Trial 17 finished with value: 0.4235409217745889 and parameters: {'num_leaves': 314, 'min_data_in_leaf': 88, 'min_child_weight': 0.05806726540582153, 'max_depth': 58, 'bagging_fraction': 0.5483587931244099, 'feature_fraction': 0.5573342772997825, 'lambda_l1': 1.4308171993301315, 'lambda_l2': 0.962853627279086}. Best is trial 1 with value: 0.4209158229260208.\u001b[0m\n"
     ]
    },
    {
     "name": "stdout",
     "output_type": "stream",
     "text": [
      "LogLoss Score: 0.4235409217745889\n"
     ]
    },
    {
     "name": "stderr",
     "output_type": "stream",
     "text": [
      "/home/vsevolod/anaconda3/lib/python3.6/site-packages/numpy/core/fromnumeric.py:3335: RuntimeWarning:\n",
      "\n",
      "Mean of empty slice.\n",
      "\n",
      "/home/vsevolod/anaconda3/lib/python3.6/site-packages/numpy/core/_methods.py:161: RuntimeWarning:\n",
      "\n",
      "invalid value encountered in double_scalars\n",
      "\n",
      "\u001b[32m[I 2021-05-22 07:22:11,607]\u001b[0m Trial 18 finished with value: 0.4226167762556053 and parameters: {'num_leaves': 543, 'min_data_in_leaf': 71, 'min_child_weight': 0.09699387226807958, 'max_depth': 31, 'bagging_fraction': 0.6342307785858183, 'feature_fraction': 0.6256667054469864, 'lambda_l1': 1.9921440637922339, 'lambda_l2': 0.11792368555698898}. Best is trial 1 with value: 0.4209158229260208.\u001b[0m\n"
     ]
    },
    {
     "name": "stdout",
     "output_type": "stream",
     "text": [
      "LogLoss Score: 0.4226167762556053\n"
     ]
    },
    {
     "name": "stderr",
     "output_type": "stream",
     "text": [
      "/home/vsevolod/anaconda3/lib/python3.6/site-packages/numpy/core/fromnumeric.py:3335: RuntimeWarning:\n",
      "\n",
      "Mean of empty slice.\n",
      "\n",
      "/home/vsevolod/anaconda3/lib/python3.6/site-packages/numpy/core/_methods.py:161: RuntimeWarning:\n",
      "\n",
      "invalid value encountered in double_scalars\n",
      "\n",
      "\u001b[32m[I 2021-05-22 07:22:25,736]\u001b[0m Trial 19 finished with value: 0.4255959946591081 and parameters: {'num_leaves': 589, 'min_data_in_leaf': 54, 'min_child_weight': 0.09992963079378891, 'max_depth': 32, 'bagging_fraction': 0.6264643812055308, 'feature_fraction': 0.6414935748724688, 'lambda_l1': 1.8116992276744592, 'lambda_l2': 0.10608357616332013}. Best is trial 1 with value: 0.4209158229260208.\u001b[0m\n"
     ]
    },
    {
     "name": "stdout",
     "output_type": "stream",
     "text": [
      "LogLoss Score: 0.4255959946591081\n"
     ]
    },
    {
     "name": "stderr",
     "output_type": "stream",
     "text": [
      "/home/vsevolod/anaconda3/lib/python3.6/site-packages/numpy/core/fromnumeric.py:3335: RuntimeWarning:\n",
      "\n",
      "Mean of empty slice.\n",
      "\n",
      "/home/vsevolod/anaconda3/lib/python3.6/site-packages/numpy/core/_methods.py:161: RuntimeWarning:\n",
      "\n",
      "invalid value encountered in double_scalars\n",
      "\n",
      "\u001b[32m[I 2021-05-22 07:22:46,062]\u001b[0m Trial 20 finished with value: 0.4292490698494446 and parameters: {'num_leaves': 788, 'min_data_in_leaf': 19, 'min_child_weight': 0.09403241446794866, 'max_depth': 31, 'bagging_fraction': 0.7151812669704463, 'feature_fraction': 0.5421915031804665, 'lambda_l1': 0.9924567755420843, 'lambda_l2': 0.13410165179387418}. Best is trial 1 with value: 0.4209158229260208.\u001b[0m\n"
     ]
    },
    {
     "name": "stdout",
     "output_type": "stream",
     "text": [
      "LogLoss Score: 0.4292490698494446\n"
     ]
    },
    {
     "name": "stderr",
     "output_type": "stream",
     "text": [
      "/home/vsevolod/anaconda3/lib/python3.6/site-packages/numpy/core/fromnumeric.py:3335: RuntimeWarning:\n",
      "\n",
      "Mean of empty slice.\n",
      "\n",
      "/home/vsevolod/anaconda3/lib/python3.6/site-packages/numpy/core/_methods.py:161: RuntimeWarning:\n",
      "\n",
      "invalid value encountered in double_scalars\n",
      "\n",
      "\u001b[32m[I 2021-05-22 07:23:01,090]\u001b[0m Trial 21 finished with value: 0.4206535492796133 and parameters: {'num_leaves': 485, 'min_data_in_leaf': 78, 'min_child_weight': 0.03626384102195481, 'max_depth': 65, 'bagging_fraction': 0.537848512807816, 'feature_fraction': 0.6146584600016997, 'lambda_l1': 1.4907981933869046, 'lambda_l2': 0.26088247694493494}. Best is trial 21 with value: 0.4206535492796133.\u001b[0m\n"
     ]
    },
    {
     "name": "stdout",
     "output_type": "stream",
     "text": [
      "LogLoss Score: 0.4206535492796133\n"
     ]
    },
    {
     "name": "stderr",
     "output_type": "stream",
     "text": [
      "/home/vsevolod/anaconda3/lib/python3.6/site-packages/numpy/core/fromnumeric.py:3335: RuntimeWarning:\n",
      "\n",
      "Mean of empty slice.\n",
      "\n",
      "/home/vsevolod/anaconda3/lib/python3.6/site-packages/numpy/core/_methods.py:161: RuntimeWarning:\n",
      "\n",
      "invalid value encountered in double_scalars\n",
      "\n",
      "\u001b[32m[I 2021-05-22 07:23:20,768]\u001b[0m Trial 22 finished with value: 0.42350641787993193 and parameters: {'num_leaves': 511, 'min_data_in_leaf': 57, 'min_child_weight': 0.04203481579233152, 'max_depth': 49, 'bagging_fraction': 0.6268907726207454, 'feature_fraction': 0.621075537080508, 'lambda_l1': 1.9453951546026034, 'lambda_l2': 0.2264933740742557}. Best is trial 21 with value: 0.4206535492796133.\u001b[0m\n"
     ]
    },
    {
     "name": "stdout",
     "output_type": "stream",
     "text": [
      "LogLoss Score: 0.42350641787993193\n"
     ]
    },
    {
     "name": "stderr",
     "output_type": "stream",
     "text": [
      "/home/vsevolod/anaconda3/lib/python3.6/site-packages/numpy/core/fromnumeric.py:3335: RuntimeWarning:\n",
      "\n",
      "Mean of empty slice.\n",
      "\n",
      "/home/vsevolod/anaconda3/lib/python3.6/site-packages/numpy/core/_methods.py:161: RuntimeWarning:\n",
      "\n",
      "invalid value encountered in double_scalars\n",
      "\n",
      "\u001b[32m[I 2021-05-22 07:23:37,323]\u001b[0m Trial 23 finished with value: 0.4225039394347819 and parameters: {'num_leaves': 722, 'min_data_in_leaf': 72, 'min_child_weight': 0.07215686354198478, 'max_depth': 66, 'bagging_fraction': 0.5474711069786796, 'feature_fraction': 0.6675375267506439, 'lambda_l1': 1.544126936875265, 'lambda_l2': 0.2815358497245394}. Best is trial 21 with value: 0.4206535492796133.\u001b[0m\n"
     ]
    },
    {
     "name": "stdout",
     "output_type": "stream",
     "text": [
      "LogLoss Score: 0.4225039394347819\n"
     ]
    },
    {
     "name": "stderr",
     "output_type": "stream",
     "text": [
      "/home/vsevolod/anaconda3/lib/python3.6/site-packages/numpy/core/fromnumeric.py:3335: RuntimeWarning:\n",
      "\n",
      "Mean of empty slice.\n",
      "\n",
      "/home/vsevolod/anaconda3/lib/python3.6/site-packages/numpy/core/_methods.py:161: RuntimeWarning:\n",
      "\n",
      "invalid value encountered in double_scalars\n",
      "\n",
      "\u001b[32m[I 2021-05-22 07:23:51,070]\u001b[0m Trial 24 finished with value: 0.42370058184368586 and parameters: {'num_leaves': 723, 'min_data_in_leaf': 71, 'min_child_weight': 0.0701340442327914, 'max_depth': 66, 'bagging_fraction': 0.5509513023328753, 'feature_fraction': 0.6811460003163271, 'lambda_l1': 1.529257973998068, 'lambda_l2': 0.30887423912675027}. Best is trial 21 with value: 0.4206535492796133.\u001b[0m\n"
     ]
    },
    {
     "name": "stdout",
     "output_type": "stream",
     "text": [
      "LogLoss Score: 0.42370058184368586\n"
     ]
    },
    {
     "name": "stderr",
     "output_type": "stream",
     "text": [
      "/home/vsevolod/anaconda3/lib/python3.6/site-packages/numpy/core/fromnumeric.py:3335: RuntimeWarning:\n",
      "\n",
      "Mean of empty slice.\n",
      "\n",
      "/home/vsevolod/anaconda3/lib/python3.6/site-packages/numpy/core/_methods.py:161: RuntimeWarning:\n",
      "\n",
      "invalid value encountered in double_scalars\n",
      "\n",
      "\u001b[32m[I 2021-05-22 07:23:59,208]\u001b[0m Trial 25 finished with value: 0.4236500584740847 and parameters: {'num_leaves': 711, 'min_data_in_leaf': 105, 'min_child_weight': 0.031216640329839895, 'max_depth': 78, 'bagging_fraction': 0.5345912215200321, 'feature_fraction': 0.5101103148810122, 'lambda_l1': 1.0498769580168008, 'lambda_l2': 0.27966129648267357}. Best is trial 21 with value: 0.4206535492796133.\u001b[0m\n"
     ]
    },
    {
     "name": "stdout",
     "output_type": "stream",
     "text": [
      "LogLoss Score: 0.4236500584740847\n"
     ]
    },
    {
     "name": "stderr",
     "output_type": "stream",
     "text": [
      "/home/vsevolod/anaconda3/lib/python3.6/site-packages/numpy/core/fromnumeric.py:3335: RuntimeWarning:\n",
      "\n",
      "Mean of empty slice.\n",
      "\n",
      "/home/vsevolod/anaconda3/lib/python3.6/site-packages/numpy/core/_methods.py:161: RuntimeWarning:\n",
      "\n",
      "invalid value encountered in double_scalars\n",
      "\n",
      "\u001b[32m[I 2021-05-22 07:24:13,036]\u001b[0m Trial 26 finished with value: 0.4280043931564625 and parameters: {'num_leaves': 429, 'min_data_in_leaf': 27, 'min_child_weight': 0.03830177508298064, 'max_depth': 54, 'bagging_fraction': 0.531386625920511, 'feature_fraction': 0.6758345601799319, 'lambda_l1': 1.5192016280614211, 'lambda_l2': 0.19866465166611613}. Best is trial 21 with value: 0.4206535492796133.\u001b[0m\n"
     ]
    },
    {
     "name": "stdout",
     "output_type": "stream",
     "text": [
      "LogLoss Score: 0.4280043931564625\n"
     ]
    },
    {
     "name": "stderr",
     "output_type": "stream",
     "text": [
      "/home/vsevolod/anaconda3/lib/python3.6/site-packages/numpy/core/fromnumeric.py:3335: RuntimeWarning:\n",
      "\n",
      "Mean of empty slice.\n",
      "\n",
      "/home/vsevolod/anaconda3/lib/python3.6/site-packages/numpy/core/_methods.py:161: RuntimeWarning:\n",
      "\n",
      "invalid value encountered in double_scalars\n",
      "\n",
      "\u001b[32m[I 2021-05-22 07:24:30,286]\u001b[0m Trial 27 finished with value: 0.42249480802604955 and parameters: {'num_leaves': 982, 'min_data_in_leaf': 72, 'min_child_weight': 0.06431813540503502, 'max_depth': 65, 'bagging_fraction': 0.6091980770236664, 'feature_fraction': 0.7562118236810865, 'lambda_l1': 0.8561235172380867, 'lambda_l2': 0.18475580045667675}. Best is trial 21 with value: 0.4206535492796133.\u001b[0m\n"
     ]
    },
    {
     "name": "stdout",
     "output_type": "stream",
     "text": [
      "LogLoss Score: 0.42249480802604955\n"
     ]
    },
    {
     "name": "stderr",
     "output_type": "stream",
     "text": [
      "/home/vsevolod/anaconda3/lib/python3.6/site-packages/numpy/core/fromnumeric.py:3335: RuntimeWarning:\n",
      "\n",
      "Mean of empty slice.\n",
      "\n",
      "/home/vsevolod/anaconda3/lib/python3.6/site-packages/numpy/core/_methods.py:161: RuntimeWarning:\n",
      "\n",
      "invalid value encountered in double_scalars\n",
      "\n",
      "\u001b[32m[I 2021-05-22 07:24:46,519]\u001b[0m Trial 28 finished with value: 0.42908759037255567 and parameters: {'num_leaves': 853, 'min_data_in_leaf': 33, 'min_child_weight': 0.012758903645615011, 'max_depth': 80, 'bagging_fraction': 0.5995789858677044, 'feature_fraction': 0.7669109669417296, 'lambda_l1': 0.8720029965838082, 'lambda_l2': 0.1688465262766492}. Best is trial 21 with value: 0.4206535492796133.\u001b[0m\n"
     ]
    },
    {
     "name": "stdout",
     "output_type": "stream",
     "text": [
      "LogLoss Score: 0.42908759037255567\n"
     ]
    },
    {
     "name": "stderr",
     "output_type": "stream",
     "text": [
      "/home/vsevolod/anaconda3/lib/python3.6/site-packages/numpy/core/fromnumeric.py:3335: RuntimeWarning:\n",
      "\n",
      "Mean of empty slice.\n",
      "\n",
      "/home/vsevolod/anaconda3/lib/python3.6/site-packages/numpy/core/_methods.py:161: RuntimeWarning:\n",
      "\n",
      "invalid value encountered in double_scalars\n",
      "\n",
      "\u001b[32m[I 2021-05-22 07:25:00,711]\u001b[0m Trial 29 finished with value: 0.4244523842484003 and parameters: {'num_leaves': 946, 'min_data_in_leaf': 133, 'min_child_weight': 0.02424709261134856, 'max_depth': 65, 'bagging_fraction': 0.6869231841062666, 'feature_fraction': 0.7479628718038704, 'lambda_l1': 0.7579033114566276, 'lambda_l2': 0.18893842410666278}. Best is trial 21 with value: 0.4206535492796133.\u001b[0m\n"
     ]
    },
    {
     "name": "stdout",
     "output_type": "stream",
     "text": [
      "LogLoss Score: 0.4244523842484003\n"
     ]
    },
    {
     "name": "stderr",
     "output_type": "stream",
     "text": [
      "/home/vsevolod/anaconda3/lib/python3.6/site-packages/numpy/core/fromnumeric.py:3335: RuntimeWarning:\n",
      "\n",
      "Mean of empty slice.\n",
      "\n",
      "/home/vsevolod/anaconda3/lib/python3.6/site-packages/numpy/core/_methods.py:161: RuntimeWarning:\n",
      "\n",
      "invalid value encountered in double_scalars\n",
      "\n",
      "\u001b[32m[I 2021-05-22 07:25:24,082]\u001b[0m Trial 30 finished with value: 0.42281524284228705 and parameters: {'num_leaves': 335, 'min_data_in_leaf': 105, 'min_child_weight': 0.0567680684883194, 'max_depth': 51, 'bagging_fraction': 0.6082233322663275, 'feature_fraction': 0.8026424174353508, 'lambda_l1': 0.4760485019346207, 'lambda_l2': 0.3645295405247786}. Best is trial 21 with value: 0.4206535492796133.\u001b[0m\n"
     ]
    },
    {
     "name": "stdout",
     "output_type": "stream",
     "text": [
      "LogLoss Score: 0.42281524284228705\n"
     ]
    },
    {
     "name": "stderr",
     "output_type": "stream",
     "text": [
      "/home/vsevolod/anaconda3/lib/python3.6/site-packages/numpy/core/fromnumeric.py:3335: RuntimeWarning:\n",
      "\n",
      "Mean of empty slice.\n",
      "\n",
      "/home/vsevolod/anaconda3/lib/python3.6/site-packages/numpy/core/_methods.py:161: RuntimeWarning:\n",
      "\n",
      "invalid value encountered in double_scalars\n",
      "\n",
      "\u001b[32m[I 2021-05-22 07:25:50,110]\u001b[0m Trial 31 finished with value: 0.4247789632885165 and parameters: {'num_leaves': 892, 'min_data_in_leaf': 74, 'min_child_weight': 0.07381890418849403, 'max_depth': 68, 'bagging_fraction': 0.5329237166189311, 'feature_fraction': 0.6976931374180838, 'lambda_l1': 1.2506212128583833, 'lambda_l2': 0.22441353225371954}. Best is trial 21 with value: 0.4206535492796133.\u001b[0m\n"
     ]
    },
    {
     "name": "stdout",
     "output_type": "stream",
     "text": [
      "LogLoss Score: 0.4247789632885165\n"
     ]
    },
    {
     "name": "stderr",
     "output_type": "stream",
     "text": [
      "/home/vsevolod/anaconda3/lib/python3.6/site-packages/numpy/core/fromnumeric.py:3335: RuntimeWarning:\n",
      "\n",
      "Mean of empty slice.\n",
      "\n",
      "/home/vsevolod/anaconda3/lib/python3.6/site-packages/numpy/core/_methods.py:161: RuntimeWarning:\n",
      "\n",
      "invalid value encountered in double_scalars\n",
      "\n",
      "\u001b[32m[I 2021-05-22 07:26:13,311]\u001b[0m Trial 32 finished with value: 0.4240366277912888 and parameters: {'num_leaves': 725, 'min_data_in_leaf': 61, 'min_child_weight': 0.04080835054955021, 'max_depth': 74, 'bagging_fraction': 0.5700973917225364, 'feature_fraction': 0.6512013581331562, 'lambda_l1': 0.9227951012371449, 'lambda_l2': 0.45776923562249905}. Best is trial 21 with value: 0.4206535492796133.\u001b[0m\n"
     ]
    },
    {
     "name": "stdout",
     "output_type": "stream",
     "text": [
      "LogLoss Score: 0.4240366277912888\n"
     ]
    },
    {
     "name": "stderr",
     "output_type": "stream",
     "text": [
      "/home/vsevolod/anaconda3/lib/python3.6/site-packages/numpy/core/fromnumeric.py:3335: RuntimeWarning:\n",
      "\n",
      "Mean of empty slice.\n",
      "\n",
      "/home/vsevolod/anaconda3/lib/python3.6/site-packages/numpy/core/_methods.py:161: RuntimeWarning:\n",
      "\n",
      "invalid value encountered in double_scalars\n",
      "\n",
      "\u001b[32m[I 2021-05-22 07:26:33,157]\u001b[0m Trial 33 finished with value: 0.4225723682258615 and parameters: {'num_leaves': 471, 'min_data_in_leaf': 80, 'min_child_weight': 0.07414052996587195, 'max_depth': 72, 'bagging_fraction': 0.5207168257680452, 'feature_fraction': 0.7038921012232252, 'lambda_l1': 1.5921805697596456, 'lambda_l2': 0.26117278785527936}. Best is trial 21 with value: 0.4206535492796133.\u001b[0m\n"
     ]
    },
    {
     "name": "stdout",
     "output_type": "stream",
     "text": [
      "LogLoss Score: 0.4225723682258615\n"
     ]
    },
    {
     "name": "stderr",
     "output_type": "stream",
     "text": [
      "/home/vsevolod/anaconda3/lib/python3.6/site-packages/numpy/core/fromnumeric.py:3335: RuntimeWarning:\n",
      "\n",
      "Mean of empty slice.\n",
      "\n",
      "/home/vsevolod/anaconda3/lib/python3.6/site-packages/numpy/core/_methods.py:161: RuntimeWarning:\n",
      "\n",
      "invalid value encountered in double_scalars\n",
      "\n",
      "\u001b[32m[I 2021-05-22 07:26:55,405]\u001b[0m Trial 34 finished with value: 0.4262083581904463 and parameters: {'num_leaves': 675, 'min_data_in_leaf': 39, 'min_child_weight': 0.02674753182520938, 'max_depth': 62, 'bagging_fraction': 0.6698748107774499, 'feature_fraction': 0.5801512505870657, 'lambda_l1': 1.638230475771457, 'lambda_l2': 1.9696491896105475}. Best is trial 21 with value: 0.4206535492796133.\u001b[0m\n"
     ]
    },
    {
     "name": "stdout",
     "output_type": "stream",
     "text": [
      "LogLoss Score: 0.4262083581904463\n"
     ]
    },
    {
     "name": "stderr",
     "output_type": "stream",
     "text": [
      "/home/vsevolod/anaconda3/lib/python3.6/site-packages/numpy/core/fromnumeric.py:3335: RuntimeWarning:\n",
      "\n",
      "Mean of empty slice.\n",
      "\n",
      "/home/vsevolod/anaconda3/lib/python3.6/site-packages/numpy/core/_methods.py:161: RuntimeWarning:\n",
      "\n",
      "invalid value encountered in double_scalars\n",
      "\n",
      "\u001b[32m[I 2021-05-22 07:27:05,571]\u001b[0m Trial 35 finished with value: 0.42152961348790596 and parameters: {'num_leaves': 822, 'min_data_in_leaf': 91, 'min_child_weight': 0.035439141061624845, 'max_depth': 82, 'bagging_fraction': 0.5011053309662185, 'feature_fraction': 0.6056096990664759, 'lambda_l1': 1.1844720517159524, 'lambda_l2': 0.14658226907987712}. Best is trial 21 with value: 0.4206535492796133.\u001b[0m\n"
     ]
    },
    {
     "name": "stdout",
     "output_type": "stream",
     "text": [
      "LogLoss Score: 0.42152961348790596\n"
     ]
    },
    {
     "name": "stderr",
     "output_type": "stream",
     "text": [
      "/home/vsevolod/anaconda3/lib/python3.6/site-packages/numpy/core/fromnumeric.py:3335: RuntimeWarning:\n",
      "\n",
      "Mean of empty slice.\n",
      "\n",
      "/home/vsevolod/anaconda3/lib/python3.6/site-packages/numpy/core/_methods.py:161: RuntimeWarning:\n",
      "\n",
      "invalid value encountered in double_scalars\n",
      "\n",
      "\u001b[32m[I 2021-05-22 07:27:15,003]\u001b[0m Trial 36 finished with value: 0.42550154423833275 and parameters: {'num_leaves': 845, 'min_data_in_leaf': 99, 'min_child_weight': 0.01344076973028011, 'max_depth': 95, 'bagging_fraction': 0.5107246111073451, 'feature_fraction': 0.5491645036128608, 'lambda_l1': 0.7735558334858119, 'lambda_l2': 0.13819725356448473}. Best is trial 21 with value: 0.4206535492796133.\u001b[0m\n"
     ]
    },
    {
     "name": "stdout",
     "output_type": "stream",
     "text": [
      "LogLoss Score: 0.42550154423833275\n"
     ]
    },
    {
     "name": "stderr",
     "output_type": "stream",
     "text": [
      "/home/vsevolod/anaconda3/lib/python3.6/site-packages/numpy/core/fromnumeric.py:3335: RuntimeWarning:\n",
      "\n",
      "Mean of empty slice.\n",
      "\n",
      "/home/vsevolod/anaconda3/lib/python3.6/site-packages/numpy/core/_methods.py:161: RuntimeWarning:\n",
      "\n",
      "invalid value encountered in double_scalars\n",
      "\n",
      "\u001b[32m[I 2021-05-22 07:27:24,797]\u001b[0m Trial 37 finished with value: 0.4228146412482474 and parameters: {'num_leaves': 933, 'min_data_in_leaf': 120, 'min_child_weight': 0.03380694415171692, 'max_depth': 82, 'bagging_fraction': 0.5060755239818129, 'feature_fraction': 0.6132817357280784, 'lambda_l1': 1.1195579442280719, 'lambda_l2': 0.16427951056676574}. Best is trial 21 with value: 0.4206535492796133.\u001b[0m\n"
     ]
    },
    {
     "name": "stdout",
     "output_type": "stream",
     "text": [
      "LogLoss Score: 0.4228146412482474\n"
     ]
    },
    {
     "name": "stderr",
     "output_type": "stream",
     "text": [
      "/home/vsevolod/anaconda3/lib/python3.6/site-packages/numpy/core/fromnumeric.py:3335: RuntimeWarning:\n",
      "\n",
      "Mean of empty slice.\n",
      "\n",
      "/home/vsevolod/anaconda3/lib/python3.6/site-packages/numpy/core/_methods.py:161: RuntimeWarning:\n",
      "\n",
      "invalid value encountered in double_scalars\n",
      "\n",
      "\u001b[32m[I 2021-05-22 07:27:35,502]\u001b[0m Trial 38 finished with value: 0.42195383710179046 and parameters: {'num_leaves': 375, 'min_data_in_leaf': 46, 'min_child_weight': 0.021907019138733556, 'max_depth': 92, 'bagging_fraction': 0.5723736603404812, 'feature_fraction': 0.5256411996796766, 'lambda_l1': 0.9622874405636641, 'lambda_l2': 0.13868207155536094}. Best is trial 21 with value: 0.4206535492796133.\u001b[0m\n"
     ]
    },
    {
     "name": "stdout",
     "output_type": "stream",
     "text": [
      "LogLoss Score: 0.42195383710179046\n"
     ]
    },
    {
     "name": "stderr",
     "output_type": "stream",
     "text": [
      "/home/vsevolod/anaconda3/lib/python3.6/site-packages/numpy/core/fromnumeric.py:3335: RuntimeWarning:\n",
      "\n",
      "Mean of empty slice.\n",
      "\n",
      "/home/vsevolod/anaconda3/lib/python3.6/site-packages/numpy/core/_methods.py:161: RuntimeWarning:\n",
      "\n",
      "invalid value encountered in double_scalars\n",
      "\n",
      "\u001b[32m[I 2021-05-22 07:27:48,929]\u001b[0m Trial 39 finished with value: 0.4228295754169526 and parameters: {'num_leaves': 375, 'min_data_in_leaf': 158, 'min_child_weight': 0.020952567598207888, 'max_depth': 93, 'bagging_fraction': 0.5057714595133087, 'feature_fraction': 0.5249679855647258, 'lambda_l1': 0.5166683438780719, 'lambda_l2': 0.1225050225974049}. Best is trial 21 with value: 0.4206535492796133.\u001b[0m\n"
     ]
    },
    {
     "name": "stdout",
     "output_type": "stream",
     "text": [
      "LogLoss Score: 0.4228295754169526\n"
     ]
    },
    {
     "name": "stderr",
     "output_type": "stream",
     "text": [
      "/home/vsevolod/anaconda3/lib/python3.6/site-packages/numpy/core/fromnumeric.py:3335: RuntimeWarning:\n",
      "\n",
      "Mean of empty slice.\n",
      "\n",
      "/home/vsevolod/anaconda3/lib/python3.6/site-packages/numpy/core/_methods.py:161: RuntimeWarning:\n",
      "\n",
      "invalid value encountered in double_scalars\n",
      "\n",
      "\u001b[32m[I 2021-05-22 07:28:19,269]\u001b[0m Trial 40 finished with value: 0.4232269878420293 and parameters: {'num_leaves': 216, 'min_data_in_leaf': 42, 'min_child_weight': 0.015676513828539965, 'max_depth': 84, 'bagging_fraction': 0.5692156895304339, 'feature_fraction': 0.5262756507173637, 'lambda_l1': 1.282618389159453, 'lambda_l2': 0.1436325222734686}. Best is trial 21 with value: 0.4206535492796133.\u001b[0m\n"
     ]
    },
    {
     "name": "stdout",
     "output_type": "stream",
     "text": [
      "LogLoss Score: 0.4232269878420293\n"
     ]
    },
    {
     "name": "stderr",
     "output_type": "stream",
     "text": [
      "/home/vsevolod/anaconda3/lib/python3.6/site-packages/numpy/core/fromnumeric.py:3335: RuntimeWarning:\n",
      "\n",
      "Mean of empty slice.\n",
      "\n",
      "/home/vsevolod/anaconda3/lib/python3.6/site-packages/numpy/core/_methods.py:161: RuntimeWarning:\n",
      "\n",
      "invalid value encountered in double_scalars\n",
      "\n",
      "\u001b[32m[I 2021-05-22 07:28:47,895]\u001b[0m Trial 41 finished with value: 0.4264038639309304 and parameters: {'num_leaves': 995, 'min_data_in_leaf': 61, 'min_child_weight': 0.049639130866698564, 'max_depth': 77, 'bagging_fraction': 0.50046331612406, 'feature_fraction': 0.5675464190321245, 'lambda_l1': 0.9297863233689815, 'lambda_l2': 0.17554953931535586}. Best is trial 21 with value: 0.4206535492796133.\u001b[0m\n"
     ]
    },
    {
     "name": "stdout",
     "output_type": "stream",
     "text": [
      "LogLoss Score: 0.4264038639309304\n"
     ]
    },
    {
     "name": "stderr",
     "output_type": "stream",
     "text": [
      "/home/vsevolod/anaconda3/lib/python3.6/site-packages/numpy/core/fromnumeric.py:3335: RuntimeWarning:\n",
      "\n",
      "Mean of empty slice.\n",
      "\n",
      "/home/vsevolod/anaconda3/lib/python3.6/site-packages/numpy/core/_methods.py:161: RuntimeWarning:\n",
      "\n",
      "invalid value encountered in double_scalars\n",
      "\n",
      "\u001b[32m[I 2021-05-22 07:29:00,833]\u001b[0m Trial 42 finished with value: 0.42407437805491394 and parameters: {'num_leaves': 419, 'min_data_in_leaf': 95, 'min_child_weight': 0.030893502145264384, 'max_depth': 72, 'bagging_fraction': 0.5764630992359335, 'feature_fraction': 0.5310158844095668, 'lambda_l1': 0.3577502265301151, 'lambda_l2': 0.2432410076752536}. Best is trial 21 with value: 0.4206535492796133.\u001b[0m\n"
     ]
    },
    {
     "name": "stdout",
     "output_type": "stream",
     "text": [
      "LogLoss Score: 0.42407437805491394\n"
     ]
    },
    {
     "name": "stderr",
     "output_type": "stream",
     "text": [
      "/home/vsevolod/anaconda3/lib/python3.6/site-packages/numpy/core/fromnumeric.py:3335: RuntimeWarning:\n",
      "\n",
      "Mean of empty slice.\n",
      "\n",
      "/home/vsevolod/anaconda3/lib/python3.6/site-packages/numpy/core/_methods.py:161: RuntimeWarning:\n",
      "\n",
      "invalid value encountered in double_scalars\n",
      "\n",
      "\u001b[32m[I 2021-05-22 07:29:13,929]\u001b[0m Trial 43 finished with value: 0.4254077655370118 and parameters: {'num_leaves': 241, 'min_data_in_leaf': 47, 'min_child_weight': 0.008292601558248227, 'max_depth': 88, 'bagging_fraction': 0.610661840265962, 'feature_fraction': 0.5931125972259665, 'lambda_l1': 1.083478803178967, 'lambda_l2': 0.11679522871405018}. Best is trial 21 with value: 0.4206535492796133.\u001b[0m\n"
     ]
    },
    {
     "name": "stdout",
     "output_type": "stream",
     "text": [
      "LogLoss Score: 0.4254077655370118\n"
     ]
    },
    {
     "name": "stderr",
     "output_type": "stream",
     "text": [
      "/home/vsevolod/anaconda3/lib/python3.6/site-packages/numpy/core/fromnumeric.py:3335: RuntimeWarning:\n",
      "\n",
      "Mean of empty slice.\n",
      "\n",
      "/home/vsevolod/anaconda3/lib/python3.6/site-packages/numpy/core/_methods.py:161: RuntimeWarning:\n",
      "\n",
      "invalid value encountered in double_scalars\n",
      "\n",
      "\u001b[32m[I 2021-05-22 07:29:25,252]\u001b[0m Trial 44 finished with value: 0.42303098831916486 and parameters: {'num_leaves': 384, 'min_data_in_leaf': 81, 'min_child_weight': 0.019391454141061516, 'max_depth': 75, 'bagging_fraction': 0.5288817225210081, 'feature_fraction': 0.5035706785634232, 'lambda_l1': 0.6888075314481441, 'lambda_l2': 0.15165478364422375}. Best is trial 21 with value: 0.4206535492796133.\u001b[0m\n"
     ]
    },
    {
     "name": "stdout",
     "output_type": "stream",
     "text": [
      "LogLoss Score: 0.42303098831916486\n"
     ]
    },
    {
     "name": "stderr",
     "output_type": "stream",
     "text": [
      "/home/vsevolod/anaconda3/lib/python3.6/site-packages/numpy/core/fromnumeric.py:3335: RuntimeWarning:\n",
      "\n",
      "Mean of empty slice.\n",
      "\n",
      "/home/vsevolod/anaconda3/lib/python3.6/site-packages/numpy/core/_methods.py:161: RuntimeWarning:\n",
      "\n",
      "invalid value encountered in double_scalars\n",
      "\n",
      "\u001b[32m[I 2021-05-22 07:29:36,879]\u001b[0m Trial 45 finished with value: 0.4242090799714306 and parameters: {'num_leaves': 480, 'min_data_in_leaf': 90, 'min_child_weight': 0.026957869338397836, 'max_depth': 82, 'bagging_fraction': 0.5590453372350759, 'feature_fraction': 0.5689628126171671, 'lambda_l1': 1.2755408910126789, 'lambda_l2': 0.1938009007367501}. Best is trial 21 with value: 0.4206535492796133.\u001b[0m\n"
     ]
    },
    {
     "name": "stdout",
     "output_type": "stream",
     "text": [
      "LogLoss Score: 0.4242090799714306\n"
     ]
    },
    {
     "name": "stderr",
     "output_type": "stream",
     "text": [
      "/home/vsevolod/anaconda3/lib/python3.6/site-packages/numpy/core/fromnumeric.py:3335: RuntimeWarning:\n",
      "\n",
      "Mean of empty slice.\n",
      "\n",
      "/home/vsevolod/anaconda3/lib/python3.6/site-packages/numpy/core/_methods.py:161: RuntimeWarning:\n",
      "\n",
      "invalid value encountered in double_scalars\n",
      "\n",
      "\u001b[32m[I 2021-05-22 07:29:49,652]\u001b[0m Trial 46 finished with value: 0.4247593715974123 and parameters: {'num_leaves': 353, 'min_data_in_leaf': 143, 'min_child_weight': 0.03678452537733099, 'max_depth': 91, 'bagging_fraction': 0.5834227682002472, 'feature_fraction': 0.812426587829663, 'lambda_l1': 0.2653210090576965, 'lambda_l2': 0.10173437839852008}. Best is trial 21 with value: 0.4206535492796133.\u001b[0m\n"
     ]
    },
    {
     "name": "stdout",
     "output_type": "stream",
     "text": [
      "LogLoss Score: 0.4247593715974123\n"
     ]
    },
    {
     "name": "stderr",
     "output_type": "stream",
     "text": [
      "/home/vsevolod/anaconda3/lib/python3.6/site-packages/numpy/core/fromnumeric.py:3335: RuntimeWarning:\n",
      "\n",
      "Mean of empty slice.\n",
      "\n",
      "/home/vsevolod/anaconda3/lib/python3.6/site-packages/numpy/core/_methods.py:161: RuntimeWarning:\n",
      "\n",
      "invalid value encountered in double_scalars\n",
      "\n",
      "\u001b[32m[I 2021-05-22 07:30:00,997]\u001b[0m Trial 47 finished with value: 0.42194271217919854 and parameters: {'num_leaves': 67, 'min_data_in_leaf': 114, 'min_child_weight': 0.006387959706705827, 'max_depth': 100, 'bagging_fraction': 0.5207429908580179, 'feature_fraction': 0.5956007493341771, 'lambda_l1': 0.800094472917242, 'lambda_l2': 0.3125037195917875}. Best is trial 21 with value: 0.4206535492796133.\u001b[0m\n"
     ]
    },
    {
     "name": "stdout",
     "output_type": "stream",
     "text": [
      "LogLoss Score: 0.42194271217919854\n"
     ]
    },
    {
     "name": "stderr",
     "output_type": "stream",
     "text": [
      "/home/vsevolod/anaconda3/lib/python3.6/site-packages/numpy/core/fromnumeric.py:3335: RuntimeWarning:\n",
      "\n",
      "Mean of empty slice.\n",
      "\n",
      "/home/vsevolod/anaconda3/lib/python3.6/site-packages/numpy/core/_methods.py:161: RuntimeWarning:\n",
      "\n",
      "invalid value encountered in double_scalars\n",
      "\n",
      "\u001b[32m[I 2021-05-22 07:30:11,447]\u001b[0m Trial 48 finished with value: 0.42343739140104264 and parameters: {'num_leaves': 109, 'min_data_in_leaf': 112, 'min_child_weight': 0.006685836437675691, 'max_depth': 98, 'bagging_fraction': 0.5006404466503127, 'feature_fraction': 0.5972103840060596, 'lambda_l1': 1.7553467170134818, 'lambda_l2': 0.3871634196686144}. Best is trial 21 with value: 0.4206535492796133.\u001b[0m\n"
     ]
    },
    {
     "name": "stdout",
     "output_type": "stream",
     "text": [
      "LogLoss Score: 0.42343739140104264\n"
     ]
    },
    {
     "name": "stderr",
     "output_type": "stream",
     "text": [
      "/home/vsevolod/anaconda3/lib/python3.6/site-packages/numpy/core/fromnumeric.py:3335: RuntimeWarning:\n",
      "\n",
      "Mean of empty slice.\n",
      "\n",
      "/home/vsevolod/anaconda3/lib/python3.6/site-packages/numpy/core/_methods.py:161: RuntimeWarning:\n",
      "\n",
      "invalid value encountered in double_scalars\n",
      "\n",
      "\u001b[32m[I 2021-05-22 07:30:28,767]\u001b[0m Trial 49 finished with value: 0.4229383312395095 and parameters: {'num_leaves': 562, 'min_data_in_leaf': 130, 'min_child_weight': 0.0038589452742257787, 'max_depth': 100, 'bagging_fraction': 0.9466060419946888, 'feature_fraction': 0.5572506240859788, 'lambda_l1': 0.11768298935456242, 'lambda_l2': 0.31557794110872694}. Best is trial 21 with value: 0.4206535492796133.\u001b[0m\n"
     ]
    },
    {
     "name": "stdout",
     "output_type": "stream",
     "text": [
      "LogLoss Score: 0.4229383312395095\n"
     ]
    },
    {
     "name": "stderr",
     "output_type": "stream",
     "text": [
      "/home/vsevolod/anaconda3/lib/python3.6/site-packages/numpy/core/fromnumeric.py:3335: RuntimeWarning:\n",
      "\n",
      "Mean of empty slice.\n",
      "\n",
      "/home/vsevolod/anaconda3/lib/python3.6/site-packages/numpy/core/_methods.py:161: RuntimeWarning:\n",
      "\n",
      "invalid value encountered in double_scalars\n",
      "\n",
      "\u001b[32m[I 2021-05-22 07:30:38,655]\u001b[0m Trial 50 finished with value: 0.4233316454565914 and parameters: {'num_leaves': 67, 'min_data_in_leaf': 165, 'min_child_weight': 0.010591465723346231, 'max_depth': 94, 'bagging_fraction': 0.5197077888807901, 'feature_fraction': 0.5858038700380691, 'lambda_l1': 0.5863908901237512, 'lambda_l2': 0.4894085726457085}. Best is trial 21 with value: 0.4206535492796133.\u001b[0m\n"
     ]
    },
    {
     "name": "stdout",
     "output_type": "stream",
     "text": [
      "LogLoss Score: 0.4233316454565914\n"
     ]
    },
    {
     "name": "stderr",
     "output_type": "stream",
     "text": [
      "/home/vsevolod/anaconda3/lib/python3.6/site-packages/numpy/core/fromnumeric.py:3335: RuntimeWarning:\n",
      "\n",
      "Mean of empty slice.\n",
      "\n",
      "/home/vsevolod/anaconda3/lib/python3.6/site-packages/numpy/core/_methods.py:161: RuntimeWarning:\n",
      "\n",
      "invalid value encountered in double_scalars\n",
      "\n",
      "\u001b[32m[I 2021-05-22 07:30:58,890]\u001b[0m Trial 51 finished with value: 0.42411546455658067 and parameters: {'num_leaves': 211, 'min_data_in_leaf': 143, 'min_child_weight': 0.0052715232095052545, 'max_depth': 87, 'bagging_fraction': 0.5422950509475123, 'feature_fraction': 0.609868066160286, 'lambda_l1': 0.8480052671129051, 'lambda_l2': 0.2227746368360387}. Best is trial 21 with value: 0.4206535492796133.\u001b[0m\n"
     ]
    },
    {
     "name": "stdout",
     "output_type": "stream",
     "text": [
      "LogLoss Score: 0.42411546455658067\n"
     ]
    },
    {
     "name": "stderr",
     "output_type": "stream",
     "text": [
      "/home/vsevolod/anaconda3/lib/python3.6/site-packages/numpy/core/fromnumeric.py:3335: RuntimeWarning:\n",
      "\n",
      "Mean of empty slice.\n",
      "\n",
      "/home/vsevolod/anaconda3/lib/python3.6/site-packages/numpy/core/_methods.py:161: RuntimeWarning:\n",
      "\n",
      "invalid value encountered in double_scalars\n",
      "\n",
      "\u001b[32m[I 2021-05-22 07:31:13,688]\u001b[0m Trial 52 finished with value: 0.42408270942223064 and parameters: {'num_leaves': 294, 'min_data_in_leaf': 80, 'min_child_weight': 0.015004988427434765, 'max_depth': 58, 'bagging_fraction': 0.5605562245022516, 'feature_fraction': 0.6465661458584684, 'lambda_l1': 0.7102772973778401, 'lambda_l2': 0.18135493648544}. Best is trial 21 with value: 0.4206535492796133.\u001b[0m\n"
     ]
    },
    {
     "name": "stdout",
     "output_type": "stream",
     "text": [
      "LogLoss Score: 0.42408270942223064\n"
     ]
    },
    {
     "name": "stderr",
     "output_type": "stream",
     "text": [
      "/home/vsevolod/anaconda3/lib/python3.6/site-packages/numpy/core/fromnumeric.py:3335: RuntimeWarning:\n",
      "\n",
      "Mean of empty slice.\n",
      "\n",
      "/home/vsevolod/anaconda3/lib/python3.6/site-packages/numpy/core/_methods.py:161: RuntimeWarning:\n",
      "\n",
      "invalid value encountered in double_scalars\n",
      "\n",
      "\u001b[32m[I 2021-05-22 07:31:23,810]\u001b[0m Trial 53 finished with value: 0.42598178068598896 and parameters: {'num_leaves': 636, 'min_data_in_leaf': 64, 'min_child_weight': 0.04910083179518468, 'max_depth': 70, 'bagging_fraction': 0.5236189922891389, 'feature_fraction': 0.5406349844722423, 'lambda_l1': 1.0314663810221663, 'lambda_l2': 0.33553158358345886}. Best is trial 21 with value: 0.4206535492796133.\u001b[0m\n"
     ]
    },
    {
     "name": "stdout",
     "output_type": "stream",
     "text": [
      "LogLoss Score: 0.42598178068598896\n"
     ]
    },
    {
     "name": "stderr",
     "output_type": "stream",
     "text": [
      "/home/vsevolod/anaconda3/lib/python3.6/site-packages/numpy/core/fromnumeric.py:3335: RuntimeWarning:\n",
      "\n",
      "Mean of empty slice.\n",
      "\n",
      "/home/vsevolod/anaconda3/lib/python3.6/site-packages/numpy/core/_methods.py:161: RuntimeWarning:\n",
      "\n",
      "invalid value encountered in double_scalars\n",
      "\n",
      "\u001b[32m[I 2021-05-22 07:31:35,274]\u001b[0m Trial 54 finished with value: 0.4265204809090962 and parameters: {'num_leaves': 78, 'min_data_in_leaf': 96, 'min_child_weight': 0.0022306037091128733, 'max_depth': 84, 'bagging_fraction': 0.6544444532863846, 'feature_fraction': 0.7319622218856168, 'lambda_l1': 0.8382040600202638, 'lambda_l2': 0.24658194750452697}. Best is trial 21 with value: 0.4206535492796133.\u001b[0m\n"
     ]
    },
    {
     "name": "stdout",
     "output_type": "stream",
     "text": [
      "LogLoss Score: 0.4265204809090962\n"
     ]
    },
    {
     "name": "stderr",
     "output_type": "stream",
     "text": [
      "/home/vsevolod/anaconda3/lib/python3.6/site-packages/numpy/core/fromnumeric.py:3335: RuntimeWarning:\n",
      "\n",
      "Mean of empty slice.\n",
      "\n",
      "/home/vsevolod/anaconda3/lib/python3.6/site-packages/numpy/core/_methods.py:161: RuntimeWarning:\n",
      "\n",
      "invalid value encountered in double_scalars\n",
      "\n",
      "\u001b[32m[I 2021-05-22 07:31:46,876]\u001b[0m Trial 55 finished with value: 0.42568053403088063 and parameters: {'num_leaves': 505, 'min_data_in_leaf': 51, 'min_child_weight': 0.05791792805415437, 'max_depth': 62, 'bagging_fraction': 0.5885859781368927, 'feature_fraction': 0.5168588218673736, 'lambda_l1': 1.3970250849292183, 'lambda_l2': 0.15402219344899754}. Best is trial 21 with value: 0.4206535492796133.\u001b[0m\n"
     ]
    },
    {
     "name": "stdout",
     "output_type": "stream",
     "text": [
      "LogLoss Score: 0.42568053403088063\n"
     ]
    },
    {
     "name": "stderr",
     "output_type": "stream",
     "text": [
      "/home/vsevolod/anaconda3/lib/python3.6/site-packages/numpy/core/fromnumeric.py:3335: RuntimeWarning:\n",
      "\n",
      "Mean of empty slice.\n",
      "\n",
      "/home/vsevolod/anaconda3/lib/python3.6/site-packages/numpy/core/_methods.py:161: RuntimeWarning:\n",
      "\n",
      "invalid value encountered in double_scalars\n",
      "\n",
      "\u001b[32m[I 2021-05-22 07:31:59,487]\u001b[0m Trial 56 finished with value: 0.42303180330479906 and parameters: {'num_leaves': 455, 'min_data_in_leaf': 113, 'min_child_weight': 0.02581851044013441, 'max_depth': 46, 'bagging_fraction': 0.7927540354144359, 'feature_fraction': 0.6361050607768186, 'lambda_l1': 0.10071947880206515, 'lambda_l2': 0.13123688561004007}. Best is trial 21 with value: 0.4206535492796133.\u001b[0m\n"
     ]
    },
    {
     "name": "stdout",
     "output_type": "stream",
     "text": [
      "LogLoss Score: 0.42303180330479906\n"
     ]
    },
    {
     "name": "stderr",
     "output_type": "stream",
     "text": [
      "/home/vsevolod/anaconda3/lib/python3.6/site-packages/numpy/core/fromnumeric.py:3335: RuntimeWarning:\n",
      "\n",
      "Mean of empty slice.\n",
      "\n",
      "/home/vsevolod/anaconda3/lib/python3.6/site-packages/numpy/core/_methods.py:161: RuntimeWarning:\n",
      "\n",
      "invalid value encountered in double_scalars\n",
      "\n",
      "\u001b[32m[I 2021-05-22 07:32:13,034]\u001b[0m Trial 57 finished with value: 0.42351907993532373 and parameters: {'num_leaves': 799, 'min_data_in_leaf': 126, 'min_child_weight': 0.017493618074336362, 'max_depth': 55, 'bagging_fraction': 0.5413787618497404, 'feature_fraction': 0.8628978782572015, 'lambda_l1': 1.200108862852692, 'lambda_l2': 0.2103135278555751}. Best is trial 21 with value: 0.4206535492796133.\u001b[0m\n"
     ]
    },
    {
     "name": "stdout",
     "output_type": "stream",
     "text": [
      "LogLoss Score: 0.42351907993532373\n"
     ]
    },
    {
     "name": "stderr",
     "output_type": "stream",
     "text": [
      "/home/vsevolod/anaconda3/lib/python3.6/site-packages/numpy/core/fromnumeric.py:3335: RuntimeWarning:\n",
      "\n",
      "Mean of empty slice.\n",
      "\n",
      "/home/vsevolod/anaconda3/lib/python3.6/site-packages/numpy/core/_methods.py:161: RuntimeWarning:\n",
      "\n",
      "invalid value encountered in double_scalars\n",
      "\n",
      "\u001b[32m[I 2021-05-22 07:32:29,393]\u001b[0m Trial 58 finished with value: 0.42438819744898965 and parameters: {'num_leaves': 180, 'min_data_in_leaf': 65, 'min_child_weight': 0.04675108189024398, 'max_depth': 97, 'bagging_fraction': 0.5134313427966742, 'feature_fraction': 0.9407241302098519, 'lambda_l1': 0.5277409797207131, 'lambda_l2': 0.28533618696065277}. Best is trial 21 with value: 0.4206535492796133.\u001b[0m\n"
     ]
    },
    {
     "name": "stdout",
     "output_type": "stream",
     "text": [
      "LogLoss Score: 0.42438819744898965\n"
     ]
    },
    {
     "name": "stderr",
     "output_type": "stream",
     "text": [
      "/home/vsevolod/anaconda3/lib/python3.6/site-packages/numpy/core/fromnumeric.py:3335: RuntimeWarning:\n",
      "\n",
      "Mean of empty slice.\n",
      "\n",
      "/home/vsevolod/anaconda3/lib/python3.6/site-packages/numpy/core/_methods.py:161: RuntimeWarning:\n",
      "\n",
      "invalid value encountered in double_scalars\n",
      "\n",
      "\u001b[32m[I 2021-05-22 07:32:40,010]\u001b[0m Trial 59 finished with value: 0.42095592909253343 and parameters: {'num_leaves': 254, 'min_data_in_leaf': 86, 'min_child_weight': 0.006031634826152341, 'max_depth': 41, 'bagging_fraction': 0.5631517745430297, 'feature_fraction': 0.5550869322688586, 'lambda_l1': 0.6440696435819983, 'lambda_l2': 0.20495392913369023}. Best is trial 21 with value: 0.4206535492796133.\u001b[0m\n"
     ]
    },
    {
     "name": "stdout",
     "output_type": "stream",
     "text": [
      "LogLoss Score: 0.42095592909253343\n"
     ]
    },
    {
     "name": "stderr",
     "output_type": "stream",
     "text": [
      "/home/vsevolod/anaconda3/lib/python3.6/site-packages/numpy/core/fromnumeric.py:3335: RuntimeWarning:\n",
      "\n",
      "Mean of empty slice.\n",
      "\n",
      "/home/vsevolod/anaconda3/lib/python3.6/site-packages/numpy/core/_methods.py:161: RuntimeWarning:\n",
      "\n",
      "invalid value encountered in double_scalars\n",
      "\n",
      "\u001b[32m[I 2021-05-22 07:32:50,882]\u001b[0m Trial 60 finished with value: 0.4234562039438101 and parameters: {'num_leaves': 262, 'min_data_in_leaf': 102, 'min_child_weight': 0.006411847245531891, 'max_depth': 37, 'bagging_fraction': 0.9069155308572121, 'feature_fraction': 0.5611265440953163, 'lambda_l1': 0.6462368256124963, 'lambda_l2': 0.20812489943251836}. Best is trial 21 with value: 0.4206535492796133.\u001b[0m\n"
     ]
    },
    {
     "name": "stdout",
     "output_type": "stream",
     "text": [
      "LogLoss Score: 0.4234562039438101\n"
     ]
    },
    {
     "name": "stderr",
     "output_type": "stream",
     "text": [
      "/home/vsevolod/anaconda3/lib/python3.6/site-packages/numpy/core/fromnumeric.py:3335: RuntimeWarning:\n",
      "\n",
      "Mean of empty slice.\n",
      "\n",
      "/home/vsevolod/anaconda3/lib/python3.6/site-packages/numpy/core/_methods.py:161: RuntimeWarning:\n",
      "\n",
      "invalid value encountered in double_scalars\n",
      "\n",
      "\u001b[32m[I 2021-05-22 07:33:06,519]\u001b[0m Trial 61 finished with value: 0.4225739804357605 and parameters: {'num_leaves': 316, 'min_data_in_leaf': 90, 'min_child_weight': 0.0053139783783685834, 'max_depth': 38, 'bagging_fraction': 0.5588990852565126, 'feature_fraction': 0.5798735537588768, 'lambda_l1': 0.966836760391185, 'lambda_l2': 0.18047130624232766}. Best is trial 21 with value: 0.4206535492796133.\u001b[0m\n"
     ]
    },
    {
     "name": "stdout",
     "output_type": "stream",
     "text": [
      "LogLoss Score: 0.4225739804357605\n"
     ]
    },
    {
     "name": "stderr",
     "output_type": "stream",
     "text": [
      "/home/vsevolod/anaconda3/lib/python3.6/site-packages/numpy/core/fromnumeric.py:3335: RuntimeWarning:\n",
      "\n",
      "Mean of empty slice.\n",
      "\n",
      "/home/vsevolod/anaconda3/lib/python3.6/site-packages/numpy/core/_methods.py:161: RuntimeWarning:\n",
      "\n",
      "invalid value encountered in double_scalars\n",
      "\n",
      "\u001b[32m[I 2021-05-22 07:33:18,992]\u001b[0m Trial 62 finished with value: 0.42393829139797096 and parameters: {'num_leaves': 189, 'min_data_in_leaf': 85, 'min_child_weight': 0.009440024186171635, 'max_depth': 45, 'bagging_fraction': 0.6044601851553442, 'feature_fraction': 0.5420351789901596, 'lambda_l1': 0.7864347872660251, 'lambda_l2': 0.2392198395378245}. Best is trial 21 with value: 0.4206535492796133.\u001b[0m\n"
     ]
    },
    {
     "name": "stdout",
     "output_type": "stream",
     "text": [
      "LogLoss Score: 0.42393829139797096\n"
     ]
    },
    {
     "name": "stderr",
     "output_type": "stream",
     "text": [
      "/home/vsevolod/anaconda3/lib/python3.6/site-packages/numpy/core/fromnumeric.py:3335: RuntimeWarning:\n",
      "\n",
      "Mean of empty slice.\n",
      "\n",
      "/home/vsevolod/anaconda3/lib/python3.6/site-packages/numpy/core/_methods.py:161: RuntimeWarning:\n",
      "\n",
      "invalid value encountered in double_scalars\n",
      "\n",
      "\u001b[32m[I 2021-05-22 07:33:29,693]\u001b[0m Trial 63 finished with value: 0.42093966785533415 and parameters: {'num_leaves': 357, 'min_data_in_leaf': 109, 'min_child_weight': 0.003090464530284736, 'max_depth': 23, 'bagging_fraction': 0.5422991868504866, 'feature_fraction': 0.6260376212363167, 'lambda_l1': 1.1356353475359917, 'lambda_l2': 0.26551569999819197}. Best is trial 21 with value: 0.4206535492796133.\u001b[0m\n"
     ]
    },
    {
     "name": "stdout",
     "output_type": "stream",
     "text": [
      "LogLoss Score: 0.42093966785533415\n"
     ]
    },
    {
     "name": "stderr",
     "output_type": "stream",
     "text": [
      "/home/vsevolod/anaconda3/lib/python3.6/site-packages/numpy/core/fromnumeric.py:3335: RuntimeWarning:\n",
      "\n",
      "Mean of empty slice.\n",
      "\n",
      "/home/vsevolod/anaconda3/lib/python3.6/site-packages/numpy/core/_methods.py:161: RuntimeWarning:\n",
      "\n",
      "invalid value encountered in double_scalars\n",
      "\n",
      "\u001b[32m[I 2021-05-22 07:33:41,820]\u001b[0m Trial 64 finished with value: 0.4225806585881652 and parameters: {'num_leaves': 428, 'min_data_in_leaf': 120, 'min_child_weight': 0.002077960384861669, 'max_depth': 20, 'bagging_fraction': 0.5443205723513664, 'feature_fraction': 0.6232507321056613, 'lambda_l1': 1.385813657688977, 'lambda_l2': 0.2791072392017073}. Best is trial 21 with value: 0.4206535492796133.\u001b[0m\n"
     ]
    },
    {
     "name": "stdout",
     "output_type": "stream",
     "text": [
      "LogLoss Score: 0.4225806585881652\n"
     ]
    },
    {
     "name": "stderr",
     "output_type": "stream",
     "text": [
      "/home/vsevolod/anaconda3/lib/python3.6/site-packages/numpy/core/fromnumeric.py:3335: RuntimeWarning:\n",
      "\n",
      "Mean of empty slice.\n",
      "\n",
      "/home/vsevolod/anaconda3/lib/python3.6/site-packages/numpy/core/_methods.py:161: RuntimeWarning:\n",
      "\n",
      "invalid value encountered in double_scalars\n",
      "\n",
      "\u001b[32m[I 2021-05-22 07:33:55,035]\u001b[0m Trial 65 finished with value: 0.4212390030820516 and parameters: {'num_leaves': 352, 'min_data_in_leaf': 107, 'min_child_weight': 0.001637371066417984, 'max_depth': 12, 'bagging_fraction': 0.5267787531570532, 'feature_fraction': 0.6046434735777302, 'lambda_l1': 1.1463082467699448, 'lambda_l2': 0.34036049431162685}. Best is trial 21 with value: 0.4206535492796133.\u001b[0m\n"
     ]
    },
    {
     "name": "stdout",
     "output_type": "stream",
     "text": [
      "LogLoss Score: 0.4212390030820516\n"
     ]
    },
    {
     "name": "stderr",
     "output_type": "stream",
     "text": [
      "/home/vsevolod/anaconda3/lib/python3.6/site-packages/numpy/core/fromnumeric.py:3335: RuntimeWarning:\n",
      "\n",
      "Mean of empty slice.\n",
      "\n",
      "/home/vsevolod/anaconda3/lib/python3.6/site-packages/numpy/core/_methods.py:161: RuntimeWarning:\n",
      "\n",
      "invalid value encountered in double_scalars\n",
      "\n",
      "\u001b[32m[I 2021-05-22 07:34:06,636]\u001b[0m Trial 66 finished with value: 0.4225904894830751 and parameters: {'num_leaves': 338, 'min_data_in_leaf': 108, 'min_child_weight': 0.0014327724253738756, 'max_depth': 12, 'bagging_fraction': 0.5278326858397293, 'feature_fraction': 0.6615337387272816, 'lambda_l1': 1.731986378561855, 'lambda_l2': 0.34856418989383575}. Best is trial 21 with value: 0.4206535492796133.\u001b[0m\n"
     ]
    },
    {
     "name": "stdout",
     "output_type": "stream",
     "text": [
      "LogLoss Score: 0.4225904894830751\n"
     ]
    },
    {
     "name": "stderr",
     "output_type": "stream",
     "text": [
      "/home/vsevolod/anaconda3/lib/python3.6/site-packages/numpy/core/fromnumeric.py:3335: RuntimeWarning:\n",
      "\n",
      "Mean of empty slice.\n",
      "\n",
      "/home/vsevolod/anaconda3/lib/python3.6/site-packages/numpy/core/_methods.py:161: RuntimeWarning:\n",
      "\n",
      "invalid value encountered in double_scalars\n",
      "\n",
      "\u001b[32m[I 2021-05-22 07:34:17,908]\u001b[0m Trial 67 finished with value: 0.4350474879216299 and parameters: {'num_leaves': 133, 'min_data_in_leaf': 110, 'min_child_weight': 0.00325897884803884, 'max_depth': 1, 'bagging_fraction': 0.5005920842218677, 'feature_fraction': 0.6077521259672053, 'lambda_l1': 1.1639848690238461, 'lambda_l2': 0.41986987702262096}. Best is trial 21 with value: 0.4206535492796133.\u001b[0m\n"
     ]
    },
    {
     "name": "stdout",
     "output_type": "stream",
     "text": [
      "LogLoss Score: 0.4350474879216299\n"
     ]
    },
    {
     "name": "stderr",
     "output_type": "stream",
     "text": [
      "/home/vsevolod/anaconda3/lib/python3.6/site-packages/numpy/core/fromnumeric.py:3335: RuntimeWarning:\n",
      "\n",
      "Mean of empty slice.\n",
      "\n",
      "/home/vsevolod/anaconda3/lib/python3.6/site-packages/numpy/core/_methods.py:161: RuntimeWarning:\n",
      "\n",
      "invalid value encountered in double_scalars\n",
      "\n",
      "\u001b[32m[I 2021-05-22 07:34:30,614]\u001b[0m Trial 68 finished with value: 0.42491737660552276 and parameters: {'num_leaves': 536, 'min_data_in_leaf': 120, 'min_child_weight': 0.0016004811734272857, 'max_depth': 22, 'bagging_fraction': 0.5143129594710097, 'feature_fraction': 0.6316055554985086, 'lambda_l1': 0.39689644493503645, 'lambda_l2': 0.30336965821459844}. Best is trial 21 with value: 0.4206535492796133.\u001b[0m\n"
     ]
    },
    {
     "name": "stdout",
     "output_type": "stream",
     "text": [
      "LogLoss Score: 0.42491737660552276\n"
     ]
    },
    {
     "name": "stderr",
     "output_type": "stream",
     "text": [
      "/home/vsevolod/anaconda3/lib/python3.6/site-packages/numpy/core/fromnumeric.py:3335: RuntimeWarning:\n",
      "\n",
      "Mean of empty slice.\n",
      "\n",
      "/home/vsevolod/anaconda3/lib/python3.6/site-packages/numpy/core/_methods.py:161: RuntimeWarning:\n",
      "\n",
      "invalid value encountered in double_scalars\n",
      "\n",
      "\u001b[32m[I 2021-05-22 07:34:40,546]\u001b[0m Trial 69 finished with value: 0.4228382084745513 and parameters: {'num_leaves': 408, 'min_data_in_leaf': 148, 'min_child_weight': 0.004273312760559664, 'max_depth': 24, 'bagging_fraction': 0.5373580262014479, 'feature_fraction': 0.5946021773930047, 'lambda_l1': 1.4225007127199487, 'lambda_l2': 0.6357960728212722}. Best is trial 21 with value: 0.4206535492796133.\u001b[0m\n"
     ]
    },
    {
     "name": "stdout",
     "output_type": "stream",
     "text": [
      "LogLoss Score: 0.4228382084745513\n"
     ]
    },
    {
     "name": "stderr",
     "output_type": "stream",
     "text": [
      "/home/vsevolod/anaconda3/lib/python3.6/site-packages/numpy/core/fromnumeric.py:3335: RuntimeWarning:\n",
      "\n",
      "Mean of empty slice.\n",
      "\n",
      "/home/vsevolod/anaconda3/lib/python3.6/site-packages/numpy/core/_methods.py:161: RuntimeWarning:\n",
      "\n",
      "invalid value encountered in double_scalars\n",
      "\n",
      "\u001b[32m[I 2021-05-22 07:34:50,387]\u001b[0m Trial 70 finished with value: 0.42245107639483165 and parameters: {'num_leaves': 243, 'min_data_in_leaf': 137, 'min_child_weight': 0.002843607803574494, 'max_depth': 4, 'bagging_fraction': 0.5505338732492533, 'feature_fraction': 0.6179070557652705, 'lambda_l1': 1.9490115430369874, 'lambda_l2': 0.38262228057202247}. Best is trial 21 with value: 0.4206535492796133.\u001b[0m\n"
     ]
    },
    {
     "name": "stdout",
     "output_type": "stream",
     "text": [
      "LogLoss Score: 0.42245107639483165\n"
     ]
    },
    {
     "name": "stderr",
     "output_type": "stream",
     "text": [
      "/home/vsevolod/anaconda3/lib/python3.6/site-packages/numpy/core/fromnumeric.py:3335: RuntimeWarning:\n",
      "\n",
      "Mean of empty slice.\n",
      "\n",
      "/home/vsevolod/anaconda3/lib/python3.6/site-packages/numpy/core/_methods.py:161: RuntimeWarning:\n",
      "\n",
      "invalid value encountered in double_scalars\n",
      "\n",
      "\u001b[32m[I 2021-05-22 07:35:09,780]\u001b[0m Trial 71 finished with value: 0.4241644825206007 and parameters: {'num_leaves': 295, 'min_data_in_leaf': 101, 'min_child_weight': 0.001158182678442893, 'max_depth': 18, 'bagging_fraction': 0.5650605316088725, 'feature_fraction': 0.5761696818177201, 'lambda_l1': 1.0314611372861353, 'lambda_l2': 0.2669722245463049}. Best is trial 21 with value: 0.4206535492796133.\u001b[0m\n"
     ]
    },
    {
     "name": "stdout",
     "output_type": "stream",
     "text": [
      "LogLoss Score: 0.4241644825206007\n"
     ]
    },
    {
     "name": "stderr",
     "output_type": "stream",
     "text": [
      "/home/vsevolod/anaconda3/lib/python3.6/site-packages/numpy/core/fromnumeric.py:3335: RuntimeWarning:\n",
      "\n",
      "Mean of empty slice.\n",
      "\n",
      "/home/vsevolod/anaconda3/lib/python3.6/site-packages/numpy/core/_methods.py:161: RuntimeWarning:\n",
      "\n",
      "invalid value encountered in double_scalars\n",
      "\n",
      "\u001b[32m[I 2021-05-22 07:35:26,542]\u001b[0m Trial 72 finished with value: 0.42361210757737544 and parameters: {'num_leaves': 355, 'min_data_in_leaf': 95, 'min_child_weight': 0.007049479019756893, 'max_depth': 26, 'bagging_fraction': 0.5794884569711117, 'feature_fraction': 0.5530051086832327, 'lambda_l1': 0.9485912187007254, 'lambda_l2': 0.2307543281898963}. Best is trial 21 with value: 0.4206535492796133.\u001b[0m\n"
     ]
    },
    {
     "name": "stdout",
     "output_type": "stream",
     "text": [
      "LogLoss Score: 0.42361210757737544\n"
     ]
    },
    {
     "name": "stderr",
     "output_type": "stream",
     "text": [
      "/home/vsevolod/anaconda3/lib/python3.6/site-packages/numpy/core/fromnumeric.py:3335: RuntimeWarning:\n",
      "\n",
      "Mean of empty slice.\n",
      "\n",
      "/home/vsevolod/anaconda3/lib/python3.6/site-packages/numpy/core/_methods.py:161: RuntimeWarning:\n",
      "\n",
      "invalid value encountered in double_scalars\n",
      "\n",
      "\u001b[32m[I 2021-05-22 07:35:40,642]\u001b[0m Trial 73 finished with value: 0.4225432454025887 and parameters: {'num_leaves': 387, 'min_data_in_leaf': 126, 'min_child_weight': 0.002705961804889859, 'max_depth': 13, 'bagging_fraction': 0.523843290670527, 'feature_fraction': 0.5878077967934784, 'lambda_l1': 1.0836187894436105, 'lambda_l2': 0.29555291988922033}. Best is trial 21 with value: 0.4206535492796133.\u001b[0m\n"
     ]
    },
    {
     "name": "stdout",
     "output_type": "stream",
     "text": [
      "LogLoss Score: 0.4225432454025887\n"
     ]
    },
    {
     "name": "stderr",
     "output_type": "stream",
     "text": [
      "/home/vsevolod/anaconda3/lib/python3.6/site-packages/numpy/core/fromnumeric.py:3335: RuntimeWarning:\n",
      "\n",
      "Mean of empty slice.\n",
      "\n",
      "/home/vsevolod/anaconda3/lib/python3.6/site-packages/numpy/core/_methods.py:161: RuntimeWarning:\n",
      "\n",
      "invalid value encountered in double_scalars\n",
      "\n",
      "\u001b[32m[I 2021-05-22 07:36:05,164]\u001b[0m Trial 74 finished with value: 0.42471668389496875 and parameters: {'num_leaves': 321, 'min_data_in_leaf': 77, 'min_child_weight': 0.011689973993629142, 'max_depth': 17, 'bagging_fraction': 0.552390943404194, 'feature_fraction': 0.6033136020068446, 'lambda_l1': 1.305622405861268, 'lambda_l2': 0.3332610788225839}. Best is trial 21 with value: 0.4206535492796133.\u001b[0m\n"
     ]
    },
    {
     "name": "stdout",
     "output_type": "stream",
     "text": [
      "LogLoss Score: 0.42471668389496875\n"
     ]
    }
   ],
   "source": [
    "study = optuna.create_study(direction='minimize')\n",
    "study.optimize(objective, n_trials=100)"
   ]
  },
  {
   "cell_type": "code",
   "execution_count": null,
   "metadata": {},
   "outputs": [],
   "source": [
    "study.best_trial "
   ]
  },
  {
   "cell_type": "code",
   "execution_count": null,
   "metadata": {},
   "outputs": [],
   "source": [
    "\n",
    "params={'num_leaves': 560, 'min_data_in_leaf': 189, 'min_child_weight': 0.0024699349965224245, 'max_depth': 26, 'bagging_fraction': 0.9753023991207269, 'feature_fraction': 0.7137858794613544, 'lambda_l1': 0.5330703499296066, 'lambda_l2': 0.12028486914560135}\n",
    "\n",
    "lgb_train = lgb.Dataset(data=train_df.astype('float32'), label=y_train.astype('float32'))\n",
    "lgb_valid = lgb.Dataset(data=dev_df.astype('float32'), label=y_dev.astype('float32'))\n",
    "\n",
    "estimator = lgb.train(params, lgb_train, 800, verbose_eval=0)\n",
    "\n",
    "lgbm_probs = estimator.predict(dev_df)\n",
    "\n",
    "from sklearn.metrics import roc_auc_score\n",
    "roc_auc_score(y_dev,check)\n"
   ]
  },
  {
   "cell_type": "code",
   "execution_count": 73,
   "metadata": {},
   "outputs": [
    {
     "data": {
      "text/plain": [
       "0.843"
      ]
     },
     "execution_count": 73,
     "metadata": {},
     "output_type": "execute_result"
    }
   ],
   "source": [
    "accuracy_score(y_dev, (lgbm_probs > 0.5).astype(int))"
   ]
  },
  {
   "cell_type": "markdown",
   "metadata": {},
   "source": [
    "### Bagging LGBM"
   ]
  },
  {
   "cell_type": "code",
   "execution_count": 34,
   "metadata": {},
   "outputs": [],
   "source": [
    "classifiers = []\n",
    "\n",
    "n_splits = 5\n",
    "cv = StratifiedKFold(n_splits=n_splits, shuffle=True, random_state=42)\n",
    "for train_idx, valid_idx in cv.split(train_df, y_train):\n",
    "    params={'num_leaves': 560, 'min_data_in_leaf': 189, 'min_child_weight': 0.0024699349965224245, \\\n",
    "            'max_depth': 26, 'bagging_fraction': 0.9753023991207269, \\\n",
    "            'feature_fraction': 0.7137858794613544, 'lambda_l1': 0.5330703499296066, \\\n",
    "            'lambda_l2': 0.12028486914560135, \\\n",
    "           'objective': 'binary',\n",
    "    'metric': 'binary_logloss',\n",
    "    'boosting_type': 'gbdt',\n",
    "    'boost_from_average': True,\n",
    "    'num_threads': 4,\n",
    "    'random_state': 42} # minimize\n",
    "    x_train_train = train_df.iloc[train_idx]\n",
    "    y_train_train = y_train.iloc[train_idx]\n",
    "    x_train_valid = train_df.iloc[valid_idx]\n",
    "    y_train_valid = y_train.iloc[valid_idx]\n",
    "\n",
    "    lgb_train = lgb.Dataset(data=x_train_train.astype('float32'), label=y_train_train.astype('float32'))\n",
    "    lgb_valid = lgb.Dataset(data=x_train_valid.astype('float32'), label=y_train_valid.astype('float32'))\n",
    "\n",
    "    estimator = lgb.train(params, lgb_train, 10000, valid_sets=lgb_valid,\n",
    "                          early_stopping_rounds=25, verbose_eval=0)\n",
    "    classifiers.append(estimator)"
   ]
  },
  {
   "cell_type": "code",
   "execution_count": 35,
   "metadata": {},
   "outputs": [
    {
     "data": {
      "text/plain": [
       "0.839"
      ]
     },
     "execution_count": 35,
     "metadata": {},
     "output_type": "execute_result"
    }
   ],
   "source": [
    "\n",
    "preds = []\n",
    "for clf in classifiers:\n",
    "    y_part = estimator.predict(dev_df, num_iteration=estimator.best_iteration)\n",
    "    preds.append(y_part)\n",
    "preds = np.mean(preds, axis=0)\n",
    "\n",
    "check = (preds > 0.5).astype(int)\n",
    "accuracy_score(y_dev, check)"
   ]
  },
  {
   "cell_type": "markdown",
   "metadata": {},
   "source": [
    "# Random Forest"
   ]
  },
  {
   "cell_type": "code",
   "execution_count": 37,
   "metadata": {},
   "outputs": [],
   "source": [
    "from sklearn.metrics import accuracy_score, log_loss\n",
    "from sklearn.model_selection import StratifiedKFold\n",
    "import lightgbm as lgb\n",
    "from sklearn import linear_model\n",
    "from sklearn import ensemble\n",
    "from sklearn import datasets\n",
    "from sklearn import model_selection\n",
    "def fit_predict(n_splits, params, x_train, y_train, x_test):\n",
    "    \n",
    "    oof = np.zeros(x_train.shape[0])\n",
    "    \n",
    "    y_preds = []\n",
    "    \n",
    "    cv = StratifiedKFold(n_splits=n_splits, shuffle=True, random_state=7)\n",
    "    for train_idx, valid_idx in cv.split(x_train, y_train):\n",
    "        \n",
    "        x_train_train = train_df.iloc[train_idx]\n",
    "        y_train_train = y_train.iloc[train_idx]\n",
    "        x_train_valid = train_df.iloc[valid_idx]\n",
    "        y_train_valid = y_train.iloc[valid_idx]\n",
    "\n",
    "        estimator = ensemble.RandomForestClassifier(**params)\n",
    "        estimator.fit(x_train_train, y_train_train)\n",
    "        oof_part = estimator.predict(x_train_valid)\n",
    "        oof[valid_idx] = oof_part\n",
    "        \n",
    "        if x_test is not None:\n",
    "            y_part = estimator.predict(x_test)\n",
    "            y_preds.append(y_part)\n",
    "        \n",
    "    score = accuracy_score(y_train, oof)\n",
    "    print('Accuracy:', score)\n",
    "    \n",
    "    y_pred = np.mean(y_preds, axis=0)\n",
    "    \n",
    "    return y_pred, oof, score"
   ]
  },
  {
   "cell_type": "code",
   "execution_count": 38,
   "metadata": {},
   "outputs": [
    {
     "name": "stderr",
     "output_type": "stream",
     "text": [
      "\u001b[32m[I 2021-05-22 05:13:39,480]\u001b[0m A new study created in memory with name: no-name-c34a320d-112d-46ee-bb0f-ae086b944f2e\u001b[0m\n",
      "/home/vsevolod/anaconda3/lib/python3.6/site-packages/numpy/core/fromnumeric.py:3335: RuntimeWarning:\n",
      "\n",
      "Mean of empty slice.\n",
      "\n",
      "/home/vsevolod/anaconda3/lib/python3.6/site-packages/numpy/core/_methods.py:161: RuntimeWarning:\n",
      "\n",
      "invalid value encountered in double_scalars\n",
      "\n",
      "\u001b[32m[I 2021-05-22 05:14:39,809]\u001b[0m Trial 0 finished with value: 0.804625 and parameters: {'rf_criterion': 'gini', 'n_estimators': 341, 'max_depth': 15, 'min_samples_split': 8, 'min_samples_leaf': 8}. Best is trial 0 with value: 0.804625.\u001b[0m\n"
     ]
    },
    {
     "name": "stdout",
     "output_type": "stream",
     "text": [
      "Accuracy: 0.804625\n"
     ]
    },
    {
     "ename": "KeyboardInterrupt",
     "evalue": "",
     "output_type": "error",
     "traceback": [
      "\u001b[0;31m---------------------------------------------------------------------------\u001b[0m",
      "\u001b[0;31mKeyboardInterrupt\u001b[0m                         Traceback (most recent call last)",
      "\u001b[0;32m<ipython-input-38-374708dbeb72>\u001b[0m in \u001b[0;36m<module>\u001b[0;34m\u001b[0m\n\u001b[1;32m     16\u001b[0m \u001b[0;34m\u001b[0m\u001b[0m\n\u001b[1;32m     17\u001b[0m \u001b[0mstudy\u001b[0m \u001b[0;34m=\u001b[0m \u001b[0moptuna\u001b[0m\u001b[0;34m.\u001b[0m\u001b[0mcreate_study\u001b[0m\u001b[0;34m(\u001b[0m\u001b[0mdirection\u001b[0m\u001b[0;34m=\u001b[0m\u001b[0;34m'maximize'\u001b[0m\u001b[0;34m)\u001b[0m\u001b[0;34m\u001b[0m\u001b[0;34m\u001b[0m\u001b[0m\n\u001b[0;32m---> 18\u001b[0;31m \u001b[0mstudy\u001b[0m\u001b[0;34m.\u001b[0m\u001b[0moptimize\u001b[0m\u001b[0;34m(\u001b[0m\u001b[0mobjective\u001b[0m\u001b[0;34m,\u001b[0m \u001b[0mn_trials\u001b[0m\u001b[0;34m=\u001b[0m\u001b[0;36m30\u001b[0m\u001b[0;34m)\u001b[0m\u001b[0;34m\u001b[0m\u001b[0;34m\u001b[0m\u001b[0m\n\u001b[0m\u001b[1;32m     19\u001b[0m \u001b[0mstudy\u001b[0m\u001b[0;34m.\u001b[0m\u001b[0mbest_params\u001b[0m\u001b[0;34m\u001b[0m\u001b[0;34m\u001b[0m\u001b[0m\n",
      "\u001b[0;32m~/anaconda3/lib/python3.6/site-packages/optuna/study.py\u001b[0m in \u001b[0;36moptimize\u001b[0;34m(self, func, n_trials, timeout, n_jobs, catch, callbacks, gc_after_trial, show_progress_bar)\u001b[0m\n\u001b[1;32m    407\u001b[0m             \u001b[0mcallbacks\u001b[0m\u001b[0;34m=\u001b[0m\u001b[0mcallbacks\u001b[0m\u001b[0;34m,\u001b[0m\u001b[0;34m\u001b[0m\u001b[0;34m\u001b[0m\u001b[0m\n\u001b[1;32m    408\u001b[0m             \u001b[0mgc_after_trial\u001b[0m\u001b[0;34m=\u001b[0m\u001b[0mgc_after_trial\u001b[0m\u001b[0;34m,\u001b[0m\u001b[0;34m\u001b[0m\u001b[0;34m\u001b[0m\u001b[0m\n\u001b[0;32m--> 409\u001b[0;31m             \u001b[0mshow_progress_bar\u001b[0m\u001b[0;34m=\u001b[0m\u001b[0mshow_progress_bar\u001b[0m\u001b[0;34m,\u001b[0m\u001b[0;34m\u001b[0m\u001b[0;34m\u001b[0m\u001b[0m\n\u001b[0m\u001b[1;32m    410\u001b[0m         )\n\u001b[1;32m    411\u001b[0m \u001b[0;34m\u001b[0m\u001b[0m\n",
      "\u001b[0;32m~/anaconda3/lib/python3.6/site-packages/optuna/_optimize.py\u001b[0m in \u001b[0;36m_optimize\u001b[0;34m(study, func, n_trials, timeout, n_jobs, catch, callbacks, gc_after_trial, show_progress_bar)\u001b[0m\n\u001b[1;32m     74\u001b[0m                 \u001b[0mreseed_sampler_rng\u001b[0m\u001b[0;34m=\u001b[0m\u001b[0;32mFalse\u001b[0m\u001b[0;34m,\u001b[0m\u001b[0;34m\u001b[0m\u001b[0;34m\u001b[0m\u001b[0m\n\u001b[1;32m     75\u001b[0m                 \u001b[0mtime_start\u001b[0m\u001b[0;34m=\u001b[0m\u001b[0;32mNone\u001b[0m\u001b[0;34m,\u001b[0m\u001b[0;34m\u001b[0m\u001b[0;34m\u001b[0m\u001b[0m\n\u001b[0;32m---> 76\u001b[0;31m                 \u001b[0mprogress_bar\u001b[0m\u001b[0;34m=\u001b[0m\u001b[0mprogress_bar\u001b[0m\u001b[0;34m,\u001b[0m\u001b[0;34m\u001b[0m\u001b[0;34m\u001b[0m\u001b[0m\n\u001b[0m\u001b[1;32m     77\u001b[0m             )\n\u001b[1;32m     78\u001b[0m         \u001b[0;32melse\u001b[0m\u001b[0;34m:\u001b[0m\u001b[0;34m\u001b[0m\u001b[0;34m\u001b[0m\u001b[0m\n",
      "\u001b[0;32m~/anaconda3/lib/python3.6/site-packages/optuna/_optimize.py\u001b[0m in \u001b[0;36m_optimize_sequential\u001b[0;34m(study, func, n_trials, timeout, catch, callbacks, gc_after_trial, reseed_sampler_rng, time_start, progress_bar)\u001b[0m\n\u001b[1;32m    161\u001b[0m \u001b[0;34m\u001b[0m\u001b[0m\n\u001b[1;32m    162\u001b[0m         \u001b[0;32mtry\u001b[0m\u001b[0;34m:\u001b[0m\u001b[0;34m\u001b[0m\u001b[0;34m\u001b[0m\u001b[0m\n\u001b[0;32m--> 163\u001b[0;31m             \u001b[0mtrial\u001b[0m \u001b[0;34m=\u001b[0m \u001b[0m_run_trial\u001b[0m\u001b[0;34m(\u001b[0m\u001b[0mstudy\u001b[0m\u001b[0;34m,\u001b[0m \u001b[0mfunc\u001b[0m\u001b[0;34m,\u001b[0m \u001b[0mcatch\u001b[0m\u001b[0;34m)\u001b[0m\u001b[0;34m\u001b[0m\u001b[0;34m\u001b[0m\u001b[0m\n\u001b[0m\u001b[1;32m    164\u001b[0m         \u001b[0;32mexcept\u001b[0m \u001b[0mException\u001b[0m\u001b[0;34m:\u001b[0m\u001b[0;34m\u001b[0m\u001b[0;34m\u001b[0m\u001b[0m\n\u001b[1;32m    165\u001b[0m             \u001b[0;32mraise\u001b[0m\u001b[0;34m\u001b[0m\u001b[0;34m\u001b[0m\u001b[0m\n",
      "\u001b[0;32m~/anaconda3/lib/python3.6/site-packages/optuna/_optimize.py\u001b[0m in \u001b[0;36m_run_trial\u001b[0;34m(study, func, catch)\u001b[0m\n\u001b[1;32m    215\u001b[0m \u001b[0;34m\u001b[0m\u001b[0m\n\u001b[1;32m    216\u001b[0m     \u001b[0;32mtry\u001b[0m\u001b[0;34m:\u001b[0m\u001b[0;34m\u001b[0m\u001b[0;34m\u001b[0m\u001b[0m\n\u001b[0;32m--> 217\u001b[0;31m         \u001b[0mvalue_or_values\u001b[0m \u001b[0;34m=\u001b[0m \u001b[0mfunc\u001b[0m\u001b[0;34m(\u001b[0m\u001b[0mtrial\u001b[0m\u001b[0;34m)\u001b[0m\u001b[0;34m\u001b[0m\u001b[0;34m\u001b[0m\u001b[0m\n\u001b[0m\u001b[1;32m    218\u001b[0m     \u001b[0;32mexcept\u001b[0m \u001b[0mexceptions\u001b[0m\u001b[0;34m.\u001b[0m\u001b[0mTrialPruned\u001b[0m \u001b[0;32mas\u001b[0m \u001b[0me\u001b[0m\u001b[0;34m:\u001b[0m\u001b[0;34m\u001b[0m\u001b[0;34m\u001b[0m\u001b[0m\n\u001b[1;32m    219\u001b[0m         \u001b[0;31m# TODO(mamu): Handle multi-objective cases.\u001b[0m\u001b[0;34m\u001b[0m\u001b[0;34m\u001b[0m\u001b[0;34m\u001b[0m\u001b[0m\n",
      "\u001b[0;32m<ipython-input-38-374708dbeb72>\u001b[0m in \u001b[0;36mobjective\u001b[0;34m(trial)\u001b[0m\n\u001b[1;32m     10\u001b[0m     }\n\u001b[1;32m     11\u001b[0m     \u001b[0mscores\u001b[0m \u001b[0;34m=\u001b[0m \u001b[0;34m[\u001b[0m\u001b[0;34m]\u001b[0m\u001b[0;34m\u001b[0m\u001b[0;34m\u001b[0m\u001b[0m\n\u001b[0;32m---> 12\u001b[0;31m     \u001b[0m_\u001b[0m\u001b[0;34m,\u001b[0m \u001b[0m_\u001b[0m\u001b[0;34m,\u001b[0m \u001b[0mscore\u001b[0m \u001b[0;34m=\u001b[0m \u001b[0mfit_predict\u001b[0m\u001b[0;34m(\u001b[0m\u001b[0;36m5\u001b[0m\u001b[0;34m,\u001b[0m \u001b[0mparams\u001b[0m\u001b[0;34m,\u001b[0m \u001b[0mtrain_df\u001b[0m\u001b[0;34m,\u001b[0m \u001b[0my_train\u001b[0m\u001b[0;34m,\u001b[0m \u001b[0;32mNone\u001b[0m\u001b[0;34m)\u001b[0m\u001b[0;34m\u001b[0m\u001b[0;34m\u001b[0m\u001b[0m\n\u001b[0m\u001b[1;32m     13\u001b[0m     \u001b[0mscores\u001b[0m\u001b[0;34m.\u001b[0m\u001b[0mappend\u001b[0m\u001b[0;34m(\u001b[0m\u001b[0mscore\u001b[0m\u001b[0;34m)\u001b[0m\u001b[0;34m\u001b[0m\u001b[0;34m\u001b[0m\u001b[0m\n\u001b[1;32m     14\u001b[0m \u001b[0;34m\u001b[0m\u001b[0m\n",
      "\u001b[0;32m<ipython-input-37-d1f602095724>\u001b[0m in \u001b[0;36mfit_predict\u001b[0;34m(n_splits, params, x_train, y_train, x_test)\u001b[0m\n\u001b[1;32m     21\u001b[0m \u001b[0;34m\u001b[0m\u001b[0m\n\u001b[1;32m     22\u001b[0m         \u001b[0mestimator\u001b[0m \u001b[0;34m=\u001b[0m \u001b[0mensemble\u001b[0m\u001b[0;34m.\u001b[0m\u001b[0mRandomForestClassifier\u001b[0m\u001b[0;34m(\u001b[0m\u001b[0;34m**\u001b[0m\u001b[0mparams\u001b[0m\u001b[0;34m)\u001b[0m\u001b[0;34m\u001b[0m\u001b[0;34m\u001b[0m\u001b[0m\n\u001b[0;32m---> 23\u001b[0;31m         \u001b[0mestimator\u001b[0m\u001b[0;34m.\u001b[0m\u001b[0mfit\u001b[0m\u001b[0;34m(\u001b[0m\u001b[0mx_train_train\u001b[0m\u001b[0;34m,\u001b[0m \u001b[0my_train_train\u001b[0m\u001b[0;34m)\u001b[0m\u001b[0;34m\u001b[0m\u001b[0;34m\u001b[0m\u001b[0m\n\u001b[0m\u001b[1;32m     24\u001b[0m         \u001b[0moof_part\u001b[0m \u001b[0;34m=\u001b[0m \u001b[0mestimator\u001b[0m\u001b[0;34m.\u001b[0m\u001b[0mpredict\u001b[0m\u001b[0;34m(\u001b[0m\u001b[0mx_train_valid\u001b[0m\u001b[0;34m)\u001b[0m\u001b[0;34m\u001b[0m\u001b[0;34m\u001b[0m\u001b[0m\n\u001b[1;32m     25\u001b[0m         \u001b[0moof\u001b[0m\u001b[0;34m[\u001b[0m\u001b[0mvalid_idx\u001b[0m\u001b[0;34m]\u001b[0m \u001b[0;34m=\u001b[0m \u001b[0moof_part\u001b[0m\u001b[0;34m\u001b[0m\u001b[0;34m\u001b[0m\u001b[0m\n",
      "\u001b[0;32m~/anaconda3/lib/python3.6/site-packages/sklearn/ensemble/_forest.py\u001b[0m in \u001b[0;36mfit\u001b[0;34m(self, X, y, sample_weight)\u001b[0m\n\u001b[1;32m    381\u001b[0m                     \u001b[0mverbose\u001b[0m\u001b[0;34m=\u001b[0m\u001b[0mself\u001b[0m\u001b[0;34m.\u001b[0m\u001b[0mverbose\u001b[0m\u001b[0;34m,\u001b[0m \u001b[0mclass_weight\u001b[0m\u001b[0;34m=\u001b[0m\u001b[0mself\u001b[0m\u001b[0;34m.\u001b[0m\u001b[0mclass_weight\u001b[0m\u001b[0;34m,\u001b[0m\u001b[0;34m\u001b[0m\u001b[0;34m\u001b[0m\u001b[0m\n\u001b[1;32m    382\u001b[0m                     n_samples_bootstrap=n_samples_bootstrap)\n\u001b[0;32m--> 383\u001b[0;31m                 for i, t in enumerate(trees))\n\u001b[0m\u001b[1;32m    384\u001b[0m \u001b[0;34m\u001b[0m\u001b[0m\n\u001b[1;32m    385\u001b[0m             \u001b[0;31m# Collect newly grown trees\u001b[0m\u001b[0;34m\u001b[0m\u001b[0;34m\u001b[0m\u001b[0;34m\u001b[0m\u001b[0m\n",
      "\u001b[0;32m~/anaconda3/lib/python3.6/site-packages/joblib/parallel.py\u001b[0m in \u001b[0;36m__call__\u001b[0;34m(self, iterable)\u001b[0m\n\u001b[1;32m   1005\u001b[0m                 \u001b[0mself\u001b[0m\u001b[0;34m.\u001b[0m\u001b[0m_iterating\u001b[0m \u001b[0;34m=\u001b[0m \u001b[0mself\u001b[0m\u001b[0;34m.\u001b[0m\u001b[0m_original_iterator\u001b[0m \u001b[0;32mis\u001b[0m \u001b[0;32mnot\u001b[0m \u001b[0;32mNone\u001b[0m\u001b[0;34m\u001b[0m\u001b[0;34m\u001b[0m\u001b[0m\n\u001b[1;32m   1006\u001b[0m \u001b[0;34m\u001b[0m\u001b[0m\n\u001b[0;32m-> 1007\u001b[0;31m             \u001b[0;32mwhile\u001b[0m \u001b[0mself\u001b[0m\u001b[0;34m.\u001b[0m\u001b[0mdispatch_one_batch\u001b[0m\u001b[0;34m(\u001b[0m\u001b[0miterator\u001b[0m\u001b[0;34m)\u001b[0m\u001b[0;34m:\u001b[0m\u001b[0;34m\u001b[0m\u001b[0;34m\u001b[0m\u001b[0m\n\u001b[0m\u001b[1;32m   1008\u001b[0m                 \u001b[0;32mpass\u001b[0m\u001b[0;34m\u001b[0m\u001b[0;34m\u001b[0m\u001b[0m\n\u001b[1;32m   1009\u001b[0m \u001b[0;34m\u001b[0m\u001b[0m\n",
      "\u001b[0;32m~/anaconda3/lib/python3.6/site-packages/joblib/parallel.py\u001b[0m in \u001b[0;36mdispatch_one_batch\u001b[0;34m(self, iterator)\u001b[0m\n\u001b[1;32m    833\u001b[0m                 \u001b[0;32mreturn\u001b[0m \u001b[0;32mFalse\u001b[0m\u001b[0;34m\u001b[0m\u001b[0;34m\u001b[0m\u001b[0m\n\u001b[1;32m    834\u001b[0m             \u001b[0;32melse\u001b[0m\u001b[0;34m:\u001b[0m\u001b[0;34m\u001b[0m\u001b[0;34m\u001b[0m\u001b[0m\n\u001b[0;32m--> 835\u001b[0;31m                 \u001b[0mself\u001b[0m\u001b[0;34m.\u001b[0m\u001b[0m_dispatch\u001b[0m\u001b[0;34m(\u001b[0m\u001b[0mtasks\u001b[0m\u001b[0;34m)\u001b[0m\u001b[0;34m\u001b[0m\u001b[0;34m\u001b[0m\u001b[0m\n\u001b[0m\u001b[1;32m    836\u001b[0m                 \u001b[0;32mreturn\u001b[0m \u001b[0;32mTrue\u001b[0m\u001b[0;34m\u001b[0m\u001b[0;34m\u001b[0m\u001b[0m\n\u001b[1;32m    837\u001b[0m \u001b[0;34m\u001b[0m\u001b[0m\n",
      "\u001b[0;32m~/anaconda3/lib/python3.6/site-packages/joblib/parallel.py\u001b[0m in \u001b[0;36m_dispatch\u001b[0;34m(self, batch)\u001b[0m\n\u001b[1;32m    752\u001b[0m         \u001b[0;32mwith\u001b[0m \u001b[0mself\u001b[0m\u001b[0;34m.\u001b[0m\u001b[0m_lock\u001b[0m\u001b[0;34m:\u001b[0m\u001b[0;34m\u001b[0m\u001b[0;34m\u001b[0m\u001b[0m\n\u001b[1;32m    753\u001b[0m             \u001b[0mjob_idx\u001b[0m \u001b[0;34m=\u001b[0m \u001b[0mlen\u001b[0m\u001b[0;34m(\u001b[0m\u001b[0mself\u001b[0m\u001b[0;34m.\u001b[0m\u001b[0m_jobs\u001b[0m\u001b[0;34m)\u001b[0m\u001b[0;34m\u001b[0m\u001b[0;34m\u001b[0m\u001b[0m\n\u001b[0;32m--> 754\u001b[0;31m             \u001b[0mjob\u001b[0m \u001b[0;34m=\u001b[0m \u001b[0mself\u001b[0m\u001b[0;34m.\u001b[0m\u001b[0m_backend\u001b[0m\u001b[0;34m.\u001b[0m\u001b[0mapply_async\u001b[0m\u001b[0;34m(\u001b[0m\u001b[0mbatch\u001b[0m\u001b[0;34m,\u001b[0m \u001b[0mcallback\u001b[0m\u001b[0;34m=\u001b[0m\u001b[0mcb\u001b[0m\u001b[0;34m)\u001b[0m\u001b[0;34m\u001b[0m\u001b[0;34m\u001b[0m\u001b[0m\n\u001b[0m\u001b[1;32m    755\u001b[0m             \u001b[0;31m# A job can complete so quickly than its callback is\u001b[0m\u001b[0;34m\u001b[0m\u001b[0;34m\u001b[0m\u001b[0;34m\u001b[0m\u001b[0m\n\u001b[1;32m    756\u001b[0m             \u001b[0;31m# called before we get here, causing self._jobs to\u001b[0m\u001b[0;34m\u001b[0m\u001b[0;34m\u001b[0m\u001b[0;34m\u001b[0m\u001b[0m\n",
      "\u001b[0;32m~/anaconda3/lib/python3.6/site-packages/joblib/_parallel_backends.py\u001b[0m in \u001b[0;36mapply_async\u001b[0;34m(self, func, callback)\u001b[0m\n\u001b[1;32m    207\u001b[0m     \u001b[0;32mdef\u001b[0m \u001b[0mapply_async\u001b[0m\u001b[0;34m(\u001b[0m\u001b[0mself\u001b[0m\u001b[0;34m,\u001b[0m \u001b[0mfunc\u001b[0m\u001b[0;34m,\u001b[0m \u001b[0mcallback\u001b[0m\u001b[0;34m=\u001b[0m\u001b[0;32mNone\u001b[0m\u001b[0;34m)\u001b[0m\u001b[0;34m:\u001b[0m\u001b[0;34m\u001b[0m\u001b[0;34m\u001b[0m\u001b[0m\n\u001b[1;32m    208\u001b[0m         \u001b[0;34m\"\"\"Schedule a func to be run\"\"\"\u001b[0m\u001b[0;34m\u001b[0m\u001b[0;34m\u001b[0m\u001b[0m\n\u001b[0;32m--> 209\u001b[0;31m         \u001b[0mresult\u001b[0m \u001b[0;34m=\u001b[0m \u001b[0mImmediateResult\u001b[0m\u001b[0;34m(\u001b[0m\u001b[0mfunc\u001b[0m\u001b[0;34m)\u001b[0m\u001b[0;34m\u001b[0m\u001b[0;34m\u001b[0m\u001b[0m\n\u001b[0m\u001b[1;32m    210\u001b[0m         \u001b[0;32mif\u001b[0m \u001b[0mcallback\u001b[0m\u001b[0;34m:\u001b[0m\u001b[0;34m\u001b[0m\u001b[0;34m\u001b[0m\u001b[0m\n\u001b[1;32m    211\u001b[0m             \u001b[0mcallback\u001b[0m\u001b[0;34m(\u001b[0m\u001b[0mresult\u001b[0m\u001b[0;34m)\u001b[0m\u001b[0;34m\u001b[0m\u001b[0;34m\u001b[0m\u001b[0m\n",
      "\u001b[0;32m~/anaconda3/lib/python3.6/site-packages/joblib/_parallel_backends.py\u001b[0m in \u001b[0;36m__init__\u001b[0;34m(self, batch)\u001b[0m\n\u001b[1;32m    588\u001b[0m         \u001b[0;31m# Don't delay the application, to avoid keeping the input\u001b[0m\u001b[0;34m\u001b[0m\u001b[0;34m\u001b[0m\u001b[0;34m\u001b[0m\u001b[0m\n\u001b[1;32m    589\u001b[0m         \u001b[0;31m# arguments in memory\u001b[0m\u001b[0;34m\u001b[0m\u001b[0;34m\u001b[0m\u001b[0;34m\u001b[0m\u001b[0m\n\u001b[0;32m--> 590\u001b[0;31m         \u001b[0mself\u001b[0m\u001b[0;34m.\u001b[0m\u001b[0mresults\u001b[0m \u001b[0;34m=\u001b[0m \u001b[0mbatch\u001b[0m\u001b[0;34m(\u001b[0m\u001b[0;34m)\u001b[0m\u001b[0;34m\u001b[0m\u001b[0;34m\u001b[0m\u001b[0m\n\u001b[0m\u001b[1;32m    591\u001b[0m \u001b[0;34m\u001b[0m\u001b[0m\n\u001b[1;32m    592\u001b[0m     \u001b[0;32mdef\u001b[0m \u001b[0mget\u001b[0m\u001b[0;34m(\u001b[0m\u001b[0mself\u001b[0m\u001b[0;34m)\u001b[0m\u001b[0;34m:\u001b[0m\u001b[0;34m\u001b[0m\u001b[0;34m\u001b[0m\u001b[0m\n",
      "\u001b[0;32m~/anaconda3/lib/python3.6/site-packages/joblib/parallel.py\u001b[0m in \u001b[0;36m__call__\u001b[0;34m(self)\u001b[0m\n\u001b[1;32m    254\u001b[0m         \u001b[0;32mwith\u001b[0m \u001b[0mparallel_backend\u001b[0m\u001b[0;34m(\u001b[0m\u001b[0mself\u001b[0m\u001b[0;34m.\u001b[0m\u001b[0m_backend\u001b[0m\u001b[0;34m,\u001b[0m \u001b[0mn_jobs\u001b[0m\u001b[0;34m=\u001b[0m\u001b[0mself\u001b[0m\u001b[0;34m.\u001b[0m\u001b[0m_n_jobs\u001b[0m\u001b[0;34m)\u001b[0m\u001b[0;34m:\u001b[0m\u001b[0;34m\u001b[0m\u001b[0;34m\u001b[0m\u001b[0m\n\u001b[1;32m    255\u001b[0m             return [func(*args, **kwargs)\n\u001b[0;32m--> 256\u001b[0;31m                     for func, args, kwargs in self.items]\n\u001b[0m\u001b[1;32m    257\u001b[0m \u001b[0;34m\u001b[0m\u001b[0m\n\u001b[1;32m    258\u001b[0m     \u001b[0;32mdef\u001b[0m \u001b[0m__len__\u001b[0m\u001b[0;34m(\u001b[0m\u001b[0mself\u001b[0m\u001b[0;34m)\u001b[0m\u001b[0;34m:\u001b[0m\u001b[0;34m\u001b[0m\u001b[0;34m\u001b[0m\u001b[0m\n",
      "\u001b[0;32m~/anaconda3/lib/python3.6/site-packages/joblib/parallel.py\u001b[0m in \u001b[0;36m<listcomp>\u001b[0;34m(.0)\u001b[0m\n\u001b[1;32m    254\u001b[0m         \u001b[0;32mwith\u001b[0m \u001b[0mparallel_backend\u001b[0m\u001b[0;34m(\u001b[0m\u001b[0mself\u001b[0m\u001b[0;34m.\u001b[0m\u001b[0m_backend\u001b[0m\u001b[0;34m,\u001b[0m \u001b[0mn_jobs\u001b[0m\u001b[0;34m=\u001b[0m\u001b[0mself\u001b[0m\u001b[0;34m.\u001b[0m\u001b[0m_n_jobs\u001b[0m\u001b[0;34m)\u001b[0m\u001b[0;34m:\u001b[0m\u001b[0;34m\u001b[0m\u001b[0;34m\u001b[0m\u001b[0m\n\u001b[1;32m    255\u001b[0m             return [func(*args, **kwargs)\n\u001b[0;32m--> 256\u001b[0;31m                     for func, args, kwargs in self.items]\n\u001b[0m\u001b[1;32m    257\u001b[0m \u001b[0;34m\u001b[0m\u001b[0m\n\u001b[1;32m    258\u001b[0m     \u001b[0;32mdef\u001b[0m \u001b[0m__len__\u001b[0m\u001b[0;34m(\u001b[0m\u001b[0mself\u001b[0m\u001b[0;34m)\u001b[0m\u001b[0;34m:\u001b[0m\u001b[0;34m\u001b[0m\u001b[0;34m\u001b[0m\u001b[0m\n",
      "\u001b[0;32m~/anaconda3/lib/python3.6/site-packages/sklearn/ensemble/_forest.py\u001b[0m in \u001b[0;36m_parallel_build_trees\u001b[0;34m(tree, forest, X, y, sample_weight, tree_idx, n_trees, verbose, class_weight, n_samples_bootstrap)\u001b[0m\n\u001b[1;32m    163\u001b[0m             \u001b[0mcurr_sample_weight\u001b[0m \u001b[0;34m*=\u001b[0m \u001b[0mcompute_sample_weight\u001b[0m\u001b[0;34m(\u001b[0m\u001b[0;34m'balanced'\u001b[0m\u001b[0;34m,\u001b[0m \u001b[0my\u001b[0m\u001b[0;34m,\u001b[0m \u001b[0mindices\u001b[0m\u001b[0;34m)\u001b[0m\u001b[0;34m\u001b[0m\u001b[0;34m\u001b[0m\u001b[0m\n\u001b[1;32m    164\u001b[0m \u001b[0;34m\u001b[0m\u001b[0m\n\u001b[0;32m--> 165\u001b[0;31m         \u001b[0mtree\u001b[0m\u001b[0;34m.\u001b[0m\u001b[0mfit\u001b[0m\u001b[0;34m(\u001b[0m\u001b[0mX\u001b[0m\u001b[0;34m,\u001b[0m \u001b[0my\u001b[0m\u001b[0;34m,\u001b[0m \u001b[0msample_weight\u001b[0m\u001b[0;34m=\u001b[0m\u001b[0mcurr_sample_weight\u001b[0m\u001b[0;34m,\u001b[0m \u001b[0mcheck_input\u001b[0m\u001b[0;34m=\u001b[0m\u001b[0;32mFalse\u001b[0m\u001b[0;34m)\u001b[0m\u001b[0;34m\u001b[0m\u001b[0;34m\u001b[0m\u001b[0m\n\u001b[0m\u001b[1;32m    166\u001b[0m     \u001b[0;32melse\u001b[0m\u001b[0;34m:\u001b[0m\u001b[0;34m\u001b[0m\u001b[0;34m\u001b[0m\u001b[0m\n\u001b[1;32m    167\u001b[0m         \u001b[0mtree\u001b[0m\u001b[0;34m.\u001b[0m\u001b[0mfit\u001b[0m\u001b[0;34m(\u001b[0m\u001b[0mX\u001b[0m\u001b[0;34m,\u001b[0m \u001b[0my\u001b[0m\u001b[0;34m,\u001b[0m \u001b[0msample_weight\u001b[0m\u001b[0;34m=\u001b[0m\u001b[0msample_weight\u001b[0m\u001b[0;34m,\u001b[0m \u001b[0mcheck_input\u001b[0m\u001b[0;34m=\u001b[0m\u001b[0;32mFalse\u001b[0m\u001b[0;34m)\u001b[0m\u001b[0;34m\u001b[0m\u001b[0;34m\u001b[0m\u001b[0m\n",
      "\u001b[0;32m~/anaconda3/lib/python3.6/site-packages/sklearn/tree/_classes.py\u001b[0m in \u001b[0;36mfit\u001b[0;34m(self, X, y, sample_weight, check_input, X_idx_sorted)\u001b[0m\n\u001b[1;32m    875\u001b[0m             \u001b[0msample_weight\u001b[0m\u001b[0;34m=\u001b[0m\u001b[0msample_weight\u001b[0m\u001b[0;34m,\u001b[0m\u001b[0;34m\u001b[0m\u001b[0;34m\u001b[0m\u001b[0m\n\u001b[1;32m    876\u001b[0m             \u001b[0mcheck_input\u001b[0m\u001b[0;34m=\u001b[0m\u001b[0mcheck_input\u001b[0m\u001b[0;34m,\u001b[0m\u001b[0;34m\u001b[0m\u001b[0;34m\u001b[0m\u001b[0m\n\u001b[0;32m--> 877\u001b[0;31m             X_idx_sorted=X_idx_sorted)\n\u001b[0m\u001b[1;32m    878\u001b[0m         \u001b[0;32mreturn\u001b[0m \u001b[0mself\u001b[0m\u001b[0;34m\u001b[0m\u001b[0;34m\u001b[0m\u001b[0m\n\u001b[1;32m    879\u001b[0m \u001b[0;34m\u001b[0m\u001b[0m\n",
      "\u001b[0;32m~/anaconda3/lib/python3.6/site-packages/sklearn/tree/_classes.py\u001b[0m in \u001b[0;36mfit\u001b[0;34m(self, X, y, sample_weight, check_input, X_idx_sorted)\u001b[0m\n\u001b[1;32m    365\u001b[0m                                            min_impurity_split)\n\u001b[1;32m    366\u001b[0m \u001b[0;34m\u001b[0m\u001b[0m\n\u001b[0;32m--> 367\u001b[0;31m         \u001b[0mbuilder\u001b[0m\u001b[0;34m.\u001b[0m\u001b[0mbuild\u001b[0m\u001b[0;34m(\u001b[0m\u001b[0mself\u001b[0m\u001b[0;34m.\u001b[0m\u001b[0mtree_\u001b[0m\u001b[0;34m,\u001b[0m \u001b[0mX\u001b[0m\u001b[0;34m,\u001b[0m \u001b[0my\u001b[0m\u001b[0;34m,\u001b[0m \u001b[0msample_weight\u001b[0m\u001b[0;34m,\u001b[0m \u001b[0mX_idx_sorted\u001b[0m\u001b[0;34m)\u001b[0m\u001b[0;34m\u001b[0m\u001b[0;34m\u001b[0m\u001b[0m\n\u001b[0m\u001b[1;32m    368\u001b[0m \u001b[0;34m\u001b[0m\u001b[0m\n\u001b[1;32m    369\u001b[0m         \u001b[0;32mif\u001b[0m \u001b[0mself\u001b[0m\u001b[0;34m.\u001b[0m\u001b[0mn_outputs_\u001b[0m \u001b[0;34m==\u001b[0m \u001b[0;36m1\u001b[0m \u001b[0;32mand\u001b[0m \u001b[0mis_classifier\u001b[0m\u001b[0;34m(\u001b[0m\u001b[0mself\u001b[0m\u001b[0;34m)\u001b[0m\u001b[0;34m:\u001b[0m\u001b[0;34m\u001b[0m\u001b[0;34m\u001b[0m\u001b[0m\n",
      "\u001b[0;31mKeyboardInterrupt\u001b[0m: "
     ]
    }
   ],
   "source": [
    "def objective(trial):\n",
    "    # Categorical parameter\n",
    "    params = {\n",
    "    'criterion': trial.suggest_categorical('rf_criterion', ['gini']),\n",
    "\n",
    "   'n_estimators': trial.suggest_int('n_estimators', 200, 400),\n",
    "            'max_depth': trial.suggest_int('max_depth', 11, 18),\n",
    "            'min_samples_split': trial.suggest_int('min_samples_split', 2, 15),\n",
    "            'min_samples_leaf': trial.suggest_int('min_samples_leaf', 1, 15)\n",
    "    }\n",
    "    scores = []\n",
    "    _, _, score = fit_predict(5, params, train_df, y_train, None)\n",
    "    scores.append(score)\n",
    "    \n",
    "    return np.mean(scores)\n",
    "\n",
    "study = optuna.create_study(direction='maximize')\n",
    "study.optimize(objective, n_trials=30)\n"
   ]
  },
  {
   "cell_type": "code",
   "execution_count": null,
   "metadata": {},
   "outputs": [],
   "source": [
    "study.best_params"
   ]
  },
  {
   "cell_type": "code",
   "execution_count": null,
   "metadata": {},
   "outputs": [],
   "source": []
  },
  {
   "cell_type": "code",
   "execution_count": 119,
   "metadata": {},
   "outputs": [],
   "source": [
    "\n",
    "\n",
    "rf_pars = {'criterion': 'gini',\n",
    " 'n_estimators': 342,\n",
    " 'max_depth': 17,\n",
    " 'min_samples_split': 6,\n",
    " 'min_samples_leaf': 1}\n"
   ]
  },
  {
   "cell_type": "code",
   "execution_count": 120,
   "metadata": {},
   "outputs": [
    {
     "data": {
      "text/plain": [
       "0.844"
      ]
     },
     "execution_count": 120,
     "metadata": {},
     "output_type": "execute_result"
    }
   ],
   "source": [
    "estimator = ensemble.RandomForestClassifier(**rf_pars)\n",
    "estimator.fit(train_df, y_train)\n",
    "\n",
    "rf_preds = estimator.predict(dev_df)\n",
    "accuracy_score(y_dev, rf_preds)"
   ]
  },
  {
   "cell_type": "code",
   "execution_count": 121,
   "metadata": {},
   "outputs": [],
   "source": [
    "rf_preds_proba = estimator.predict_proba(dev_df)"
   ]
  },
  {
   "cell_type": "code",
   "execution_count": 124,
   "metadata": {},
   "outputs": [
    {
     "data": {
      "text/plain": [
       "0.853"
      ]
     },
     "execution_count": 124,
     "metadata": {},
     "output_type": "execute_result"
    }
   ],
   "source": [
    "accuracy_score(y_dev,(((lgbm_probs * 0.822 + rf_preds_proba[:, 1] * 0.8125) \\\n",
    "                       / (0.822 + 0.8125)) > 0.5).astype(int))"
   ]
  },
  {
   "cell_type": "markdown",
   "metadata": {},
   "source": [
    "#  Logistic Regression"
   ]
  },
  {
   "cell_type": "code",
   "execution_count": 59,
   "metadata": {},
   "outputs": [],
   "source": [
    "from sklearn.metrics import accuracy_score, log_loss\n",
    "from sklearn.model_selection import StratifiedKFold\n",
    "import lightgbm as lgb\n",
    "from sklearn import linear_model\n",
    "from sklearn import ensemble\n",
    "from sklearn import datasets\n",
    "from sklearn import model_selection\n",
    "def fit_predict(n_splits, params, x_train, y_train, x_test):\n",
    "    \n",
    "    oof = np.zeros(x_train.shape[0])\n",
    "    \n",
    "    y_preds = []\n",
    "    \n",
    "    cv = StratifiedKFold(n_splits=n_splits, shuffle=True, random_state=7)\n",
    "    for train_idx, valid_idx in cv.split(x_train, y_train):\n",
    "        \n",
    "        x_train_train = train_df.iloc[train_idx]\n",
    "        y_train_train = y_train.iloc[train_idx]\n",
    "        x_train_valid = train_df.iloc[valid_idx]\n",
    "        y_train_valid = y_train.iloc[valid_idx]\n",
    "\n",
    "        estimator = linear_model.LogisticRegression(**params)\n",
    "        estimator.fit(x_train_train, y_train_train)\n",
    "        oof_part = estimator.predict(x_train_valid)\n",
    "        oof[valid_idx] = oof_part\n",
    "        \n",
    "        if x_test is not None:\n",
    "            y_part = estimator.predict(x_test)\n",
    "            y_preds.append(y_part)\n",
    "        \n",
    "    score = accuracy_score(y_train, oof)\n",
    "    print('Accuracy:', score)\n",
    "    \n",
    "    y_pred = np.mean(y_preds, axis=0)\n",
    "    \n",
    "    return y_pred, oof, score\n",
    "\n",
    "\n"
   ]
  },
  {
   "cell_type": "code",
   "execution_count": 60,
   "metadata": {},
   "outputs": [],
   "source": [
    "from sklearn import preprocessing\n",
    "\n",
    "scaler = preprocessing.MinMaxScaler()\n",
    "\n",
    "train_df_scaled = scaler.fit_transform(train_df[train_df.columns])\n",
    "dev_df_scaled = scaler.transform(dev_df[dev_df.columns])"
   ]
  },
  {
   "cell_type": "code",
   "execution_count": 61,
   "metadata": {},
   "outputs": [],
   "source": [
    "\n",
    "def objective(trial):\n",
    "    # Categorical parameter\n",
    "    params = {\n",
    "        'penalty': trial.suggest_categorical('penalty', ['l1', 'l2']),\n",
    "        'C' : trial.suggest_float(\"C\", 1e-10, 1e10, log=True),\n",
    "        'solver': trial.suggest_categorical('solver', ['saga']),\n",
    "        'max_iter': trial.suggest_int('max_iter', 100, 500)\n",
    "    }\n",
    "    scores = []\n",
    "    _, _, score = fit_predict(5, params, train_df_scaled, y_train, None)\n",
    "    scores.append(score)\n",
    "    \n",
    "    return np.mean(scores)"
   ]
  },
  {
   "cell_type": "code",
   "execution_count": 62,
   "metadata": {},
   "outputs": [
    {
     "name": "stderr",
     "output_type": "stream",
     "text": [
      "\u001b[32m[I 2021-05-22 05:39:29,698]\u001b[0m A new study created in memory with name: no-name-a737f855-461c-442c-ae58-b82cf60ef655\u001b[0m\n",
      "/home/vsevolod/anaconda3/lib/python3.6/site-packages/sklearn/linear_model/_sag.py:330: ConvergenceWarning:\n",
      "\n",
      "The max_iter was reached which means the coef_ did not converge\n",
      "\n",
      "/home/vsevolod/anaconda3/lib/python3.6/site-packages/sklearn/linear_model/_sag.py:330: ConvergenceWarning:\n",
      "\n",
      "The max_iter was reached which means the coef_ did not converge\n",
      "\n",
      "/home/vsevolod/anaconda3/lib/python3.6/site-packages/sklearn/linear_model/_sag.py:330: ConvergenceWarning:\n",
      "\n",
      "The max_iter was reached which means the coef_ did not converge\n",
      "\n",
      "/home/vsevolod/anaconda3/lib/python3.6/site-packages/sklearn/linear_model/_sag.py:330: ConvergenceWarning:\n",
      "\n",
      "The max_iter was reached which means the coef_ did not converge\n",
      "\n",
      "/home/vsevolod/anaconda3/lib/python3.6/site-packages/sklearn/linear_model/_sag.py:330: ConvergenceWarning:\n",
      "\n",
      "The max_iter was reached which means the coef_ did not converge\n",
      "\n",
      "/home/vsevolod/anaconda3/lib/python3.6/site-packages/numpy/core/fromnumeric.py:3335: RuntimeWarning:\n",
      "\n",
      "Mean of empty slice.\n",
      "\n",
      "/home/vsevolod/anaconda3/lib/python3.6/site-packages/numpy/core/_methods.py:161: RuntimeWarning:\n",
      "\n",
      "invalid value encountered in double_scalars\n",
      "\n",
      "\u001b[32m[I 2021-05-22 05:41:38,539]\u001b[0m Trial 0 finished with value: 0.786 and parameters: {'penalty': 'l1', 'C': 11.045806818933906, 'solver': 'saga', 'max_iter': 486}. Best is trial 0 with value: 0.786.\u001b[0m\n"
     ]
    },
    {
     "name": "stdout",
     "output_type": "stream",
     "text": [
      "Accuracy: 0.786\n"
     ]
    },
    {
     "ename": "KeyboardInterrupt",
     "evalue": "",
     "output_type": "error",
     "traceback": [
      "\u001b[0;31m---------------------------------------------------------------------------\u001b[0m",
      "\u001b[0;31mKeyboardInterrupt\u001b[0m                         Traceback (most recent call last)",
      "\u001b[0;32m<ipython-input-62-da5b7e186295>\u001b[0m in \u001b[0;36m<module>\u001b[0;34m\u001b[0m\n\u001b[1;32m      1\u001b[0m \u001b[0mstudy\u001b[0m \u001b[0;34m=\u001b[0m \u001b[0moptuna\u001b[0m\u001b[0;34m.\u001b[0m\u001b[0mcreate_study\u001b[0m\u001b[0;34m(\u001b[0m\u001b[0mdirection\u001b[0m\u001b[0;34m=\u001b[0m\u001b[0;34m'maximize'\u001b[0m\u001b[0;34m)\u001b[0m\u001b[0;34m\u001b[0m\u001b[0;34m\u001b[0m\u001b[0m\n\u001b[0;32m----> 2\u001b[0;31m \u001b[0mstudy\u001b[0m\u001b[0;34m.\u001b[0m\u001b[0moptimize\u001b[0m\u001b[0;34m(\u001b[0m\u001b[0mobjective\u001b[0m\u001b[0;34m,\u001b[0m \u001b[0mn_trials\u001b[0m\u001b[0;34m=\u001b[0m\u001b[0;36m30\u001b[0m\u001b[0;34m)\u001b[0m\u001b[0;34m\u001b[0m\u001b[0;34m\u001b[0m\u001b[0m\n\u001b[0m",
      "\u001b[0;32m~/anaconda3/lib/python3.6/site-packages/optuna/study.py\u001b[0m in \u001b[0;36moptimize\u001b[0;34m(self, func, n_trials, timeout, n_jobs, catch, callbacks, gc_after_trial, show_progress_bar)\u001b[0m\n\u001b[1;32m    407\u001b[0m             \u001b[0mcallbacks\u001b[0m\u001b[0;34m=\u001b[0m\u001b[0mcallbacks\u001b[0m\u001b[0;34m,\u001b[0m\u001b[0;34m\u001b[0m\u001b[0;34m\u001b[0m\u001b[0m\n\u001b[1;32m    408\u001b[0m             \u001b[0mgc_after_trial\u001b[0m\u001b[0;34m=\u001b[0m\u001b[0mgc_after_trial\u001b[0m\u001b[0;34m,\u001b[0m\u001b[0;34m\u001b[0m\u001b[0;34m\u001b[0m\u001b[0m\n\u001b[0;32m--> 409\u001b[0;31m             \u001b[0mshow_progress_bar\u001b[0m\u001b[0;34m=\u001b[0m\u001b[0mshow_progress_bar\u001b[0m\u001b[0;34m,\u001b[0m\u001b[0;34m\u001b[0m\u001b[0;34m\u001b[0m\u001b[0m\n\u001b[0m\u001b[1;32m    410\u001b[0m         )\n\u001b[1;32m    411\u001b[0m \u001b[0;34m\u001b[0m\u001b[0m\n",
      "\u001b[0;32m~/anaconda3/lib/python3.6/site-packages/optuna/_optimize.py\u001b[0m in \u001b[0;36m_optimize\u001b[0;34m(study, func, n_trials, timeout, n_jobs, catch, callbacks, gc_after_trial, show_progress_bar)\u001b[0m\n\u001b[1;32m     74\u001b[0m                 \u001b[0mreseed_sampler_rng\u001b[0m\u001b[0;34m=\u001b[0m\u001b[0;32mFalse\u001b[0m\u001b[0;34m,\u001b[0m\u001b[0;34m\u001b[0m\u001b[0;34m\u001b[0m\u001b[0m\n\u001b[1;32m     75\u001b[0m                 \u001b[0mtime_start\u001b[0m\u001b[0;34m=\u001b[0m\u001b[0;32mNone\u001b[0m\u001b[0;34m,\u001b[0m\u001b[0;34m\u001b[0m\u001b[0;34m\u001b[0m\u001b[0m\n\u001b[0;32m---> 76\u001b[0;31m                 \u001b[0mprogress_bar\u001b[0m\u001b[0;34m=\u001b[0m\u001b[0mprogress_bar\u001b[0m\u001b[0;34m,\u001b[0m\u001b[0;34m\u001b[0m\u001b[0;34m\u001b[0m\u001b[0m\n\u001b[0m\u001b[1;32m     77\u001b[0m             )\n\u001b[1;32m     78\u001b[0m         \u001b[0;32melse\u001b[0m\u001b[0;34m:\u001b[0m\u001b[0;34m\u001b[0m\u001b[0;34m\u001b[0m\u001b[0m\n",
      "\u001b[0;32m~/anaconda3/lib/python3.6/site-packages/optuna/_optimize.py\u001b[0m in \u001b[0;36m_optimize_sequential\u001b[0;34m(study, func, n_trials, timeout, catch, callbacks, gc_after_trial, reseed_sampler_rng, time_start, progress_bar)\u001b[0m\n\u001b[1;32m    161\u001b[0m \u001b[0;34m\u001b[0m\u001b[0m\n\u001b[1;32m    162\u001b[0m         \u001b[0;32mtry\u001b[0m\u001b[0;34m:\u001b[0m\u001b[0;34m\u001b[0m\u001b[0;34m\u001b[0m\u001b[0m\n\u001b[0;32m--> 163\u001b[0;31m             \u001b[0mtrial\u001b[0m \u001b[0;34m=\u001b[0m \u001b[0m_run_trial\u001b[0m\u001b[0;34m(\u001b[0m\u001b[0mstudy\u001b[0m\u001b[0;34m,\u001b[0m \u001b[0mfunc\u001b[0m\u001b[0;34m,\u001b[0m \u001b[0mcatch\u001b[0m\u001b[0;34m)\u001b[0m\u001b[0;34m\u001b[0m\u001b[0;34m\u001b[0m\u001b[0m\n\u001b[0m\u001b[1;32m    164\u001b[0m         \u001b[0;32mexcept\u001b[0m \u001b[0mException\u001b[0m\u001b[0;34m:\u001b[0m\u001b[0;34m\u001b[0m\u001b[0;34m\u001b[0m\u001b[0m\n\u001b[1;32m    165\u001b[0m             \u001b[0;32mraise\u001b[0m\u001b[0;34m\u001b[0m\u001b[0;34m\u001b[0m\u001b[0m\n",
      "\u001b[0;32m~/anaconda3/lib/python3.6/site-packages/optuna/_optimize.py\u001b[0m in \u001b[0;36m_run_trial\u001b[0;34m(study, func, catch)\u001b[0m\n\u001b[1;32m    215\u001b[0m \u001b[0;34m\u001b[0m\u001b[0m\n\u001b[1;32m    216\u001b[0m     \u001b[0;32mtry\u001b[0m\u001b[0;34m:\u001b[0m\u001b[0;34m\u001b[0m\u001b[0;34m\u001b[0m\u001b[0m\n\u001b[0;32m--> 217\u001b[0;31m         \u001b[0mvalue_or_values\u001b[0m \u001b[0;34m=\u001b[0m \u001b[0mfunc\u001b[0m\u001b[0;34m(\u001b[0m\u001b[0mtrial\u001b[0m\u001b[0;34m)\u001b[0m\u001b[0;34m\u001b[0m\u001b[0;34m\u001b[0m\u001b[0m\n\u001b[0m\u001b[1;32m    218\u001b[0m     \u001b[0;32mexcept\u001b[0m \u001b[0mexceptions\u001b[0m\u001b[0;34m.\u001b[0m\u001b[0mTrialPruned\u001b[0m \u001b[0;32mas\u001b[0m \u001b[0me\u001b[0m\u001b[0;34m:\u001b[0m\u001b[0;34m\u001b[0m\u001b[0;34m\u001b[0m\u001b[0m\n\u001b[1;32m    219\u001b[0m         \u001b[0;31m# TODO(mamu): Handle multi-objective cases.\u001b[0m\u001b[0;34m\u001b[0m\u001b[0;34m\u001b[0m\u001b[0;34m\u001b[0m\u001b[0m\n",
      "\u001b[0;32m<ipython-input-61-188366e0e4b8>\u001b[0m in \u001b[0;36mobjective\u001b[0;34m(trial)\u001b[0m\n\u001b[1;32m      8\u001b[0m     }\n\u001b[1;32m      9\u001b[0m     \u001b[0mscores\u001b[0m \u001b[0;34m=\u001b[0m \u001b[0;34m[\u001b[0m\u001b[0;34m]\u001b[0m\u001b[0;34m\u001b[0m\u001b[0;34m\u001b[0m\u001b[0m\n\u001b[0;32m---> 10\u001b[0;31m     \u001b[0m_\u001b[0m\u001b[0;34m,\u001b[0m \u001b[0m_\u001b[0m\u001b[0;34m,\u001b[0m \u001b[0mscore\u001b[0m \u001b[0;34m=\u001b[0m \u001b[0mfit_predict\u001b[0m\u001b[0;34m(\u001b[0m\u001b[0;36m5\u001b[0m\u001b[0;34m,\u001b[0m \u001b[0mparams\u001b[0m\u001b[0;34m,\u001b[0m \u001b[0mtrain_df_scaled\u001b[0m\u001b[0;34m,\u001b[0m \u001b[0my_train\u001b[0m\u001b[0;34m,\u001b[0m \u001b[0;32mNone\u001b[0m\u001b[0;34m)\u001b[0m\u001b[0;34m\u001b[0m\u001b[0;34m\u001b[0m\u001b[0m\n\u001b[0m\u001b[1;32m     11\u001b[0m     \u001b[0mscores\u001b[0m\u001b[0;34m.\u001b[0m\u001b[0mappend\u001b[0m\u001b[0;34m(\u001b[0m\u001b[0mscore\u001b[0m\u001b[0;34m)\u001b[0m\u001b[0;34m\u001b[0m\u001b[0;34m\u001b[0m\u001b[0m\n\u001b[1;32m     12\u001b[0m \u001b[0;34m\u001b[0m\u001b[0m\n",
      "\u001b[0;32m<ipython-input-59-f084d2979ed7>\u001b[0m in \u001b[0;36mfit_predict\u001b[0;34m(n_splits, params, x_train, y_train, x_test)\u001b[0m\n\u001b[1;32m     21\u001b[0m \u001b[0;34m\u001b[0m\u001b[0m\n\u001b[1;32m     22\u001b[0m         \u001b[0mestimator\u001b[0m \u001b[0;34m=\u001b[0m \u001b[0mlinear_model\u001b[0m\u001b[0;34m.\u001b[0m\u001b[0mLogisticRegression\u001b[0m\u001b[0;34m(\u001b[0m\u001b[0;34m**\u001b[0m\u001b[0mparams\u001b[0m\u001b[0;34m)\u001b[0m\u001b[0;34m\u001b[0m\u001b[0;34m\u001b[0m\u001b[0m\n\u001b[0;32m---> 23\u001b[0;31m         \u001b[0mestimator\u001b[0m\u001b[0;34m.\u001b[0m\u001b[0mfit\u001b[0m\u001b[0;34m(\u001b[0m\u001b[0mx_train_train\u001b[0m\u001b[0;34m,\u001b[0m \u001b[0my_train_train\u001b[0m\u001b[0;34m)\u001b[0m\u001b[0;34m\u001b[0m\u001b[0;34m\u001b[0m\u001b[0m\n\u001b[0m\u001b[1;32m     24\u001b[0m         \u001b[0moof_part\u001b[0m \u001b[0;34m=\u001b[0m \u001b[0mestimator\u001b[0m\u001b[0;34m.\u001b[0m\u001b[0mpredict\u001b[0m\u001b[0;34m(\u001b[0m\u001b[0mx_train_valid\u001b[0m\u001b[0;34m)\u001b[0m\u001b[0;34m\u001b[0m\u001b[0;34m\u001b[0m\u001b[0m\n\u001b[1;32m     25\u001b[0m         \u001b[0moof\u001b[0m\u001b[0;34m[\u001b[0m\u001b[0mvalid_idx\u001b[0m\u001b[0;34m]\u001b[0m \u001b[0;34m=\u001b[0m \u001b[0moof_part\u001b[0m\u001b[0;34m\u001b[0m\u001b[0;34m\u001b[0m\u001b[0m\n",
      "\u001b[0;32m~/anaconda3/lib/python3.6/site-packages/sklearn/linear_model/_logistic.py\u001b[0m in \u001b[0;36mfit\u001b[0;34m(self, X, y, sample_weight)\u001b[0m\n\u001b[1;32m   1599\u001b[0m                       \u001b[0mpenalty\u001b[0m\u001b[0;34m=\u001b[0m\u001b[0mpenalty\u001b[0m\u001b[0;34m,\u001b[0m \u001b[0mmax_squared_sum\u001b[0m\u001b[0;34m=\u001b[0m\u001b[0mmax_squared_sum\u001b[0m\u001b[0;34m,\u001b[0m\u001b[0;34m\u001b[0m\u001b[0;34m\u001b[0m\u001b[0m\n\u001b[1;32m   1600\u001b[0m                       sample_weight=sample_weight)\n\u001b[0;32m-> 1601\u001b[0;31m             for class_, warm_start_coef_ in zip(classes_, warm_start_coef))\n\u001b[0m\u001b[1;32m   1602\u001b[0m \u001b[0;34m\u001b[0m\u001b[0m\n\u001b[1;32m   1603\u001b[0m         \u001b[0mfold_coefs_\u001b[0m\u001b[0;34m,\u001b[0m \u001b[0m_\u001b[0m\u001b[0;34m,\u001b[0m \u001b[0mn_iter_\u001b[0m \u001b[0;34m=\u001b[0m \u001b[0mzip\u001b[0m\u001b[0;34m(\u001b[0m\u001b[0;34m*\u001b[0m\u001b[0mfold_coefs_\u001b[0m\u001b[0;34m)\u001b[0m\u001b[0;34m\u001b[0m\u001b[0;34m\u001b[0m\u001b[0m\n",
      "\u001b[0;32m~/anaconda3/lib/python3.6/site-packages/joblib/parallel.py\u001b[0m in \u001b[0;36m__call__\u001b[0;34m(self, iterable)\u001b[0m\n\u001b[1;32m   1002\u001b[0m             \u001b[0;31m# remaining jobs.\u001b[0m\u001b[0;34m\u001b[0m\u001b[0;34m\u001b[0m\u001b[0;34m\u001b[0m\u001b[0m\n\u001b[1;32m   1003\u001b[0m             \u001b[0mself\u001b[0m\u001b[0;34m.\u001b[0m\u001b[0m_iterating\u001b[0m \u001b[0;34m=\u001b[0m \u001b[0;32mFalse\u001b[0m\u001b[0;34m\u001b[0m\u001b[0;34m\u001b[0m\u001b[0m\n\u001b[0;32m-> 1004\u001b[0;31m             \u001b[0;32mif\u001b[0m \u001b[0mself\u001b[0m\u001b[0;34m.\u001b[0m\u001b[0mdispatch_one_batch\u001b[0m\u001b[0;34m(\u001b[0m\u001b[0miterator\u001b[0m\u001b[0;34m)\u001b[0m\u001b[0;34m:\u001b[0m\u001b[0;34m\u001b[0m\u001b[0;34m\u001b[0m\u001b[0m\n\u001b[0m\u001b[1;32m   1005\u001b[0m                 \u001b[0mself\u001b[0m\u001b[0;34m.\u001b[0m\u001b[0m_iterating\u001b[0m \u001b[0;34m=\u001b[0m \u001b[0mself\u001b[0m\u001b[0;34m.\u001b[0m\u001b[0m_original_iterator\u001b[0m \u001b[0;32mis\u001b[0m \u001b[0;32mnot\u001b[0m \u001b[0;32mNone\u001b[0m\u001b[0;34m\u001b[0m\u001b[0;34m\u001b[0m\u001b[0m\n\u001b[1;32m   1006\u001b[0m \u001b[0;34m\u001b[0m\u001b[0m\n",
      "\u001b[0;32m~/anaconda3/lib/python3.6/site-packages/joblib/parallel.py\u001b[0m in \u001b[0;36mdispatch_one_batch\u001b[0;34m(self, iterator)\u001b[0m\n\u001b[1;32m    833\u001b[0m                 \u001b[0;32mreturn\u001b[0m \u001b[0;32mFalse\u001b[0m\u001b[0;34m\u001b[0m\u001b[0;34m\u001b[0m\u001b[0m\n\u001b[1;32m    834\u001b[0m             \u001b[0;32melse\u001b[0m\u001b[0;34m:\u001b[0m\u001b[0;34m\u001b[0m\u001b[0;34m\u001b[0m\u001b[0m\n\u001b[0;32m--> 835\u001b[0;31m                 \u001b[0mself\u001b[0m\u001b[0;34m.\u001b[0m\u001b[0m_dispatch\u001b[0m\u001b[0;34m(\u001b[0m\u001b[0mtasks\u001b[0m\u001b[0;34m)\u001b[0m\u001b[0;34m\u001b[0m\u001b[0;34m\u001b[0m\u001b[0m\n\u001b[0m\u001b[1;32m    836\u001b[0m                 \u001b[0;32mreturn\u001b[0m \u001b[0;32mTrue\u001b[0m\u001b[0;34m\u001b[0m\u001b[0;34m\u001b[0m\u001b[0m\n\u001b[1;32m    837\u001b[0m \u001b[0;34m\u001b[0m\u001b[0m\n",
      "\u001b[0;32m~/anaconda3/lib/python3.6/site-packages/joblib/parallel.py\u001b[0m in \u001b[0;36m_dispatch\u001b[0;34m(self, batch)\u001b[0m\n\u001b[1;32m    752\u001b[0m         \u001b[0;32mwith\u001b[0m \u001b[0mself\u001b[0m\u001b[0;34m.\u001b[0m\u001b[0m_lock\u001b[0m\u001b[0;34m:\u001b[0m\u001b[0;34m\u001b[0m\u001b[0;34m\u001b[0m\u001b[0m\n\u001b[1;32m    753\u001b[0m             \u001b[0mjob_idx\u001b[0m \u001b[0;34m=\u001b[0m \u001b[0mlen\u001b[0m\u001b[0;34m(\u001b[0m\u001b[0mself\u001b[0m\u001b[0;34m.\u001b[0m\u001b[0m_jobs\u001b[0m\u001b[0;34m)\u001b[0m\u001b[0;34m\u001b[0m\u001b[0;34m\u001b[0m\u001b[0m\n\u001b[0;32m--> 754\u001b[0;31m             \u001b[0mjob\u001b[0m \u001b[0;34m=\u001b[0m \u001b[0mself\u001b[0m\u001b[0;34m.\u001b[0m\u001b[0m_backend\u001b[0m\u001b[0;34m.\u001b[0m\u001b[0mapply_async\u001b[0m\u001b[0;34m(\u001b[0m\u001b[0mbatch\u001b[0m\u001b[0;34m,\u001b[0m \u001b[0mcallback\u001b[0m\u001b[0;34m=\u001b[0m\u001b[0mcb\u001b[0m\u001b[0;34m)\u001b[0m\u001b[0;34m\u001b[0m\u001b[0;34m\u001b[0m\u001b[0m\n\u001b[0m\u001b[1;32m    755\u001b[0m             \u001b[0;31m# A job can complete so quickly than its callback is\u001b[0m\u001b[0;34m\u001b[0m\u001b[0;34m\u001b[0m\u001b[0;34m\u001b[0m\u001b[0m\n\u001b[1;32m    756\u001b[0m             \u001b[0;31m# called before we get here, causing self._jobs to\u001b[0m\u001b[0;34m\u001b[0m\u001b[0;34m\u001b[0m\u001b[0;34m\u001b[0m\u001b[0m\n",
      "\u001b[0;32m~/anaconda3/lib/python3.6/site-packages/joblib/_parallel_backends.py\u001b[0m in \u001b[0;36mapply_async\u001b[0;34m(self, func, callback)\u001b[0m\n\u001b[1;32m    207\u001b[0m     \u001b[0;32mdef\u001b[0m \u001b[0mapply_async\u001b[0m\u001b[0;34m(\u001b[0m\u001b[0mself\u001b[0m\u001b[0;34m,\u001b[0m \u001b[0mfunc\u001b[0m\u001b[0;34m,\u001b[0m \u001b[0mcallback\u001b[0m\u001b[0;34m=\u001b[0m\u001b[0;32mNone\u001b[0m\u001b[0;34m)\u001b[0m\u001b[0;34m:\u001b[0m\u001b[0;34m\u001b[0m\u001b[0;34m\u001b[0m\u001b[0m\n\u001b[1;32m    208\u001b[0m         \u001b[0;34m\"\"\"Schedule a func to be run\"\"\"\u001b[0m\u001b[0;34m\u001b[0m\u001b[0;34m\u001b[0m\u001b[0m\n\u001b[0;32m--> 209\u001b[0;31m         \u001b[0mresult\u001b[0m \u001b[0;34m=\u001b[0m \u001b[0mImmediateResult\u001b[0m\u001b[0;34m(\u001b[0m\u001b[0mfunc\u001b[0m\u001b[0;34m)\u001b[0m\u001b[0;34m\u001b[0m\u001b[0;34m\u001b[0m\u001b[0m\n\u001b[0m\u001b[1;32m    210\u001b[0m         \u001b[0;32mif\u001b[0m \u001b[0mcallback\u001b[0m\u001b[0;34m:\u001b[0m\u001b[0;34m\u001b[0m\u001b[0;34m\u001b[0m\u001b[0m\n\u001b[1;32m    211\u001b[0m             \u001b[0mcallback\u001b[0m\u001b[0;34m(\u001b[0m\u001b[0mresult\u001b[0m\u001b[0;34m)\u001b[0m\u001b[0;34m\u001b[0m\u001b[0;34m\u001b[0m\u001b[0m\n",
      "\u001b[0;32m~/anaconda3/lib/python3.6/site-packages/joblib/_parallel_backends.py\u001b[0m in \u001b[0;36m__init__\u001b[0;34m(self, batch)\u001b[0m\n\u001b[1;32m    588\u001b[0m         \u001b[0;31m# Don't delay the application, to avoid keeping the input\u001b[0m\u001b[0;34m\u001b[0m\u001b[0;34m\u001b[0m\u001b[0;34m\u001b[0m\u001b[0m\n\u001b[1;32m    589\u001b[0m         \u001b[0;31m# arguments in memory\u001b[0m\u001b[0;34m\u001b[0m\u001b[0;34m\u001b[0m\u001b[0;34m\u001b[0m\u001b[0m\n\u001b[0;32m--> 590\u001b[0;31m         \u001b[0mself\u001b[0m\u001b[0;34m.\u001b[0m\u001b[0mresults\u001b[0m \u001b[0;34m=\u001b[0m \u001b[0mbatch\u001b[0m\u001b[0;34m(\u001b[0m\u001b[0;34m)\u001b[0m\u001b[0;34m\u001b[0m\u001b[0;34m\u001b[0m\u001b[0m\n\u001b[0m\u001b[1;32m    591\u001b[0m \u001b[0;34m\u001b[0m\u001b[0m\n\u001b[1;32m    592\u001b[0m     \u001b[0;32mdef\u001b[0m \u001b[0mget\u001b[0m\u001b[0;34m(\u001b[0m\u001b[0mself\u001b[0m\u001b[0;34m)\u001b[0m\u001b[0;34m:\u001b[0m\u001b[0;34m\u001b[0m\u001b[0;34m\u001b[0m\u001b[0m\n",
      "\u001b[0;32m~/anaconda3/lib/python3.6/site-packages/joblib/parallel.py\u001b[0m in \u001b[0;36m__call__\u001b[0;34m(self)\u001b[0m\n\u001b[1;32m    254\u001b[0m         \u001b[0;32mwith\u001b[0m \u001b[0mparallel_backend\u001b[0m\u001b[0;34m(\u001b[0m\u001b[0mself\u001b[0m\u001b[0;34m.\u001b[0m\u001b[0m_backend\u001b[0m\u001b[0;34m,\u001b[0m \u001b[0mn_jobs\u001b[0m\u001b[0;34m=\u001b[0m\u001b[0mself\u001b[0m\u001b[0;34m.\u001b[0m\u001b[0m_n_jobs\u001b[0m\u001b[0;34m)\u001b[0m\u001b[0;34m:\u001b[0m\u001b[0;34m\u001b[0m\u001b[0;34m\u001b[0m\u001b[0m\n\u001b[1;32m    255\u001b[0m             return [func(*args, **kwargs)\n\u001b[0;32m--> 256\u001b[0;31m                     for func, args, kwargs in self.items]\n\u001b[0m\u001b[1;32m    257\u001b[0m \u001b[0;34m\u001b[0m\u001b[0m\n\u001b[1;32m    258\u001b[0m     \u001b[0;32mdef\u001b[0m \u001b[0m__len__\u001b[0m\u001b[0;34m(\u001b[0m\u001b[0mself\u001b[0m\u001b[0;34m)\u001b[0m\u001b[0;34m:\u001b[0m\u001b[0;34m\u001b[0m\u001b[0;34m\u001b[0m\u001b[0m\n",
      "\u001b[0;32m~/anaconda3/lib/python3.6/site-packages/joblib/parallel.py\u001b[0m in \u001b[0;36m<listcomp>\u001b[0;34m(.0)\u001b[0m\n\u001b[1;32m    254\u001b[0m         \u001b[0;32mwith\u001b[0m \u001b[0mparallel_backend\u001b[0m\u001b[0;34m(\u001b[0m\u001b[0mself\u001b[0m\u001b[0;34m.\u001b[0m\u001b[0m_backend\u001b[0m\u001b[0;34m,\u001b[0m \u001b[0mn_jobs\u001b[0m\u001b[0;34m=\u001b[0m\u001b[0mself\u001b[0m\u001b[0;34m.\u001b[0m\u001b[0m_n_jobs\u001b[0m\u001b[0;34m)\u001b[0m\u001b[0;34m:\u001b[0m\u001b[0;34m\u001b[0m\u001b[0;34m\u001b[0m\u001b[0m\n\u001b[1;32m    255\u001b[0m             return [func(*args, **kwargs)\n\u001b[0;32m--> 256\u001b[0;31m                     for func, args, kwargs in self.items]\n\u001b[0m\u001b[1;32m    257\u001b[0m \u001b[0;34m\u001b[0m\u001b[0m\n\u001b[1;32m    258\u001b[0m     \u001b[0;32mdef\u001b[0m \u001b[0m__len__\u001b[0m\u001b[0;34m(\u001b[0m\u001b[0mself\u001b[0m\u001b[0;34m)\u001b[0m\u001b[0;34m:\u001b[0m\u001b[0;34m\u001b[0m\u001b[0;34m\u001b[0m\u001b[0m\n",
      "\u001b[0;32m~/anaconda3/lib/python3.6/site-packages/sklearn/linear_model/_logistic.py\u001b[0m in \u001b[0;36m_logistic_regression_path\u001b[0;34m(X, y, pos_class, Cs, fit_intercept, max_iter, tol, verbose, solver, coef, class_weight, dual, penalty, intercept_scaling, multi_class, random_state, check_input, max_squared_sum, sample_weight, l1_ratio)\u001b[0m\n\u001b[1;32m    975\u001b[0m                 \u001b[0mbeta\u001b[0m\u001b[0;34m,\u001b[0m \u001b[0mmax_iter\u001b[0m\u001b[0;34m,\u001b[0m \u001b[0mtol\u001b[0m\u001b[0;34m,\u001b[0m\u001b[0;34m\u001b[0m\u001b[0;34m\u001b[0m\u001b[0m\n\u001b[1;32m    976\u001b[0m                 \u001b[0mverbose\u001b[0m\u001b[0;34m,\u001b[0m \u001b[0mrandom_state\u001b[0m\u001b[0;34m,\u001b[0m \u001b[0;32mFalse\u001b[0m\u001b[0;34m,\u001b[0m \u001b[0mmax_squared_sum\u001b[0m\u001b[0;34m,\u001b[0m \u001b[0mwarm_start_sag\u001b[0m\u001b[0;34m,\u001b[0m\u001b[0;34m\u001b[0m\u001b[0;34m\u001b[0m\u001b[0m\n\u001b[0;32m--> 977\u001b[0;31m                 is_saga=(solver == 'saga'))\n\u001b[0m\u001b[1;32m    978\u001b[0m \u001b[0;34m\u001b[0m\u001b[0m\n\u001b[1;32m    979\u001b[0m         \u001b[0;32melse\u001b[0m\u001b[0;34m:\u001b[0m\u001b[0;34m\u001b[0m\u001b[0;34m\u001b[0m\u001b[0m\n",
      "\u001b[0;32m~/anaconda3/lib/python3.6/site-packages/sklearn/linear_model/_sag.py\u001b[0m in \u001b[0;36msag_solver\u001b[0;34m(X, y, sample_weight, loss, alpha, beta, max_iter, tol, verbose, random_state, check_input, max_squared_sum, warm_start_mem, is_saga)\u001b[0m\n\u001b[1;32m    324\u001b[0m                             \u001b[0mintercept_decay\u001b[0m\u001b[0;34m,\u001b[0m\u001b[0;34m\u001b[0m\u001b[0;34m\u001b[0m\u001b[0m\n\u001b[1;32m    325\u001b[0m                             \u001b[0mis_saga\u001b[0m\u001b[0;34m,\u001b[0m\u001b[0;34m\u001b[0m\u001b[0;34m\u001b[0m\u001b[0m\n\u001b[0;32m--> 326\u001b[0;31m                             verbose)\n\u001b[0m\u001b[1;32m    327\u001b[0m \u001b[0;34m\u001b[0m\u001b[0m\n\u001b[1;32m    328\u001b[0m     \u001b[0;32mif\u001b[0m \u001b[0mn_iter_\u001b[0m \u001b[0;34m==\u001b[0m \u001b[0mmax_iter\u001b[0m\u001b[0;34m:\u001b[0m\u001b[0;34m\u001b[0m\u001b[0;34m\u001b[0m\u001b[0m\n",
      "\u001b[0;31mKeyboardInterrupt\u001b[0m: "
     ]
    }
   ],
   "source": [
    "study = optuna.create_study(direction='maximize')\n",
    "study.optimize(objective, n_trials=30)"
   ]
  },
  {
   "cell_type": "code",
   "execution_count": null,
   "metadata": {},
   "outputs": [],
   "source": [
    "study.best_score\n",
    "study.best_trial.value"
   ]
  },
  {
   "cell_type": "code",
   "execution_count": null,
   "metadata": {},
   "outputs": [],
   "source": [
    "lr_params = {'penalty': 'l2', 'C': 1.146016100950042, 'solver': 'saga', 'max_iter': 254}"
   ]
  },
  {
   "cell_type": "code",
   "execution_count": 128,
   "metadata": {},
   "outputs": [
    {
     "name": "stderr",
     "output_type": "stream",
     "text": [
      "/home/vsevolod/anaconda3/lib/python3.6/site-packages/sklearn/linear_model/_sag.py:330: ConvergenceWarning:\n",
      "\n",
      "The max_iter was reached which means the coef_ did not converge\n",
      "\n"
     ]
    },
    {
     "data": {
      "text/plain": [
       "0.828"
      ]
     },
     "execution_count": 128,
     "metadata": {},
     "output_type": "execute_result"
    }
   ],
   "source": [
    "\n",
    "estimator = linear_model.LogisticRegression(**lr_params)\n",
    "estimator.fit(train_df_scaled, y_train)\n",
    "lr_preds = estimator.predict(dev_df_scaled)\n",
    "lr_preds_proba = estimator.predict_proba(dev_df_scaled)\n",
    "accuracy_score(y_dev, lr_preds)"
   ]
  },
  {
   "cell_type": "code",
   "execution_count": 130,
   "metadata": {},
   "outputs": [
    {
     "data": {
      "text/plain": [
       "0.9123479999999999"
      ]
     },
     "execution_count": 130,
     "metadata": {},
     "output_type": "execute_result"
    }
   ],
   "source": [
    "roc_auc_score(y_dev, lr_preds_proba[:, 1])"
   ]
  },
  {
   "cell_type": "markdown",
   "metadata": {},
   "source": [
    "# Blend all"
   ]
  },
  {
   "cell_type": "code",
   "execution_count": 131,
   "metadata": {},
   "outputs": [],
   "source": [
    "lr_score = 0.74\n",
    "lgbm_score = 0.822\n",
    "rf_score = 0.8125"
   ]
  },
  {
   "cell_type": "code",
   "execution_count": 132,
   "metadata": {},
   "outputs": [
    {
     "data": {
      "text/plain": [
       "0.845"
      ]
     },
     "execution_count": 132,
     "metadata": {},
     "output_type": "execute_result"
    }
   ],
   "source": [
    "accuracy_score(y_dev, (((lr_preds_proba[:, 1] * lr_score + rf_preds_proba[:, 1] * rf_score + lgbm_probs * lgbm_score) \\\n",
    "                        / (lr_score + rf_score + lgbm_score)) > 0.5).astype(int))"
   ]
  },
  {
   "cell_type": "code",
   "execution_count": 133,
   "metadata": {},
   "outputs": [],
   "source": [
    "# Blend Best"
   ]
  },
  {
   "cell_type": "code",
   "execution_count": 134,
   "metadata": {},
   "outputs": [
    {
     "data": {
      "text/plain": [
       "0.853"
      ]
     },
     "execution_count": 134,
     "metadata": {},
     "output_type": "execute_result"
    }
   ],
   "source": [
    "accuracy_score(y_dev,(((lgbm_probs * 0.822 + rf_preds_proba[:, 1] * 0.8125) \\\n",
    "                       / (0.822 + 0.8125)) > 0.5).astype(int))"
   ]
  },
  {
   "cell_type": "code",
   "execution_count": null,
   "metadata": {},
   "outputs": [],
   "source": []
  }
 ],
 "metadata": {
  "kernelspec": {
   "display_name": "Python 3",
   "language": "python",
   "name": "python3"
  },
  "language_info": {
   "codemirror_mode": {
    "name": "ipython",
    "version": 3
   },
   "file_extension": ".py",
   "mimetype": "text/x-python",
   "name": "python",
   "nbconvert_exporter": "python",
   "pygments_lexer": "ipython3",
   "version": "3.6.10"
  }
 },
 "nbformat": 4,
 "nbformat_minor": 4
}
